{
  "nbformat": 4,
  "nbformat_minor": 0,
  "metadata": {
    "colab": {
      "name": "ENCS313 - Python Experiment 10.ipynb",
      "provenance": [],
      "collapsed_sections": [],
      "authorship_tag": "ABX9TyMOP6oBeXLIqf1HbsSNQqNZ",
      "include_colab_link": true
    },
    "kernelspec": {
      "name": "python3",
      "display_name": "Python 3"
    },
    "language_info": {
      "name": "python"
    }
  },
  "cells": [
    {
      "cell_type": "markdown",
      "metadata": {
        "id": "view-in-github",
        "colab_type": "text"
      },
      "source": [
        "<a href=\"https://colab.research.google.com/github/mkjubran/IntroToPython-NonIT/blob/main/ENCS313_Python_Experiment_10.ipynb\" target=\"_parent\"><img src=\"https://colab.research.google.com/assets/colab-badge.svg\" alt=\"Open In Colab\"/></a>"
      ]
    },
    {
      "cell_type": "markdown",
      "metadata": {
        "id": "z8wDzR3q6lTV"
      },
      "source": [
        "## Experiment 10: Learning & Programming Python\n"
      ]
    },
    {
      "cell_type": "markdown",
      "metadata": {
        "id": "8-iXK3ga6q9h"
      },
      "source": [
        "Example #1\n"
      ]
    },
    {
      "cell_type": "code",
      "metadata": {
        "colab": {
          "base_uri": "https://localhost:8080/"
        },
        "id": "ZwcjUEdJ6YR0",
        "outputId": "ca051b58-1bde-4800-bb48-d5fd1c838907"
      },
      "source": [
        "import numpy as np \n",
        "a = np.array([1, 2, 3]) \n",
        "print(type(a)) \n",
        "print(a.shape) \n",
        "print(a[0], a[1], a[2]) \n",
        "a[0] = 5\n",
        "print(a)\n",
        "b = np.array([[1,2,3],[4,5,6]]) \n",
        "print(b.shape)\n",
        "print(b[0, 0], b[0, 1], b[1, 0])"
      ],
      "execution_count": 3,
      "outputs": [
        {
          "output_type": "stream",
          "text": [
            "<class 'numpy.ndarray'>\n",
            "(3,)\n",
            "1 2 3\n",
            "[5 2 3]\n",
            "(2, 3)\n",
            "1 2 4\n"
          ],
          "name": "stdout"
        }
      ]
    },
    {
      "cell_type": "markdown",
      "metadata": {
        "id": "oUDyXadt7INl"
      },
      "source": [
        "Example #2"
      ]
    },
    {
      "cell_type": "code",
      "metadata": {
        "colab": {
          "base_uri": "https://localhost:8080/"
        },
        "id": "G4CXa0KR7Juc",
        "outputId": "2ef33d62-c6e8-4ac0-895f-e6e5e2c536f5"
      },
      "source": [
        "a = np.zeros((2,2)) \n",
        "print(a)\n",
        "b = np.ones((1,2))\n",
        "print(b)\n",
        "c = np.full((2,2), 7,dtype=\"int64\")\n",
        "print(c)\n",
        "d = np.eye(2) \n",
        "print(d)\n",
        "e=np.random.random((2,2))\n",
        "print(e)"
      ],
      "execution_count": 4,
      "outputs": [
        {
          "output_type": "stream",
          "text": [
            "[[0. 0.]\n",
            " [0. 0.]]\n",
            "[[1. 1.]]\n",
            "[[7 7]\n",
            " [7 7]]\n",
            "[[1. 0.]\n",
            " [0. 1.]]\n",
            "[[0.25181312 0.09736926]\n",
            " [0.48720531 0.65236808]]\n"
          ],
          "name": "stdout"
        }
      ]
    },
    {
      "cell_type": "markdown",
      "metadata": {
        "id": "vwuTlyqi7dqf"
      },
      "source": [
        "Example #3"
      ]
    },
    {
      "cell_type": "code",
      "metadata": {
        "colab": {
          "base_uri": "https://localhost:8080/"
        },
        "id": "pN0tXyxI7fYa",
        "outputId": "2f4b5636-33bc-4eb2-c47d-ddb613fb5db9"
      },
      "source": [
        "import numpy as np\n",
        "a = np.array([[1,2,3,4], [5,6,7,8], [9,10,11,12]]) \n",
        "b = a[:2, 1:3]\n",
        "print(a[0, 1])\n",
        "b[0, 0] = 77\n",
        "print(a[0, 1])"
      ],
      "execution_count": 6,
      "outputs": [
        {
          "output_type": "stream",
          "text": [
            "2\n",
            "77\n"
          ],
          "name": "stdout"
        }
      ]
    },
    {
      "cell_type": "markdown",
      "metadata": {
        "id": "Z4EKURcx8D3q"
      },
      "source": [
        "Example #4"
      ]
    },
    {
      "cell_type": "code",
      "metadata": {
        "colab": {
          "base_uri": "https://localhost:8080/"
        },
        "id": "kTN5mIFs7orK",
        "outputId": "a01f1625-361f-4b13-fe18-831462448fdf"
      },
      "source": [
        "a = np.array([[1,2,3,4], [5,6,7,8], [9,10,11,12]])\n",
        "row_r1 = a[1, :]\n",
        "row_r2 = a[1:3, :]\n",
        "print(row_r1, row_r1.shape)\n",
        "print(row_r2, row_r2.shape)\n",
        "col_r1 = a[:, 1]\n",
        "col_r2 = a[:, 1:2]\n",
        "print(col_r1, col_r1.shape)\n",
        "print(col_r2, col_r2.shape)"
      ],
      "execution_count": 9,
      "outputs": [
        {
          "output_type": "stream",
          "text": [
            "[5 6 7 8] (4,)\n",
            "[[ 5  6  7  8]\n",
            " [ 9 10 11 12]] (2, 4)\n",
            "[ 2  6 10] (3,)\n",
            "[[ 2]\n",
            " [ 6]\n",
            " [10]] (3, 1)\n"
          ],
          "name": "stdout"
        }
      ]
    },
    {
      "cell_type": "markdown",
      "metadata": {
        "id": "rK5Ix2VB8GPL"
      },
      "source": [
        "Example #5"
      ]
    },
    {
      "cell_type": "code",
      "metadata": {
        "id": "dqTfs2F08Gzv"
      },
      "source": [
        "a = np.array([[1,2], [3, 4], [5, 6]])\n",
        "print(a[[0, 1, 2], [0, 1, 0]]) # Prints \"[1 4 5]\" \n",
        "print(np.array([a[0, 0], a[1, 1], a[2, 0]])) # Prints \"[1 4 5]\" \n",
        "print(a[[0, 0], [1, 1]]) # Prints \"[2 2]\" \n",
        "print(np.array([a[0, 1], a[0, 1]]))"
      ],
      "execution_count": null,
      "outputs": []
    },
    {
      "cell_type": "markdown",
      "metadata": {
        "id": "fGvFP3VR8S2n"
      },
      "source": [
        "Example #6"
      ]
    },
    {
      "cell_type": "code",
      "metadata": {
        "colab": {
          "base_uri": "https://localhost:8080/"
        },
        "id": "9gjls_6E8ZD6",
        "outputId": "ee136d19-114d-4d66-93e3-feb30936d3e5"
      },
      "source": [
        "a = np.array([[1,2,3], [4,5,6], [7,8,9], [10, 11, 12]])\n",
        "print(a)\n",
        "b = np.array([0, 2, 0, 1])\n",
        "print(a[np.arange(4), b]) # Prints \"[ 1 6 7 11]\" a[np.arange(4), b] += 10\n",
        "print(a) # prints \"array([[11, 2, 3],"
      ],
      "execution_count": 10,
      "outputs": [
        {
          "output_type": "stream",
          "text": [
            "[[ 1  2  3]\n",
            " [ 4  5  6]\n",
            " [ 7  8  9]\n",
            " [10 11 12]]\n",
            "[ 1  6  7 11]\n",
            "[[ 1  2  3]\n",
            " [ 4  5  6]\n",
            " [ 7  8  9]\n",
            " [10 11 12]]\n"
          ],
          "name": "stdout"
        }
      ]
    },
    {
      "cell_type": "markdown",
      "metadata": {
        "id": "Hnhg9viu8fg-"
      },
      "source": [
        "Example #7"
      ]
    },
    {
      "cell_type": "code",
      "metadata": {
        "colab": {
          "base_uri": "https://localhost:8080/"
        },
        "id": "bdLbGSTF8hYr",
        "outputId": "c6d8f9a9-3b5a-4b06-b46d-38fdb73a2de0"
      },
      "source": [
        "a = np.array([[1,2], [3, 4], [5, 6]])\n",
        "bool_idx = (a > 2)\n",
        "print(bool_idx) # Prints \"[[False False] # [ True True]\n",
        "print(a[a > 2]) # Prints \"[3 4 5 6]\"\n",
        "print(a[bool_idx]) #Prints\"[3456]\""
      ],
      "execution_count": 11,
      "outputs": [
        {
          "output_type": "stream",
          "text": [
            "[[False False]\n",
            " [ True  True]\n",
            " [ True  True]]\n",
            "[3 4 5 6]\n",
            "[3 4 5 6]\n"
          ],
          "name": "stdout"
        }
      ]
    },
    {
      "cell_type": "markdown",
      "metadata": {
        "id": "RlAFnmaj8p1t"
      },
      "source": [
        "Example #8"
      ]
    },
    {
      "cell_type": "code",
      "metadata": {
        "id": "iZ4UDl9h8rXw"
      },
      "source": [
        "\n",
        "x = np.array([1, 2]) \n",
        "print (x.dtype)\n",
        "x = np.array([1.0, 2.0]) \n",
        "print (x.dtype)\n",
        "x = np.array([1, 2], dtype=np.int64) # Force a particular datatype \n",
        "print (x.dtype) # Prints \"int64\""
      ],
      "execution_count": null,
      "outputs": []
    },
    {
      "cell_type": "markdown",
      "metadata": {
        "id": "413Fd9CU83mz"
      },
      "source": [
        "Example #9"
      ]
    },
    {
      "cell_type": "code",
      "metadata": {
        "id": "4m9oZ2hw85XH"
      },
      "source": [
        "\n",
        "x = np.array([[1,2],[3,4]], dtype=np.float64) \n",
        "y = np.array([[5,6],[7,8]], dtype=np.float64)\n",
        "\n",
        "print(x + y)\n",
        "print(np.add(x, y))\n",
        "\n",
        "print(x - y)\n",
        "print(np.subtract(x, y))\n",
        "\n",
        "print(x * y)\n",
        "print(np.multiply(x, y))\n",
        "\n",
        "print(x / y)\n",
        "print(np.divide(x, y))\n",
        "\n",
        "print(np.sqrt(x))"
      ],
      "execution_count": null,
      "outputs": []
    },
    {
      "cell_type": "markdown",
      "metadata": {
        "id": "bWTKzUMM9Lmf"
      },
      "source": [
        "Example #10"
      ]
    },
    {
      "cell_type": "code",
      "metadata": {
        "id": "v0BJ25zo9NfI"
      },
      "source": [
        "x = np.array([[1,2],[3,4]]) \n",
        "y = np.array([[5,6],[7,8]]) \n",
        "v = np.array([9,10])\n",
        "w = np.array([11, 12]) \n",
        "print(v.dot(w)) \n",
        "print(np.dot(v, w)) \n",
        "print(x.dot(v)) \n",
        "print(np.dot(x, v)) \n",
        "print(x.dot(y)) \n",
        "print(np.dot(x, y))"
      ],
      "execution_count": null,
      "outputs": []
    },
    {
      "cell_type": "markdown",
      "metadata": {
        "id": "tGRxGOTZ9WT-"
      },
      "source": [
        "Example #11"
      ]
    },
    {
      "cell_type": "code",
      "metadata": {
        "id": "okmwnlSv9iRQ"
      },
      "source": [
        "#Write your code here\n"
      ],
      "execution_count": null,
      "outputs": []
    },
    {
      "cell_type": "markdown",
      "metadata": {
        "id": "Yq__2V2f9kFI"
      },
      "source": [
        "Example #12"
      ]
    },
    {
      "cell_type": "code",
      "metadata": {
        "id": "Odq3HEvE9ioi"
      },
      "source": [
        "#Write your code \n"
      ],
      "execution_count": null,
      "outputs": []
    },
    {
      "cell_type": "markdown",
      "metadata": {
        "id": "4lmUS9ZJ9kPj"
      },
      "source": [
        "Example #13"
      ]
    },
    {
      "cell_type": "code",
      "metadata": {
        "id": "_ttQL8qW9YF_"
      },
      "source": [
        "#Write your code here\n"
      ],
      "execution_count": null,
      "outputs": []
    },
    {
      "cell_type": "markdown",
      "metadata": {
        "id": "zPZv8IN99k4j"
      },
      "source": [
        "Example #14"
      ]
    },
    {
      "cell_type": "code",
      "metadata": {
        "id": "Dm6O2GaW9gbP"
      },
      "source": [
        "#Write your code here\n"
      ],
      "execution_count": null,
      "outputs": []
    },
    {
      "cell_type": "markdown",
      "metadata": {
        "id": "k--m0dsg9k8P"
      },
      "source": [
        "Example #15"
      ]
    },
    {
      "cell_type": "code",
      "metadata": {
        "id": "lQs9XKyJ9gyq"
      },
      "source": [
        "#Write your code here\n"
      ],
      "execution_count": null,
      "outputs": []
    },
    {
      "cell_type": "markdown",
      "metadata": {
        "id": "DSiauMbK9k_L"
      },
      "source": [
        "Example #16"
      ]
    },
    {
      "cell_type": "code",
      "metadata": {
        "id": "Gk085BZH9hAD"
      },
      "source": [
        "#Write your code here\n"
      ],
      "execution_count": null,
      "outputs": []
    },
    {
      "cell_type": "markdown",
      "metadata": {
        "id": "SP1PA_uS931V"
      },
      "source": [
        "Example #17"
      ]
    },
    {
      "cell_type": "code",
      "metadata": {
        "id": "1LQzlMY-9hHA"
      },
      "source": [
        "#Write your code here\n"
      ],
      "execution_count": null,
      "outputs": []
    },
    {
      "cell_type": "markdown",
      "metadata": {
        "id": "80kjRbto94VL"
      },
      "source": [
        "Example #18"
      ]
    },
    {
      "cell_type": "code",
      "metadata": {
        "id": "28LnaRuM9hNc"
      },
      "source": [
        "#Write your code here\n"
      ],
      "execution_count": null,
      "outputs": []
    },
    {
      "cell_type": "markdown",
      "metadata": {
        "id": "1ZgLySMh94eH"
      },
      "source": [
        "Example #19"
      ]
    },
    {
      "cell_type": "code",
      "metadata": {
        "id": "1iZjf0yx9hTZ"
      },
      "source": [
        "#Write your code here\n"
      ],
      "execution_count": null,
      "outputs": []
    },
    {
      "cell_type": "markdown",
      "metadata": {
        "id": "i5P-0BMN94og"
      },
      "source": [
        "Example #20"
      ]
    }
  ]
}
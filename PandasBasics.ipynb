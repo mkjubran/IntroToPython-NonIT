{
  "nbformat": 4,
  "nbformat_minor": 0,
  "metadata": {
    "colab": {
      "name": "PandasBasics.ipynb",
      "provenance": [],
      "collapsed_sections": [],
      "toc_visible": true,
      "authorship_tag": "ABX9TyNllaTuBDIbIQyHIORZZlvq",
      "include_colab_link": true
    },
    "kernelspec": {
      "name": "python3",
      "display_name": "Python 3"
    }
  },
  "cells": [
    {
      "cell_type": "markdown",
      "metadata": {
        "id": "view-in-github",
        "colab_type": "text"
      },
      "source": [
        "<a href=\"https://colab.research.google.com/github/mkjubran/IntroToPython-NonIT/blob/main/PandasBasics.ipynb\" target=\"_parent\"><img src=\"https://colab.research.google.com/assets/colab-badge.svg\" alt=\"Open In Colab\"/></a>"
      ]
    },
    {
      "cell_type": "markdown",
      "metadata": {
        "id": "dV2V4JBJvSKS"
      },
      "source": [
        "# Pandas Basics\n",
        "By the end of this tutorial, you will be able to:\n",
        "\n",
        "-       Read and store data using Pandas\n",
        "\n",
        "-       Manipulate data using Pandas"
      ]
    },
    {
      "cell_type": "markdown",
      "metadata": {
        "id": "EL-byoYVKzD6"
      },
      "source": [
        "# Pandas DataFrames"
      ]
    },
    {
      "cell_type": "markdown",
      "metadata": {
        "id": "hCVxetA2H3UG"
      },
      "source": [
        "Pandas is a high-level data manipulation tool. Its key data structure is called the DataFrame. DataFrames allow you to store and manipulate tabular data in rows of observations and columns of variables.\n",
        "\n",
        "There are several ways to create a DataFrame. One way way is to use a dictionary."
      ]
    },
    {
      "cell_type": "code",
      "metadata": {
        "id": "9sSNC75THqcW",
        "colab": {
          "base_uri": "https://localhost:8080/",
          "height": 309
        },
        "outputId": "d1df7ac0-3291-4f57-8850-f6f835cd0a62"
      },
      "source": [
        "dict = {\"country\": [\"Brazil\", \"Russia\", \"India\", \"China\", \"South Africa\"],\n",
        "       \"capital\": [\"Brasilia\", \"Moscow\", \"New Dehli\", \"Beijing\", \"Pretoria\"],\n",
        "       \"area\": [8.516, 17.10, 3.286, 9.597, 1.221],\n",
        "       \"population\": [200.4, 143.5, 1252, 1357, 52.98] }\n",
        "\n",
        "print('This is the dictionary data')\n",
        "print(dict)\n",
        "\n",
        "\n",
        "import pandas as pd  ## importing the pandas library\n",
        "\n",
        "\n",
        "brics = pd.DataFrame(dict) ## converting the dictionary data into pandas dataframe\n",
        "\n",
        "\n",
        "print('\\n\\nThis is the Pandas DataFrame')\n",
        "brics"
      ],
      "execution_count": 88,
      "outputs": [
        {
          "output_type": "stream",
          "text": [
            "This is the dictionary data\n",
            "{'country': ['Brazil', 'Russia', 'India', 'China', 'South Africa'], 'capital': ['Brasilia', 'Moscow', 'New Dehli', 'Beijing', 'Pretoria'], 'area': [8.516, 17.1, 3.286, 9.597, 1.221], 'population': [200.4, 143.5, 1252, 1357, 52.98]}\n",
            "\n",
            "\n",
            "This is the Pandas DataFrame\n"
          ],
          "name": "stdout"
        },
        {
          "output_type": "execute_result",
          "data": {
            "text/html": [
              "<div>\n",
              "<style scoped>\n",
              "    .dataframe tbody tr th:only-of-type {\n",
              "        vertical-align: middle;\n",
              "    }\n",
              "\n",
              "    .dataframe tbody tr th {\n",
              "        vertical-align: top;\n",
              "    }\n",
              "\n",
              "    .dataframe thead th {\n",
              "        text-align: right;\n",
              "    }\n",
              "</style>\n",
              "<table border=\"1\" class=\"dataframe\">\n",
              "  <thead>\n",
              "    <tr style=\"text-align: right;\">\n",
              "      <th></th>\n",
              "      <th>country</th>\n",
              "      <th>capital</th>\n",
              "      <th>area</th>\n",
              "      <th>population</th>\n",
              "    </tr>\n",
              "  </thead>\n",
              "  <tbody>\n",
              "    <tr>\n",
              "      <th>0</th>\n",
              "      <td>Brazil</td>\n",
              "      <td>Brasilia</td>\n",
              "      <td>8.516</td>\n",
              "      <td>200.40</td>\n",
              "    </tr>\n",
              "    <tr>\n",
              "      <th>1</th>\n",
              "      <td>Russia</td>\n",
              "      <td>Moscow</td>\n",
              "      <td>17.100</td>\n",
              "      <td>143.50</td>\n",
              "    </tr>\n",
              "    <tr>\n",
              "      <th>2</th>\n",
              "      <td>India</td>\n",
              "      <td>New Dehli</td>\n",
              "      <td>3.286</td>\n",
              "      <td>1252.00</td>\n",
              "    </tr>\n",
              "    <tr>\n",
              "      <th>3</th>\n",
              "      <td>China</td>\n",
              "      <td>Beijing</td>\n",
              "      <td>9.597</td>\n",
              "      <td>1357.00</td>\n",
              "    </tr>\n",
              "    <tr>\n",
              "      <th>4</th>\n",
              "      <td>South Africa</td>\n",
              "      <td>Pretoria</td>\n",
              "      <td>1.221</td>\n",
              "      <td>52.98</td>\n",
              "    </tr>\n",
              "  </tbody>\n",
              "</table>\n",
              "</div>"
            ],
            "text/plain": [
              "        country    capital    area  population\n",
              "0        Brazil   Brasilia   8.516      200.40\n",
              "1        Russia     Moscow  17.100      143.50\n",
              "2         India  New Dehli   3.286     1252.00\n",
              "3         China    Beijing   9.597     1357.00\n",
              "4  South Africa   Pretoria   1.221       52.98"
            ]
          },
          "metadata": {
            "tags": []
          },
          "execution_count": 88
        }
      ]
    },
    {
      "cell_type": "markdown",
      "metadata": {
        "id": "Tk-xLANgKFGd"
      },
      "source": [
        "**Exercise 1.1:** C??????"
      ]
    },
    {
      "cell_type": "code",
      "metadata": {
        "id": "bAdVl41uE4jC"
      },
      "source": [
        "## Write your code here\n"
      ],
      "execution_count": null,
      "outputs": []
    },
    {
      "cell_type": "markdown",
      "metadata": {
        "id": "8UBgyel9PZDm"
      },
      "source": [
        "Another way is by creating Dataframe from Series.\n",
        "\n",
        "Pandas Series is a one-dimensional labeled array capable of holding data of any type (integer, string, float, python objects, etc.). The axis labels are collectively called index. Pandas Series is nothing but a column in an excel sheet. Labels need not be unique but must be a hashable type. The object supports both integer and label-based indexing and provides a host of methods for performing operations involving the index. [2]"
      ]
    },
    {
      "cell_type": "code",
      "metadata": {
        "id": "ycFtepsvPX51",
        "colab": {
          "base_uri": "https://localhost:8080/",
          "height": 204
        },
        "outputId": "7f5f6be7-a34b-406a-b2d7-f33d23b0a3cc"
      },
      "source": [
        "import pandas as pd \n",
        "\n",
        "## creating lists\n",
        "country = [\"Brazil\", \"Russia\", \"India\", \"China\", \"South Africa\"] \n",
        "capital = [\"Brasilia\", \"Moscow\", \"New Dehli\", \"Beijing\", \"Pretoria\"]\n",
        "area = [8.516, 17.10, 3.286, 9.597, 1.221]\n",
        "population = [200.4, 143.5, 1252, 1357, 52.98]\n",
        "\n",
        "## converting lists to pandas series\n",
        "country_series = pd.Series(country) \n",
        "capital_series = pd.Series(capital) \n",
        "area_series = pd.Series(area) \n",
        "population_series = pd.Series(population) \n",
        "\n",
        "brics_dict = { 'country': country_series, 'capital': capital_series, 'area': area_series, 'population': population_series} \n",
        "  \n",
        "brics = pd.DataFrame(brics_dict) \n",
        "  \n",
        "brics"
      ],
      "execution_count": 89,
      "outputs": [
        {
          "output_type": "execute_result",
          "data": {
            "text/html": [
              "<div>\n",
              "<style scoped>\n",
              "    .dataframe tbody tr th:only-of-type {\n",
              "        vertical-align: middle;\n",
              "    }\n",
              "\n",
              "    .dataframe tbody tr th {\n",
              "        vertical-align: top;\n",
              "    }\n",
              "\n",
              "    .dataframe thead th {\n",
              "        text-align: right;\n",
              "    }\n",
              "</style>\n",
              "<table border=\"1\" class=\"dataframe\">\n",
              "  <thead>\n",
              "    <tr style=\"text-align: right;\">\n",
              "      <th></th>\n",
              "      <th>country</th>\n",
              "      <th>capital</th>\n",
              "      <th>area</th>\n",
              "      <th>population</th>\n",
              "    </tr>\n",
              "  </thead>\n",
              "  <tbody>\n",
              "    <tr>\n",
              "      <th>0</th>\n",
              "      <td>Brazil</td>\n",
              "      <td>Brasilia</td>\n",
              "      <td>8.516</td>\n",
              "      <td>200.40</td>\n",
              "    </tr>\n",
              "    <tr>\n",
              "      <th>1</th>\n",
              "      <td>Russia</td>\n",
              "      <td>Moscow</td>\n",
              "      <td>17.100</td>\n",
              "      <td>143.50</td>\n",
              "    </tr>\n",
              "    <tr>\n",
              "      <th>2</th>\n",
              "      <td>India</td>\n",
              "      <td>New Dehli</td>\n",
              "      <td>3.286</td>\n",
              "      <td>1252.00</td>\n",
              "    </tr>\n",
              "    <tr>\n",
              "      <th>3</th>\n",
              "      <td>China</td>\n",
              "      <td>Beijing</td>\n",
              "      <td>9.597</td>\n",
              "      <td>1357.00</td>\n",
              "    </tr>\n",
              "    <tr>\n",
              "      <th>4</th>\n",
              "      <td>South Africa</td>\n",
              "      <td>Pretoria</td>\n",
              "      <td>1.221</td>\n",
              "      <td>52.98</td>\n",
              "    </tr>\n",
              "  </tbody>\n",
              "</table>\n",
              "</div>"
            ],
            "text/plain": [
              "        country    capital    area  population\n",
              "0        Brazil   Brasilia   8.516      200.40\n",
              "1        Russia     Moscow  17.100      143.50\n",
              "2         India  New Dehli   3.286     1252.00\n",
              "3         China    Beijing   9.597     1357.00\n",
              "4  South Africa   Pretoria   1.221       52.98"
            ]
          },
          "metadata": {
            "tags": []
          },
          "execution_count": 89
        }
      ]
    },
    {
      "cell_type": "markdown",
      "metadata": {
        "id": "PLzd7MM1IZL8"
      },
      "source": [
        "In another way, a DataFrame can be created by importing a csv file using Pandas.\n",
        "\n",
        "First we need to upload/clone the carsprices.csv file."
      ]
    },
    {
      "cell_type": "code",
      "metadata": {
        "id": "f6nNum2ACbis",
        "colab": {
          "base_uri": "https://localhost:8080/"
        },
        "outputId": "6b781fc9-a05e-4521-c534-8e6280e05ca0"
      },
      "source": [
        "!rm -rf ./MachineLearning\n",
        "!git clone https://github.com/mkjubran/MachineLearning.git"
      ],
      "execution_count": 25,
      "outputs": [
        {
          "output_type": "stream",
          "text": [
            "Cloning into 'MachineLearning'...\n",
            "remote: Enumerating objects: 7, done.\u001b[K\n",
            "remote: Counting objects: 100% (7/7), done.\u001b[K\n",
            "remote: Compressing objects: 100% (6/6), done.\u001b[K\n",
            "remote: Total 257 (delta 1), reused 6 (delta 1), pack-reused 250\u001b[K\n",
            "Receiving objects: 100% (257/257), 72.83 MiB | 20.06 MiB/s, done.\n",
            "Resolving deltas: 100% (116/116), done.\n"
          ],
          "name": "stdout"
        }
      ]
    },
    {
      "cell_type": "markdown",
      "metadata": {
        "id": "oYhC9ETxCZvv"
      },
      "source": [
        "Now, the csv cars.csv is stored and can be imported using pd.read_csv."
      ]
    },
    {
      "cell_type": "code",
      "metadata": {
        "id": "-syLi9jMIaEQ",
        "colab": {
          "base_uri": "https://localhost:8080/",
          "height": 452
        },
        "outputId": "e7f809ce-16e7-413c-e0f1-05e80f2c9b35"
      },
      "source": [
        "# Import pandas as pd\n",
        "import pandas as pd\n",
        "\n",
        "# Import the cars.csv data: cars\n",
        "cars = pd.read_csv(\"./MachineLearning/1_Regression/carprices.csv\")\n",
        "\n",
        "# Print out cars\n",
        "cars"
      ],
      "execution_count": 90,
      "outputs": [
        {
          "output_type": "execute_result",
          "data": {
            "text/html": [
              "<div>\n",
              "<style scoped>\n",
              "    .dataframe tbody tr th:only-of-type {\n",
              "        vertical-align: middle;\n",
              "    }\n",
              "\n",
              "    .dataframe tbody tr th {\n",
              "        vertical-align: top;\n",
              "    }\n",
              "\n",
              "    .dataframe thead th {\n",
              "        text-align: right;\n",
              "    }\n",
              "</style>\n",
              "<table border=\"1\" class=\"dataframe\">\n",
              "  <thead>\n",
              "    <tr style=\"text-align: right;\">\n",
              "      <th></th>\n",
              "      <th>Car Model</th>\n",
              "      <th>Mileage</th>\n",
              "      <th>Sell Price($)</th>\n",
              "      <th>Age(yrs)</th>\n",
              "    </tr>\n",
              "  </thead>\n",
              "  <tbody>\n",
              "    <tr>\n",
              "      <th>0</th>\n",
              "      <td>BMW X5</td>\n",
              "      <td>69000</td>\n",
              "      <td>18000</td>\n",
              "      <td>6</td>\n",
              "    </tr>\n",
              "    <tr>\n",
              "      <th>1</th>\n",
              "      <td>BMW X5</td>\n",
              "      <td>35000</td>\n",
              "      <td>34000</td>\n",
              "      <td>3</td>\n",
              "    </tr>\n",
              "    <tr>\n",
              "      <th>2</th>\n",
              "      <td>BMW X5</td>\n",
              "      <td>57000</td>\n",
              "      <td>26100</td>\n",
              "      <td>5</td>\n",
              "    </tr>\n",
              "    <tr>\n",
              "      <th>3</th>\n",
              "      <td>BMW X5</td>\n",
              "      <td>22500</td>\n",
              "      <td>40000</td>\n",
              "      <td>2</td>\n",
              "    </tr>\n",
              "    <tr>\n",
              "      <th>4</th>\n",
              "      <td>BMW X5</td>\n",
              "      <td>46000</td>\n",
              "      <td>31500</td>\n",
              "      <td>4</td>\n",
              "    </tr>\n",
              "    <tr>\n",
              "      <th>5</th>\n",
              "      <td>Audi A5</td>\n",
              "      <td>59000</td>\n",
              "      <td>29400</td>\n",
              "      <td>5</td>\n",
              "    </tr>\n",
              "    <tr>\n",
              "      <th>6</th>\n",
              "      <td>Audi A5</td>\n",
              "      <td>52000</td>\n",
              "      <td>32000</td>\n",
              "      <td>5</td>\n",
              "    </tr>\n",
              "    <tr>\n",
              "      <th>7</th>\n",
              "      <td>Audi A5</td>\n",
              "      <td>72000</td>\n",
              "      <td>19300</td>\n",
              "      <td>6</td>\n",
              "    </tr>\n",
              "    <tr>\n",
              "      <th>8</th>\n",
              "      <td>Audi A5</td>\n",
              "      <td>91000</td>\n",
              "      <td>12000</td>\n",
              "      <td>8</td>\n",
              "    </tr>\n",
              "    <tr>\n",
              "      <th>9</th>\n",
              "      <td>Mercedez Benz C class</td>\n",
              "      <td>67000</td>\n",
              "      <td>22000</td>\n",
              "      <td>6</td>\n",
              "    </tr>\n",
              "    <tr>\n",
              "      <th>10</th>\n",
              "      <td>Mercedez Benz C class</td>\n",
              "      <td>83000</td>\n",
              "      <td>20000</td>\n",
              "      <td>7</td>\n",
              "    </tr>\n",
              "    <tr>\n",
              "      <th>11</th>\n",
              "      <td>Mercedez Benz C class</td>\n",
              "      <td>79000</td>\n",
              "      <td>21000</td>\n",
              "      <td>7</td>\n",
              "    </tr>\n",
              "    <tr>\n",
              "      <th>12</th>\n",
              "      <td>Mercedez Benz C class</td>\n",
              "      <td>59000</td>\n",
              "      <td>33000</td>\n",
              "      <td>5</td>\n",
              "    </tr>\n",
              "  </tbody>\n",
              "</table>\n",
              "</div>"
            ],
            "text/plain": [
              "                Car Model  Mileage  Sell Price($)  Age(yrs)\n",
              "0                  BMW X5    69000          18000         6\n",
              "1                  BMW X5    35000          34000         3\n",
              "2                  BMW X5    57000          26100         5\n",
              "3                  BMW X5    22500          40000         2\n",
              "4                  BMW X5    46000          31500         4\n",
              "5                 Audi A5    59000          29400         5\n",
              "6                 Audi A5    52000          32000         5\n",
              "7                 Audi A5    72000          19300         6\n",
              "8                 Audi A5    91000          12000         8\n",
              "9   Mercedez Benz C class    67000          22000         6\n",
              "10  Mercedez Benz C class    83000          20000         7\n",
              "11  Mercedez Benz C class    79000          21000         7\n",
              "12  Mercedez Benz C class    59000          33000         5"
            ]
          },
          "metadata": {
            "tags": []
          },
          "execution_count": 90
        }
      ]
    },
    {
      "cell_type": "markdown",
      "metadata": {
        "id": "fhY1V6KMNrN4"
      },
      "source": [
        "# Indexing DataFrames\n",
        "There are several ways to index a Pandas DataFrame. One of the easiest ways to do this is by using square bracket notation.\n",
        "\n",
        "In the example below, you can use square brackets to select one column of the cars DataFrame. You can either use a single bracket or a double bracket. The single bracket with output a Pandas Series, while a double bracket will output a Pandas DataFrame."
      ]
    },
    {
      "cell_type": "markdown",
      "metadata": {
        "id": "1VV4zN_QvGeK"
      },
      "source": [
        "Print out Mileage column as Pandas Series"
      ]
    },
    {
      "cell_type": "code",
      "metadata": {
        "id": "qpPqdCQRNuxP",
        "colab": {
          "base_uri": "https://localhost:8080/"
        },
        "outputId": "70efd2e1-3dcc-48a7-d4b2-477a0ae98263"
      },
      "source": [
        "# Import pandas and cars.csv\n",
        "import pandas as pd\n",
        "cars = pd.read_csv(\"./MachineLearning/1_Regression/carprices.csv\", index_col = 0)\n",
        "\n",
        "# Print out Mileage column as Pandas Series\n",
        "x=cars['Mileage']\n",
        "print(type(x))\n",
        "cars['Mileage']"
      ],
      "execution_count": 91,
      "outputs": [
        {
          "output_type": "stream",
          "text": [
            "<class 'pandas.core.series.Series'>\n"
          ],
          "name": "stdout"
        },
        {
          "output_type": "execute_result",
          "data": {
            "text/plain": [
              "Car Model\n",
              "BMW X5                   69000\n",
              "BMW X5                   35000\n",
              "BMW X5                   57000\n",
              "BMW X5                   22500\n",
              "BMW X5                   46000\n",
              "Audi A5                  59000\n",
              "Audi A5                  52000\n",
              "Audi A5                  72000\n",
              "Audi A5                  91000\n",
              "Mercedez Benz C class    67000\n",
              "Mercedez Benz C class    83000\n",
              "Mercedez Benz C class    79000\n",
              "Mercedez Benz C class    59000\n",
              "Name: Mileage, dtype: int64"
            ]
          },
          "metadata": {
            "tags": []
          },
          "execution_count": 91
        }
      ]
    },
    {
      "cell_type": "markdown",
      "metadata": {
        "id": "L5_JjS3kvWxE"
      },
      "source": [
        " Print out Sell Price($) column as Pandas DataFrame"
      ]
    },
    {
      "cell_type": "code",
      "metadata": {
        "colab": {
          "base_uri": "https://localhost:8080/",
          "height": 500
        },
        "id": "2EoD9PxFvBMz",
        "outputId": "74131252-0dca-48b6-9d41-5afe1c540435"
      },
      "source": [
        "# Print out Sell Price($) column as Pandas DataFrame\n",
        "x=cars[['Sell Price($)']]\n",
        "print(type(x))\n",
        "cars[['Sell Price($)']]\n"
      ],
      "execution_count": 94,
      "outputs": [
        {
          "output_type": "stream",
          "text": [
            "<class 'pandas.core.frame.DataFrame'>\n"
          ],
          "name": "stdout"
        },
        {
          "output_type": "execute_result",
          "data": {
            "text/html": [
              "<div>\n",
              "<style scoped>\n",
              "    .dataframe tbody tr th:only-of-type {\n",
              "        vertical-align: middle;\n",
              "    }\n",
              "\n",
              "    .dataframe tbody tr th {\n",
              "        vertical-align: top;\n",
              "    }\n",
              "\n",
              "    .dataframe thead th {\n",
              "        text-align: right;\n",
              "    }\n",
              "</style>\n",
              "<table border=\"1\" class=\"dataframe\">\n",
              "  <thead>\n",
              "    <tr style=\"text-align: right;\">\n",
              "      <th></th>\n",
              "      <th>Sell Price($)</th>\n",
              "    </tr>\n",
              "    <tr>\n",
              "      <th>Car Model</th>\n",
              "      <th></th>\n",
              "    </tr>\n",
              "  </thead>\n",
              "  <tbody>\n",
              "    <tr>\n",
              "      <th>BMW X5</th>\n",
              "      <td>18000</td>\n",
              "    </tr>\n",
              "    <tr>\n",
              "      <th>BMW X5</th>\n",
              "      <td>34000</td>\n",
              "    </tr>\n",
              "    <tr>\n",
              "      <th>BMW X5</th>\n",
              "      <td>26100</td>\n",
              "    </tr>\n",
              "    <tr>\n",
              "      <th>BMW X5</th>\n",
              "      <td>40000</td>\n",
              "    </tr>\n",
              "    <tr>\n",
              "      <th>BMW X5</th>\n",
              "      <td>31500</td>\n",
              "    </tr>\n",
              "    <tr>\n",
              "      <th>Audi A5</th>\n",
              "      <td>29400</td>\n",
              "    </tr>\n",
              "    <tr>\n",
              "      <th>Audi A5</th>\n",
              "      <td>32000</td>\n",
              "    </tr>\n",
              "    <tr>\n",
              "      <th>Audi A5</th>\n",
              "      <td>19300</td>\n",
              "    </tr>\n",
              "    <tr>\n",
              "      <th>Audi A5</th>\n",
              "      <td>12000</td>\n",
              "    </tr>\n",
              "    <tr>\n",
              "      <th>Mercedez Benz C class</th>\n",
              "      <td>22000</td>\n",
              "    </tr>\n",
              "    <tr>\n",
              "      <th>Mercedez Benz C class</th>\n",
              "      <td>20000</td>\n",
              "    </tr>\n",
              "    <tr>\n",
              "      <th>Mercedez Benz C class</th>\n",
              "      <td>21000</td>\n",
              "    </tr>\n",
              "    <tr>\n",
              "      <th>Mercedez Benz C class</th>\n",
              "      <td>33000</td>\n",
              "    </tr>\n",
              "  </tbody>\n",
              "</table>\n",
              "</div>"
            ],
            "text/plain": [
              "                       Sell Price($)\n",
              "Car Model                           \n",
              "BMW X5                         18000\n",
              "BMW X5                         34000\n",
              "BMW X5                         26100\n",
              "BMW X5                         40000\n",
              "BMW X5                         31500\n",
              "Audi A5                        29400\n",
              "Audi A5                        32000\n",
              "Audi A5                        19300\n",
              "Audi A5                        12000\n",
              "Mercedez Benz C class          22000\n",
              "Mercedez Benz C class          20000\n",
              "Mercedez Benz C class          21000\n",
              "Mercedez Benz C class          33000"
            ]
          },
          "metadata": {
            "tags": []
          },
          "execution_count": 94
        }
      ]
    },
    {
      "cell_type": "markdown",
      "metadata": {
        "id": "rOENBCcNvbZS"
      },
      "source": [
        "Print out DataFrame with Mileage and Sell Price($) columns"
      ]
    },
    {
      "cell_type": "code",
      "metadata": {
        "colab": {
          "base_uri": "https://localhost:8080/",
          "height": 483
        },
        "id": "Qrso0PjavZ8P",
        "outputId": "2396d271-b438-4f77-fcee-5b5c272770cb"
      },
      "source": [
        "# Print out DataFrame with Mileage and Sell Price($) columns\n",
        "cars[['Mileage', 'Age(yrs)']]"
      ],
      "execution_count": 95,
      "outputs": [
        {
          "output_type": "execute_result",
          "data": {
            "text/html": [
              "<div>\n",
              "<style scoped>\n",
              "    .dataframe tbody tr th:only-of-type {\n",
              "        vertical-align: middle;\n",
              "    }\n",
              "\n",
              "    .dataframe tbody tr th {\n",
              "        vertical-align: top;\n",
              "    }\n",
              "\n",
              "    .dataframe thead th {\n",
              "        text-align: right;\n",
              "    }\n",
              "</style>\n",
              "<table border=\"1\" class=\"dataframe\">\n",
              "  <thead>\n",
              "    <tr style=\"text-align: right;\">\n",
              "      <th></th>\n",
              "      <th>Mileage</th>\n",
              "      <th>Age(yrs)</th>\n",
              "    </tr>\n",
              "    <tr>\n",
              "      <th>Car Model</th>\n",
              "      <th></th>\n",
              "      <th></th>\n",
              "    </tr>\n",
              "  </thead>\n",
              "  <tbody>\n",
              "    <tr>\n",
              "      <th>BMW X5</th>\n",
              "      <td>69000</td>\n",
              "      <td>6</td>\n",
              "    </tr>\n",
              "    <tr>\n",
              "      <th>BMW X5</th>\n",
              "      <td>35000</td>\n",
              "      <td>3</td>\n",
              "    </tr>\n",
              "    <tr>\n",
              "      <th>BMW X5</th>\n",
              "      <td>57000</td>\n",
              "      <td>5</td>\n",
              "    </tr>\n",
              "    <tr>\n",
              "      <th>BMW X5</th>\n",
              "      <td>22500</td>\n",
              "      <td>2</td>\n",
              "    </tr>\n",
              "    <tr>\n",
              "      <th>BMW X5</th>\n",
              "      <td>46000</td>\n",
              "      <td>4</td>\n",
              "    </tr>\n",
              "    <tr>\n",
              "      <th>Audi A5</th>\n",
              "      <td>59000</td>\n",
              "      <td>5</td>\n",
              "    </tr>\n",
              "    <tr>\n",
              "      <th>Audi A5</th>\n",
              "      <td>52000</td>\n",
              "      <td>5</td>\n",
              "    </tr>\n",
              "    <tr>\n",
              "      <th>Audi A5</th>\n",
              "      <td>72000</td>\n",
              "      <td>6</td>\n",
              "    </tr>\n",
              "    <tr>\n",
              "      <th>Audi A5</th>\n",
              "      <td>91000</td>\n",
              "      <td>8</td>\n",
              "    </tr>\n",
              "    <tr>\n",
              "      <th>Mercedez Benz C class</th>\n",
              "      <td>67000</td>\n",
              "      <td>6</td>\n",
              "    </tr>\n",
              "    <tr>\n",
              "      <th>Mercedez Benz C class</th>\n",
              "      <td>83000</td>\n",
              "      <td>7</td>\n",
              "    </tr>\n",
              "    <tr>\n",
              "      <th>Mercedez Benz C class</th>\n",
              "      <td>79000</td>\n",
              "      <td>7</td>\n",
              "    </tr>\n",
              "    <tr>\n",
              "      <th>Mercedez Benz C class</th>\n",
              "      <td>59000</td>\n",
              "      <td>5</td>\n",
              "    </tr>\n",
              "  </tbody>\n",
              "</table>\n",
              "</div>"
            ],
            "text/plain": [
              "                       Mileage  Age(yrs)\n",
              "Car Model                               \n",
              "BMW X5                   69000         6\n",
              "BMW X5                   35000         3\n",
              "BMW X5                   57000         5\n",
              "BMW X5                   22500         2\n",
              "BMW X5                   46000         4\n",
              "Audi A5                  59000         5\n",
              "Audi A5                  52000         5\n",
              "Audi A5                  72000         6\n",
              "Audi A5                  91000         8\n",
              "Mercedez Benz C class    67000         6\n",
              "Mercedez Benz C class    83000         7\n",
              "Mercedez Benz C class    79000         7\n",
              "Mercedez Benz C class    59000         5"
            ]
          },
          "metadata": {
            "tags": []
          },
          "execution_count": 95
        }
      ]
    },
    {
      "cell_type": "markdown",
      "metadata": {
        "id": "YSQcN72URFq9"
      },
      "source": [
        "Square brackets can also be used to access observations (rows) from a DataFrame"
      ]
    },
    {
      "cell_type": "markdown",
      "metadata": {
        "id": "RdA_jP2dw9Y7"
      },
      "source": [
        "Print out first 4 observations"
      ]
    },
    {
      "cell_type": "code",
      "metadata": {
        "id": "1D27XHHQRGWd",
        "colab": {
          "base_uri": "https://localhost:8080/",
          "height": 204
        },
        "outputId": "3a31f432-ebfb-4389-9465-629c31f54a57"
      },
      "source": [
        "# Print out first 4 observations\n",
        "cars[0:4]"
      ],
      "execution_count": 96,
      "outputs": [
        {
          "output_type": "execute_result",
          "data": {
            "text/html": [
              "<div>\n",
              "<style scoped>\n",
              "    .dataframe tbody tr th:only-of-type {\n",
              "        vertical-align: middle;\n",
              "    }\n",
              "\n",
              "    .dataframe tbody tr th {\n",
              "        vertical-align: top;\n",
              "    }\n",
              "\n",
              "    .dataframe thead th {\n",
              "        text-align: right;\n",
              "    }\n",
              "</style>\n",
              "<table border=\"1\" class=\"dataframe\">\n",
              "  <thead>\n",
              "    <tr style=\"text-align: right;\">\n",
              "      <th></th>\n",
              "      <th>Mileage</th>\n",
              "      <th>Sell Price($)</th>\n",
              "      <th>Age(yrs)</th>\n",
              "    </tr>\n",
              "    <tr>\n",
              "      <th>Car Model</th>\n",
              "      <th></th>\n",
              "      <th></th>\n",
              "      <th></th>\n",
              "    </tr>\n",
              "  </thead>\n",
              "  <tbody>\n",
              "    <tr>\n",
              "      <th>BMW X5</th>\n",
              "      <td>69000</td>\n",
              "      <td>18000</td>\n",
              "      <td>6</td>\n",
              "    </tr>\n",
              "    <tr>\n",
              "      <th>BMW X5</th>\n",
              "      <td>35000</td>\n",
              "      <td>34000</td>\n",
              "      <td>3</td>\n",
              "    </tr>\n",
              "    <tr>\n",
              "      <th>BMW X5</th>\n",
              "      <td>57000</td>\n",
              "      <td>26100</td>\n",
              "      <td>5</td>\n",
              "    </tr>\n",
              "    <tr>\n",
              "      <th>BMW X5</th>\n",
              "      <td>22500</td>\n",
              "      <td>40000</td>\n",
              "      <td>2</td>\n",
              "    </tr>\n",
              "  </tbody>\n",
              "</table>\n",
              "</div>"
            ],
            "text/plain": [
              "           Mileage  Sell Price($)  Age(yrs)\n",
              "Car Model                                  \n",
              "BMW X5       69000          18000         6\n",
              "BMW X5       35000          34000         3\n",
              "BMW X5       57000          26100         5\n",
              "BMW X5       22500          40000         2"
            ]
          },
          "metadata": {
            "tags": []
          },
          "execution_count": 96
        }
      ]
    },
    {
      "cell_type": "markdown",
      "metadata": {
        "id": "63JL3eJ4w5U2"
      },
      "source": [
        "Print out fifth and sixth observation"
      ]
    },
    {
      "cell_type": "code",
      "metadata": {
        "colab": {
          "base_uri": "https://localhost:8080/",
          "height": 142
        },
        "id": "QAUqOTnMw5x8",
        "outputId": "7cf667b4-b26c-4273-f141-36fe90782fa4"
      },
      "source": [
        "# Print out fifth and sixth observation\n",
        "cars[4:6]"
      ],
      "execution_count": 97,
      "outputs": [
        {
          "output_type": "execute_result",
          "data": {
            "text/html": [
              "<div>\n",
              "<style scoped>\n",
              "    .dataframe tbody tr th:only-of-type {\n",
              "        vertical-align: middle;\n",
              "    }\n",
              "\n",
              "    .dataframe tbody tr th {\n",
              "        vertical-align: top;\n",
              "    }\n",
              "\n",
              "    .dataframe thead th {\n",
              "        text-align: right;\n",
              "    }\n",
              "</style>\n",
              "<table border=\"1\" class=\"dataframe\">\n",
              "  <thead>\n",
              "    <tr style=\"text-align: right;\">\n",
              "      <th></th>\n",
              "      <th>Mileage</th>\n",
              "      <th>Sell Price($)</th>\n",
              "      <th>Age(yrs)</th>\n",
              "    </tr>\n",
              "    <tr>\n",
              "      <th>Car Model</th>\n",
              "      <th></th>\n",
              "      <th></th>\n",
              "      <th></th>\n",
              "    </tr>\n",
              "  </thead>\n",
              "  <tbody>\n",
              "    <tr>\n",
              "      <th>BMW X5</th>\n",
              "      <td>46000</td>\n",
              "      <td>31500</td>\n",
              "      <td>4</td>\n",
              "    </tr>\n",
              "    <tr>\n",
              "      <th>Audi A5</th>\n",
              "      <td>59000</td>\n",
              "      <td>29400</td>\n",
              "      <td>5</td>\n",
              "    </tr>\n",
              "  </tbody>\n",
              "</table>\n",
              "</div>"
            ],
            "text/plain": [
              "           Mileage  Sell Price($)  Age(yrs)\n",
              "Car Model                                  \n",
              "BMW X5       46000          31500         4\n",
              "Audi A5      59000          29400         5"
            ]
          },
          "metadata": {
            "tags": []
          },
          "execution_count": 97
        }
      ]
    },
    {
      "cell_type": "markdown",
      "metadata": {
        "id": "7fWz9-AiRTvE"
      },
      "source": [
        "You can also use loc and iloc to perform just about any data selection operation. iloc is integer index based, so you have to specify rows and columns by their integer index like you did in the previous exercise. loc is label-based, which means that you have to specify rows and columns based on their row and column labels."
      ]
    },
    {
      "cell_type": "markdown",
      "metadata": {
        "id": "Hfr2Td5wxFeg"
      },
      "source": [
        "Print out observation for the car in the fifth and sixth rows"
      ]
    },
    {
      "cell_type": "code",
      "metadata": {
        "id": "dH2UZ5P9RUnf",
        "colab": {
          "base_uri": "https://localhost:8080/",
          "height": 142
        },
        "outputId": "d3f4a878-87ff-4713-fedb-86ec1d2230f4"
      },
      "source": [
        "# Print out observation for the car in the third row \n",
        "cars.iloc[4:6]"
      ],
      "execution_count": 102,
      "outputs": [
        {
          "output_type": "execute_result",
          "data": {
            "text/html": [
              "<div>\n",
              "<style scoped>\n",
              "    .dataframe tbody tr th:only-of-type {\n",
              "        vertical-align: middle;\n",
              "    }\n",
              "\n",
              "    .dataframe tbody tr th {\n",
              "        vertical-align: top;\n",
              "    }\n",
              "\n",
              "    .dataframe thead th {\n",
              "        text-align: right;\n",
              "    }\n",
              "</style>\n",
              "<table border=\"1\" class=\"dataframe\">\n",
              "  <thead>\n",
              "    <tr style=\"text-align: right;\">\n",
              "      <th></th>\n",
              "      <th>Mileage</th>\n",
              "      <th>Sell Price($)</th>\n",
              "      <th>Age(yrs)</th>\n",
              "    </tr>\n",
              "    <tr>\n",
              "      <th>Car Model</th>\n",
              "      <th></th>\n",
              "      <th></th>\n",
              "      <th></th>\n",
              "    </tr>\n",
              "  </thead>\n",
              "  <tbody>\n",
              "    <tr>\n",
              "      <th>BMW X5</th>\n",
              "      <td>46000</td>\n",
              "      <td>31500</td>\n",
              "      <td>4</td>\n",
              "    </tr>\n",
              "    <tr>\n",
              "      <th>Audi A5</th>\n",
              "      <td>59000</td>\n",
              "      <td>29400</td>\n",
              "      <td>5</td>\n",
              "    </tr>\n",
              "  </tbody>\n",
              "</table>\n",
              "</div>"
            ],
            "text/plain": [
              "           Mileage  Sell Price($)  Age(yrs)\n",
              "Car Model                                  \n",
              "BMW X5       46000          31500         4\n",
              "Audi A5      59000          29400         5"
            ]
          },
          "metadata": {
            "tags": []
          },
          "execution_count": 102
        }
      ]
    },
    {
      "cell_type": "markdown",
      "metadata": {
        "id": "leNV0_5uxKyB"
      },
      "source": [
        "Print out observations for BMW X5 and Audi A5"
      ]
    },
    {
      "cell_type": "code",
      "metadata": {
        "colab": {
          "base_uri": "https://localhost:8080/",
          "height": 359
        },
        "id": "UPTiT4-6xLND",
        "outputId": "785fc9d5-82f6-4cf9-8233-6fa1c9375543"
      },
      "source": [
        "# Print out observations for BMW X5 and Audi A5\n",
        "cars.loc[['BMW X5', 'Audi A5']]"
      ],
      "execution_count": 100,
      "outputs": [
        {
          "output_type": "execute_result",
          "data": {
            "text/html": [
              "<div>\n",
              "<style scoped>\n",
              "    .dataframe tbody tr th:only-of-type {\n",
              "        vertical-align: middle;\n",
              "    }\n",
              "\n",
              "    .dataframe tbody tr th {\n",
              "        vertical-align: top;\n",
              "    }\n",
              "\n",
              "    .dataframe thead th {\n",
              "        text-align: right;\n",
              "    }\n",
              "</style>\n",
              "<table border=\"1\" class=\"dataframe\">\n",
              "  <thead>\n",
              "    <tr style=\"text-align: right;\">\n",
              "      <th></th>\n",
              "      <th>Mileage</th>\n",
              "      <th>Sell Price($)</th>\n",
              "      <th>Age(yrs)</th>\n",
              "    </tr>\n",
              "    <tr>\n",
              "      <th>Car Model</th>\n",
              "      <th></th>\n",
              "      <th></th>\n",
              "      <th></th>\n",
              "    </tr>\n",
              "  </thead>\n",
              "  <tbody>\n",
              "    <tr>\n",
              "      <th>BMW X5</th>\n",
              "      <td>69000</td>\n",
              "      <td>18000</td>\n",
              "      <td>6</td>\n",
              "    </tr>\n",
              "    <tr>\n",
              "      <th>BMW X5</th>\n",
              "      <td>35000</td>\n",
              "      <td>34000</td>\n",
              "      <td>3</td>\n",
              "    </tr>\n",
              "    <tr>\n",
              "      <th>BMW X5</th>\n",
              "      <td>57000</td>\n",
              "      <td>26100</td>\n",
              "      <td>5</td>\n",
              "    </tr>\n",
              "    <tr>\n",
              "      <th>BMW X5</th>\n",
              "      <td>22500</td>\n",
              "      <td>40000</td>\n",
              "      <td>2</td>\n",
              "    </tr>\n",
              "    <tr>\n",
              "      <th>BMW X5</th>\n",
              "      <td>46000</td>\n",
              "      <td>31500</td>\n",
              "      <td>4</td>\n",
              "    </tr>\n",
              "    <tr>\n",
              "      <th>Audi A5</th>\n",
              "      <td>59000</td>\n",
              "      <td>29400</td>\n",
              "      <td>5</td>\n",
              "    </tr>\n",
              "    <tr>\n",
              "      <th>Audi A5</th>\n",
              "      <td>52000</td>\n",
              "      <td>32000</td>\n",
              "      <td>5</td>\n",
              "    </tr>\n",
              "    <tr>\n",
              "      <th>Audi A5</th>\n",
              "      <td>72000</td>\n",
              "      <td>19300</td>\n",
              "      <td>6</td>\n",
              "    </tr>\n",
              "    <tr>\n",
              "      <th>Audi A5</th>\n",
              "      <td>91000</td>\n",
              "      <td>12000</td>\n",
              "      <td>8</td>\n",
              "    </tr>\n",
              "  </tbody>\n",
              "</table>\n",
              "</div>"
            ],
            "text/plain": [
              "           Mileage  Sell Price($)  Age(yrs)\n",
              "Car Model                                  \n",
              "BMW X5       69000          18000         6\n",
              "BMW X5       35000          34000         3\n",
              "BMW X5       57000          26100         5\n",
              "BMW X5       22500          40000         2\n",
              "BMW X5       46000          31500         4\n",
              "Audi A5      59000          29400         5\n",
              "Audi A5      52000          32000         5\n",
              "Audi A5      72000          19300         6\n",
              "Audi A5      91000          12000         8"
            ]
          },
          "metadata": {
            "tags": []
          },
          "execution_count": 100
        }
      ]
    },
    {
      "cell_type": "markdown",
      "metadata": {
        "id": "ISERKG-0KOIK"
      },
      "source": [
        "# Manipulating a DataFrames"
      ]
    },
    {
      "cell_type": "markdown",
      "metadata": {
        "id": "gpRZ9ShyKWAF"
      },
      "source": [
        "## Combining Two DataFrames\n",
        "\n",
        "Combinging multipe DataFrames can happen in different format. This includes concatination, join, and merge."
      ]
    },
    {
      "cell_type": "markdown",
      "metadata": {
        "id": "fPBvIOXBlWuW"
      },
      "source": [
        "### Combine Two DataFrames Vertically \n",
        "Assume you have two DataFrames; brics_1 and brics_2. Each of these DataFrames includes a list of some countries and the capital and area of each country. "
      ]
    },
    {
      "cell_type": "code",
      "metadata": {
        "colab": {
          "base_uri": "https://localhost:8080/",
          "height": 142
        },
        "id": "uJ1MjQXpl3QK",
        "outputId": "7f3ea905-6f74-4509-affd-d73b10fedcfc"
      },
      "source": [
        "## brics_1 DataFrame\n",
        "\n",
        "## creating lists\n",
        "country = [\"Brazil\", \"Russia\", \"India\"] \n",
        "capital = [\"Brasilia\", \"Moscow\", \"New Dehli\"]\n",
        "area = [8.516, 17.10, 3.286]\n",
        "population = [200.4, 143.5, 1252]\n",
        "\n",
        "## converting lists to pandas series\n",
        "country_series = pd.Series(country) \n",
        "capital_series = pd.Series(capital) \n",
        "area_series = pd.Series(area) \n",
        "population_series = pd.Series(population) \n",
        "\n",
        "brics_dict = { 'country': country_series, 'capital': capital_series, 'area': area_series, 'population': population_series} \n",
        "  \n",
        "brics_1 = pd.DataFrame(brics_dict) \n",
        "brics_1"
      ],
      "execution_count": 103,
      "outputs": [
        {
          "output_type": "execute_result",
          "data": {
            "text/html": [
              "<div>\n",
              "<style scoped>\n",
              "    .dataframe tbody tr th:only-of-type {\n",
              "        vertical-align: middle;\n",
              "    }\n",
              "\n",
              "    .dataframe tbody tr th {\n",
              "        vertical-align: top;\n",
              "    }\n",
              "\n",
              "    .dataframe thead th {\n",
              "        text-align: right;\n",
              "    }\n",
              "</style>\n",
              "<table border=\"1\" class=\"dataframe\">\n",
              "  <thead>\n",
              "    <tr style=\"text-align: right;\">\n",
              "      <th></th>\n",
              "      <th>country</th>\n",
              "      <th>capital</th>\n",
              "      <th>area</th>\n",
              "      <th>population</th>\n",
              "    </tr>\n",
              "  </thead>\n",
              "  <tbody>\n",
              "    <tr>\n",
              "      <th>0</th>\n",
              "      <td>Brazil</td>\n",
              "      <td>Brasilia</td>\n",
              "      <td>8.516</td>\n",
              "      <td>200.4</td>\n",
              "    </tr>\n",
              "    <tr>\n",
              "      <th>1</th>\n",
              "      <td>Russia</td>\n",
              "      <td>Moscow</td>\n",
              "      <td>17.100</td>\n",
              "      <td>143.5</td>\n",
              "    </tr>\n",
              "    <tr>\n",
              "      <th>2</th>\n",
              "      <td>India</td>\n",
              "      <td>New Dehli</td>\n",
              "      <td>3.286</td>\n",
              "      <td>1252.0</td>\n",
              "    </tr>\n",
              "  </tbody>\n",
              "</table>\n",
              "</div>"
            ],
            "text/plain": [
              "  country    capital    area  population\n",
              "0  Brazil   Brasilia   8.516       200.4\n",
              "1  Russia     Moscow  17.100       143.5\n",
              "2   India  New Dehli   3.286      1252.0"
            ]
          },
          "metadata": {
            "tags": []
          },
          "execution_count": 103
        }
      ]
    },
    {
      "cell_type": "code",
      "metadata": {
        "colab": {
          "base_uri": "https://localhost:8080/",
          "height": 111
        },
        "id": "SLru6Y5Xl6Wr",
        "outputId": "bd4ce1b2-5d0b-46b1-90c8-72a012cac730"
      },
      "source": [
        "## brics_1 DataFrame\n",
        "\n",
        "## creating lists\n",
        "country = [\"China\", \"South Africa\"] \n",
        "capital = [\"Beijing\", \"Pretoria\"]\n",
        "area = [9.597, 1.221]\n",
        "population = [1357, 52.98]\n",
        "\n",
        "## converting lists to pandas series\n",
        "country_series = pd.Series(country) \n",
        "capital_series = pd.Series(capital) \n",
        "area_series = pd.Series(area) \n",
        "population_series = pd.Series(population) \n",
        "\n",
        "brics_dict = { 'country': country_series, 'capital': capital_series, 'area': area_series, 'population': population_series} \n",
        "  \n",
        "brics_2 = pd.DataFrame(brics_dict) \n",
        "brics_2"
      ],
      "execution_count": 104,
      "outputs": [
        {
          "output_type": "execute_result",
          "data": {
            "text/html": [
              "<div>\n",
              "<style scoped>\n",
              "    .dataframe tbody tr th:only-of-type {\n",
              "        vertical-align: middle;\n",
              "    }\n",
              "\n",
              "    .dataframe tbody tr th {\n",
              "        vertical-align: top;\n",
              "    }\n",
              "\n",
              "    .dataframe thead th {\n",
              "        text-align: right;\n",
              "    }\n",
              "</style>\n",
              "<table border=\"1\" class=\"dataframe\">\n",
              "  <thead>\n",
              "    <tr style=\"text-align: right;\">\n",
              "      <th></th>\n",
              "      <th>country</th>\n",
              "      <th>capital</th>\n",
              "      <th>area</th>\n",
              "      <th>population</th>\n",
              "    </tr>\n",
              "  </thead>\n",
              "  <tbody>\n",
              "    <tr>\n",
              "      <th>0</th>\n",
              "      <td>China</td>\n",
              "      <td>Beijing</td>\n",
              "      <td>9.597</td>\n",
              "      <td>1357.00</td>\n",
              "    </tr>\n",
              "    <tr>\n",
              "      <th>1</th>\n",
              "      <td>South Africa</td>\n",
              "      <td>Pretoria</td>\n",
              "      <td>1.221</td>\n",
              "      <td>52.98</td>\n",
              "    </tr>\n",
              "  </tbody>\n",
              "</table>\n",
              "</div>"
            ],
            "text/plain": [
              "        country   capital   area  population\n",
              "0         China   Beijing  9.597     1357.00\n",
              "1  South Africa  Pretoria  1.221       52.98"
            ]
          },
          "metadata": {
            "tags": []
          },
          "execution_count": 104
        }
      ]
    },
    {
      "cell_type": "markdown",
      "metadata": {
        "id": "tM6PsEI_miBc"
      },
      "source": [
        "To combine these DataFrames vertically (axis=0), we will use also the Panda concat command."
      ]
    },
    {
      "cell_type": "code",
      "metadata": {
        "colab": {
          "base_uri": "https://localhost:8080/",
          "height": 204
        },
        "id": "FO_Bjmspm8dt",
        "outputId": "57643944-73ca-4b90-b6c6-2091f2850151"
      },
      "source": [
        "brics = pd.concat([brics_1,brics_2],axis=0)\n",
        "brics"
      ],
      "execution_count": 105,
      "outputs": [
        {
          "output_type": "execute_result",
          "data": {
            "text/html": [
              "<div>\n",
              "<style scoped>\n",
              "    .dataframe tbody tr th:only-of-type {\n",
              "        vertical-align: middle;\n",
              "    }\n",
              "\n",
              "    .dataframe tbody tr th {\n",
              "        vertical-align: top;\n",
              "    }\n",
              "\n",
              "    .dataframe thead th {\n",
              "        text-align: right;\n",
              "    }\n",
              "</style>\n",
              "<table border=\"1\" class=\"dataframe\">\n",
              "  <thead>\n",
              "    <tr style=\"text-align: right;\">\n",
              "      <th></th>\n",
              "      <th>country</th>\n",
              "      <th>capital</th>\n",
              "      <th>area</th>\n",
              "      <th>population</th>\n",
              "    </tr>\n",
              "  </thead>\n",
              "  <tbody>\n",
              "    <tr>\n",
              "      <th>0</th>\n",
              "      <td>Brazil</td>\n",
              "      <td>Brasilia</td>\n",
              "      <td>8.516</td>\n",
              "      <td>200.40</td>\n",
              "    </tr>\n",
              "    <tr>\n",
              "      <th>1</th>\n",
              "      <td>Russia</td>\n",
              "      <td>Moscow</td>\n",
              "      <td>17.100</td>\n",
              "      <td>143.50</td>\n",
              "    </tr>\n",
              "    <tr>\n",
              "      <th>2</th>\n",
              "      <td>India</td>\n",
              "      <td>New Dehli</td>\n",
              "      <td>3.286</td>\n",
              "      <td>1252.00</td>\n",
              "    </tr>\n",
              "    <tr>\n",
              "      <th>0</th>\n",
              "      <td>China</td>\n",
              "      <td>Beijing</td>\n",
              "      <td>9.597</td>\n",
              "      <td>1357.00</td>\n",
              "    </tr>\n",
              "    <tr>\n",
              "      <th>1</th>\n",
              "      <td>South Africa</td>\n",
              "      <td>Pretoria</td>\n",
              "      <td>1.221</td>\n",
              "      <td>52.98</td>\n",
              "    </tr>\n",
              "  </tbody>\n",
              "</table>\n",
              "</div>"
            ],
            "text/plain": [
              "        country    capital    area  population\n",
              "0        Brazil   Brasilia   8.516      200.40\n",
              "1        Russia     Moscow  17.100      143.50\n",
              "2         India  New Dehli   3.286     1252.00\n",
              "0         China    Beijing   9.597     1357.00\n",
              "1  South Africa   Pretoria   1.221       52.98"
            ]
          },
          "metadata": {
            "tags": []
          },
          "execution_count": 105
        }
      ]
    },
    {
      "cell_type": "markdown",
      "metadata": {
        "id": "mgl9qo9Xnm13"
      },
      "source": [
        "To ignore the indexing of the concatenated DataFrames and use new indexing, add **ignore_index=True** to the Panda concat command."
      ]
    },
    {
      "cell_type": "code",
      "metadata": {
        "colab": {
          "base_uri": "https://localhost:8080/",
          "height": 204
        },
        "id": "KXQcsQx5nnVc",
        "outputId": "2bee5efc-afbe-4b74-b073-5e6cff4049fd"
      },
      "source": [
        "brics = pd.concat([brics_1,brics_2],ignore_index=True, axis=0)\n",
        "brics"
      ],
      "execution_count": 106,
      "outputs": [
        {
          "output_type": "execute_result",
          "data": {
            "text/html": [
              "<div>\n",
              "<style scoped>\n",
              "    .dataframe tbody tr th:only-of-type {\n",
              "        vertical-align: middle;\n",
              "    }\n",
              "\n",
              "    .dataframe tbody tr th {\n",
              "        vertical-align: top;\n",
              "    }\n",
              "\n",
              "    .dataframe thead th {\n",
              "        text-align: right;\n",
              "    }\n",
              "</style>\n",
              "<table border=\"1\" class=\"dataframe\">\n",
              "  <thead>\n",
              "    <tr style=\"text-align: right;\">\n",
              "      <th></th>\n",
              "      <th>country</th>\n",
              "      <th>capital</th>\n",
              "      <th>area</th>\n",
              "      <th>population</th>\n",
              "    </tr>\n",
              "  </thead>\n",
              "  <tbody>\n",
              "    <tr>\n",
              "      <th>0</th>\n",
              "      <td>Brazil</td>\n",
              "      <td>Brasilia</td>\n",
              "      <td>8.516</td>\n",
              "      <td>200.40</td>\n",
              "    </tr>\n",
              "    <tr>\n",
              "      <th>1</th>\n",
              "      <td>Russia</td>\n",
              "      <td>Moscow</td>\n",
              "      <td>17.100</td>\n",
              "      <td>143.50</td>\n",
              "    </tr>\n",
              "    <tr>\n",
              "      <th>2</th>\n",
              "      <td>India</td>\n",
              "      <td>New Dehli</td>\n",
              "      <td>3.286</td>\n",
              "      <td>1252.00</td>\n",
              "    </tr>\n",
              "    <tr>\n",
              "      <th>3</th>\n",
              "      <td>China</td>\n",
              "      <td>Beijing</td>\n",
              "      <td>9.597</td>\n",
              "      <td>1357.00</td>\n",
              "    </tr>\n",
              "    <tr>\n",
              "      <th>4</th>\n",
              "      <td>South Africa</td>\n",
              "      <td>Pretoria</td>\n",
              "      <td>1.221</td>\n",
              "      <td>52.98</td>\n",
              "    </tr>\n",
              "  </tbody>\n",
              "</table>\n",
              "</div>"
            ],
            "text/plain": [
              "        country    capital    area  population\n",
              "0        Brazil   Brasilia   8.516      200.40\n",
              "1        Russia     Moscow  17.100      143.50\n",
              "2         India  New Dehli   3.286     1252.00\n",
              "3         China    Beijing   9.597     1357.00\n",
              "4  South Africa   Pretoria   1.221       52.98"
            ]
          },
          "metadata": {
            "tags": []
          },
          "execution_count": 106
        }
      ]
    },
    {
      "cell_type": "markdown",
      "metadata": {
        "id": "dO5nod5xhvhV"
      },
      "source": [
        "### Combine Two Frames Horizontally \n",
        "Assume you have a DataFrame that includes the country and its capital and its area called \"brics_capital_area\"."
      ]
    },
    {
      "cell_type": "code",
      "metadata": {
        "colab": {
          "base_uri": "https://localhost:8080/",
          "height": 204
        },
        "id": "PqFkgmfSLC9e",
        "outputId": "df731734-f24f-4b8e-92b0-823b8525c0fa"
      },
      "source": [
        "## creating lists\n",
        "country = [\"Brazil\", \"Russia\", \"India\", \"China\", \"South Africa\"] \n",
        "capital = [\"Brasilia\", \"Moscow\", \"New Dehli\", \"Beijing\", \"Pretoria\"]\n",
        "area = [8.516, 17.10, 3.286, 9.597, 1.221]\n",
        "\n",
        "## converting lists to pandas series\n",
        "country_series = pd.Series(country) \n",
        "capital_series = pd.Series(capital) \n",
        "area_series = pd.Series(area) \n",
        "\n",
        "brics_dict = { 'country': country_series, 'capital': capital_series, 'area': area_series} \n",
        "  \n",
        "brics_capital_area = pd.DataFrame(brics_dict) \n",
        "  \n",
        "brics_capital_area"
      ],
      "execution_count": 107,
      "outputs": [
        {
          "output_type": "execute_result",
          "data": {
            "text/html": [
              "<div>\n",
              "<style scoped>\n",
              "    .dataframe tbody tr th:only-of-type {\n",
              "        vertical-align: middle;\n",
              "    }\n",
              "\n",
              "    .dataframe tbody tr th {\n",
              "        vertical-align: top;\n",
              "    }\n",
              "\n",
              "    .dataframe thead th {\n",
              "        text-align: right;\n",
              "    }\n",
              "</style>\n",
              "<table border=\"1\" class=\"dataframe\">\n",
              "  <thead>\n",
              "    <tr style=\"text-align: right;\">\n",
              "      <th></th>\n",
              "      <th>country</th>\n",
              "      <th>capital</th>\n",
              "      <th>area</th>\n",
              "    </tr>\n",
              "  </thead>\n",
              "  <tbody>\n",
              "    <tr>\n",
              "      <th>0</th>\n",
              "      <td>Brazil</td>\n",
              "      <td>Brasilia</td>\n",
              "      <td>8.516</td>\n",
              "    </tr>\n",
              "    <tr>\n",
              "      <th>1</th>\n",
              "      <td>Russia</td>\n",
              "      <td>Moscow</td>\n",
              "      <td>17.100</td>\n",
              "    </tr>\n",
              "    <tr>\n",
              "      <th>2</th>\n",
              "      <td>India</td>\n",
              "      <td>New Dehli</td>\n",
              "      <td>3.286</td>\n",
              "    </tr>\n",
              "    <tr>\n",
              "      <th>3</th>\n",
              "      <td>China</td>\n",
              "      <td>Beijing</td>\n",
              "      <td>9.597</td>\n",
              "    </tr>\n",
              "    <tr>\n",
              "      <th>4</th>\n",
              "      <td>South Africa</td>\n",
              "      <td>Pretoria</td>\n",
              "      <td>1.221</td>\n",
              "    </tr>\n",
              "  </tbody>\n",
              "</table>\n",
              "</div>"
            ],
            "text/plain": [
              "        country    capital    area\n",
              "0        Brazil   Brasilia   8.516\n",
              "1        Russia     Moscow  17.100\n",
              "2         India  New Dehli   3.286\n",
              "3         China    Beijing   9.597\n",
              "4  South Africa   Pretoria   1.221"
            ]
          },
          "metadata": {
            "tags": []
          },
          "execution_count": 107
        }
      ]
    },
    {
      "cell_type": "markdown",
      "metadata": {
        "id": "QLoyM7W8i7Si"
      },
      "source": [
        "Assume you have also a DataFrame that includes the country and its population (called \"brics_population\") in the same order of the previous DataFrame \"brics_dict\"."
      ]
    },
    {
      "cell_type": "code",
      "metadata": {
        "colab": {
          "base_uri": "https://localhost:8080/",
          "height": 204
        },
        "id": "X16rS62qLLhF",
        "outputId": "0b203eff-0208-43e5-a001-53dc9b3f5b33"
      },
      "source": [
        "## creating lists\n",
        "country = [\"Brazil\", \"Russia\", \"India\", \"China\", \"South Africa\"] \n",
        "population = [200.4, 143.5, 1252, 1357, 52.98]\n",
        "\n",
        "## converting lists to pandas series\n",
        "country_series = pd.Series(country) \n",
        "population_series = pd.Series(population) \n",
        "\n",
        "brics_dict = { 'country': country_series, 'population': population_series} \n",
        "  \n",
        "brics_population = pd.DataFrame(brics_dict) \n",
        "  \n",
        "brics_population"
      ],
      "execution_count": 108,
      "outputs": [
        {
          "output_type": "execute_result",
          "data": {
            "text/html": [
              "<div>\n",
              "<style scoped>\n",
              "    .dataframe tbody tr th:only-of-type {\n",
              "        vertical-align: middle;\n",
              "    }\n",
              "\n",
              "    .dataframe tbody tr th {\n",
              "        vertical-align: top;\n",
              "    }\n",
              "\n",
              "    .dataframe thead th {\n",
              "        text-align: right;\n",
              "    }\n",
              "</style>\n",
              "<table border=\"1\" class=\"dataframe\">\n",
              "  <thead>\n",
              "    <tr style=\"text-align: right;\">\n",
              "      <th></th>\n",
              "      <th>country</th>\n",
              "      <th>population</th>\n",
              "    </tr>\n",
              "  </thead>\n",
              "  <tbody>\n",
              "    <tr>\n",
              "      <th>0</th>\n",
              "      <td>Brazil</td>\n",
              "      <td>200.40</td>\n",
              "    </tr>\n",
              "    <tr>\n",
              "      <th>1</th>\n",
              "      <td>Russia</td>\n",
              "      <td>143.50</td>\n",
              "    </tr>\n",
              "    <tr>\n",
              "      <th>2</th>\n",
              "      <td>India</td>\n",
              "      <td>1252.00</td>\n",
              "    </tr>\n",
              "    <tr>\n",
              "      <th>3</th>\n",
              "      <td>China</td>\n",
              "      <td>1357.00</td>\n",
              "    </tr>\n",
              "    <tr>\n",
              "      <th>4</th>\n",
              "      <td>South Africa</td>\n",
              "      <td>52.98</td>\n",
              "    </tr>\n",
              "  </tbody>\n",
              "</table>\n",
              "</div>"
            ],
            "text/plain": [
              "        country  population\n",
              "0        Brazil      200.40\n",
              "1        Russia      143.50\n",
              "2         India     1252.00\n",
              "3         China     1357.00\n",
              "4  South Africa       52.98"
            ]
          },
          "metadata": {
            "tags": []
          },
          "execution_count": 108
        }
      ]
    },
    {
      "cell_type": "markdown",
      "metadata": {
        "id": "Tih73_ZmjzTT"
      },
      "source": [
        "To combine both DataFrames horizontally (axis=1), use the Panda concat command."
      ]
    },
    {
      "cell_type": "code",
      "metadata": {
        "colab": {
          "base_uri": "https://localhost:8080/",
          "height": 204
        },
        "id": "DQmzFbzeMGb2",
        "outputId": "400fd678-2771-4d35-f092-430024f608b5"
      },
      "source": [
        "brics = pd.concat([brics_capital_area,brics_population], axis=1)\n",
        "brics"
      ],
      "execution_count": 109,
      "outputs": [
        {
          "output_type": "execute_result",
          "data": {
            "text/html": [
              "<div>\n",
              "<style scoped>\n",
              "    .dataframe tbody tr th:only-of-type {\n",
              "        vertical-align: middle;\n",
              "    }\n",
              "\n",
              "    .dataframe tbody tr th {\n",
              "        vertical-align: top;\n",
              "    }\n",
              "\n",
              "    .dataframe thead th {\n",
              "        text-align: right;\n",
              "    }\n",
              "</style>\n",
              "<table border=\"1\" class=\"dataframe\">\n",
              "  <thead>\n",
              "    <tr style=\"text-align: right;\">\n",
              "      <th></th>\n",
              "      <th>country</th>\n",
              "      <th>capital</th>\n",
              "      <th>area</th>\n",
              "      <th>country</th>\n",
              "      <th>population</th>\n",
              "    </tr>\n",
              "  </thead>\n",
              "  <tbody>\n",
              "    <tr>\n",
              "      <th>0</th>\n",
              "      <td>Brazil</td>\n",
              "      <td>Brasilia</td>\n",
              "      <td>8.516</td>\n",
              "      <td>Brazil</td>\n",
              "      <td>200.40</td>\n",
              "    </tr>\n",
              "    <tr>\n",
              "      <th>1</th>\n",
              "      <td>Russia</td>\n",
              "      <td>Moscow</td>\n",
              "      <td>17.100</td>\n",
              "      <td>Russia</td>\n",
              "      <td>143.50</td>\n",
              "    </tr>\n",
              "    <tr>\n",
              "      <th>2</th>\n",
              "      <td>India</td>\n",
              "      <td>New Dehli</td>\n",
              "      <td>3.286</td>\n",
              "      <td>India</td>\n",
              "      <td>1252.00</td>\n",
              "    </tr>\n",
              "    <tr>\n",
              "      <th>3</th>\n",
              "      <td>China</td>\n",
              "      <td>Beijing</td>\n",
              "      <td>9.597</td>\n",
              "      <td>China</td>\n",
              "      <td>1357.00</td>\n",
              "    </tr>\n",
              "    <tr>\n",
              "      <th>4</th>\n",
              "      <td>South Africa</td>\n",
              "      <td>Pretoria</td>\n",
              "      <td>1.221</td>\n",
              "      <td>South Africa</td>\n",
              "      <td>52.98</td>\n",
              "    </tr>\n",
              "  </tbody>\n",
              "</table>\n",
              "</div>"
            ],
            "text/plain": [
              "        country    capital    area       country  population\n",
              "0        Brazil   Brasilia   8.516        Brazil      200.40\n",
              "1        Russia     Moscow  17.100        Russia      143.50\n",
              "2         India  New Dehli   3.286         India     1252.00\n",
              "3         China    Beijing   9.597         China     1357.00\n",
              "4  South Africa   Pretoria   1.221  South Africa       52.98"
            ]
          },
          "metadata": {
            "tags": []
          },
          "execution_count": 109
        }
      ]
    },
    {
      "cell_type": "markdown",
      "metadata": {
        "id": "4kcI9BgOkIvb"
      },
      "source": [
        "To include only specific fields in the concatenation, you must index (name) these fields."
      ]
    },
    {
      "cell_type": "code",
      "metadata": {
        "colab": {
          "base_uri": "https://localhost:8080/",
          "height": 204
        },
        "id": "vtmyfhHEMb-7",
        "outputId": "125ca7f3-8b4c-463c-8017-8d9953a937ec"
      },
      "source": [
        "brics = pd.concat([brics_capital_area,brics_population['population']], axis=1)\n",
        "brics"
      ],
      "execution_count": 110,
      "outputs": [
        {
          "output_type": "execute_result",
          "data": {
            "text/html": [
              "<div>\n",
              "<style scoped>\n",
              "    .dataframe tbody tr th:only-of-type {\n",
              "        vertical-align: middle;\n",
              "    }\n",
              "\n",
              "    .dataframe tbody tr th {\n",
              "        vertical-align: top;\n",
              "    }\n",
              "\n",
              "    .dataframe thead th {\n",
              "        text-align: right;\n",
              "    }\n",
              "</style>\n",
              "<table border=\"1\" class=\"dataframe\">\n",
              "  <thead>\n",
              "    <tr style=\"text-align: right;\">\n",
              "      <th></th>\n",
              "      <th>country</th>\n",
              "      <th>capital</th>\n",
              "      <th>area</th>\n",
              "      <th>population</th>\n",
              "    </tr>\n",
              "  </thead>\n",
              "  <tbody>\n",
              "    <tr>\n",
              "      <th>0</th>\n",
              "      <td>Brazil</td>\n",
              "      <td>Brasilia</td>\n",
              "      <td>8.516</td>\n",
              "      <td>200.40</td>\n",
              "    </tr>\n",
              "    <tr>\n",
              "      <th>1</th>\n",
              "      <td>Russia</td>\n",
              "      <td>Moscow</td>\n",
              "      <td>17.100</td>\n",
              "      <td>143.50</td>\n",
              "    </tr>\n",
              "    <tr>\n",
              "      <th>2</th>\n",
              "      <td>India</td>\n",
              "      <td>New Dehli</td>\n",
              "      <td>3.286</td>\n",
              "      <td>1252.00</td>\n",
              "    </tr>\n",
              "    <tr>\n",
              "      <th>3</th>\n",
              "      <td>China</td>\n",
              "      <td>Beijing</td>\n",
              "      <td>9.597</td>\n",
              "      <td>1357.00</td>\n",
              "    </tr>\n",
              "    <tr>\n",
              "      <th>4</th>\n",
              "      <td>South Africa</td>\n",
              "      <td>Pretoria</td>\n",
              "      <td>1.221</td>\n",
              "      <td>52.98</td>\n",
              "    </tr>\n",
              "  </tbody>\n",
              "</table>\n",
              "</div>"
            ],
            "text/plain": [
              "        country    capital    area  population\n",
              "0        Brazil   Brasilia   8.516      200.40\n",
              "1        Russia     Moscow  17.100      143.50\n",
              "2         India  New Dehli   3.286     1252.00\n",
              "3         China    Beijing   9.597     1357.00\n",
              "4  South Africa   Pretoria   1.221       52.98"
            ]
          },
          "metadata": {
            "tags": []
          },
          "execution_count": 110
        }
      ]
    },
    {
      "cell_type": "markdown",
      "metadata": {
        "id": "PpukEtFyqceQ"
      },
      "source": [
        "##Merging Two DataFrames"
      ]
    },
    {
      "cell_type": "markdown",
      "metadata": {
        "id": "L4kPF3h_rKiL"
      },
      "source": [
        "Assume you have a DataFrame that includes the country and its capital (called \"brics_capital_area\"). You also have a DataFrame that consists of the country and its population (called \"brics_population\"). You want to combine both DataFrames horizontally. However, You are not sure about the order of both DataFrames."
      ]
    },
    {
      "cell_type": "code",
      "metadata": {
        "colab": {
          "base_uri": "https://localhost:8080/",
          "height": 204
        },
        "id": "eRWi7Qv5s7Xc",
        "outputId": "7751a15c-7faf-4179-ae61-8c452954b621"
      },
      "source": [
        "## creating lists\n",
        "country = [\"Brazil\", \"Russia\", \"India\", \"China\", \"South Africa\"] \n",
        "capital = [\"Brasilia\", \"Moscow\", \"New Dehli\", \"Beijing\", \"Pretoria\"]\n",
        "area = [8.516, 17.10, 3.286, 9.597, 1.221]\n",
        "\n",
        "## converting lists to pandas series\n",
        "country_series = pd.Series(country) \n",
        "capital_series = pd.Series(capital) \n",
        "area_series = pd.Series(area) \n",
        "\n",
        "brics_dict = { 'country': country_series, 'capital': capital_series, 'area': area_series} \n",
        "  \n",
        "brics_capital_area = pd.DataFrame(brics_dict) \n",
        "  \n",
        "brics_capital_area"
      ],
      "execution_count": 111,
      "outputs": [
        {
          "output_type": "execute_result",
          "data": {
            "text/html": [
              "<div>\n",
              "<style scoped>\n",
              "    .dataframe tbody tr th:only-of-type {\n",
              "        vertical-align: middle;\n",
              "    }\n",
              "\n",
              "    .dataframe tbody tr th {\n",
              "        vertical-align: top;\n",
              "    }\n",
              "\n",
              "    .dataframe thead th {\n",
              "        text-align: right;\n",
              "    }\n",
              "</style>\n",
              "<table border=\"1\" class=\"dataframe\">\n",
              "  <thead>\n",
              "    <tr style=\"text-align: right;\">\n",
              "      <th></th>\n",
              "      <th>country</th>\n",
              "      <th>capital</th>\n",
              "      <th>area</th>\n",
              "    </tr>\n",
              "  </thead>\n",
              "  <tbody>\n",
              "    <tr>\n",
              "      <th>0</th>\n",
              "      <td>Brazil</td>\n",
              "      <td>Brasilia</td>\n",
              "      <td>8.516</td>\n",
              "    </tr>\n",
              "    <tr>\n",
              "      <th>1</th>\n",
              "      <td>Russia</td>\n",
              "      <td>Moscow</td>\n",
              "      <td>17.100</td>\n",
              "    </tr>\n",
              "    <tr>\n",
              "      <th>2</th>\n",
              "      <td>India</td>\n",
              "      <td>New Dehli</td>\n",
              "      <td>3.286</td>\n",
              "    </tr>\n",
              "    <tr>\n",
              "      <th>3</th>\n",
              "      <td>China</td>\n",
              "      <td>Beijing</td>\n",
              "      <td>9.597</td>\n",
              "    </tr>\n",
              "    <tr>\n",
              "      <th>4</th>\n",
              "      <td>South Africa</td>\n",
              "      <td>Pretoria</td>\n",
              "      <td>1.221</td>\n",
              "    </tr>\n",
              "  </tbody>\n",
              "</table>\n",
              "</div>"
            ],
            "text/plain": [
              "        country    capital    area\n",
              "0        Brazil   Brasilia   8.516\n",
              "1        Russia     Moscow  17.100\n",
              "2         India  New Dehli   3.286\n",
              "3         China    Beijing   9.597\n",
              "4  South Africa   Pretoria   1.221"
            ]
          },
          "metadata": {
            "tags": []
          },
          "execution_count": 111
        }
      ]
    },
    {
      "cell_type": "code",
      "metadata": {
        "colab": {
          "base_uri": "https://localhost:8080/",
          "height": 204
        },
        "id": "vIcve6D0qh9T",
        "outputId": "d5047be5-98fb-4b89-8214-eeff990b733d"
      },
      "source": [
        "## creating lists\n",
        "country = [\"Russia\", \"India\", \"China\", \"South Africa\",\"Brazil\"] \n",
        "population = [143.5, 1252, 1357, 52.98,200.4]\n",
        "\n",
        "## converting lists to pandas series\n",
        "country_series = pd.Series(country) \n",
        "population_series = pd.Series(population) \n",
        "\n",
        "brics_dict = { 'country': country_series, 'population': population_series} \n",
        "  \n",
        "brics_population = pd.DataFrame(brics_dict) \n",
        "  \n",
        "brics_population"
      ],
      "execution_count": 112,
      "outputs": [
        {
          "output_type": "execute_result",
          "data": {
            "text/html": [
              "<div>\n",
              "<style scoped>\n",
              "    .dataframe tbody tr th:only-of-type {\n",
              "        vertical-align: middle;\n",
              "    }\n",
              "\n",
              "    .dataframe tbody tr th {\n",
              "        vertical-align: top;\n",
              "    }\n",
              "\n",
              "    .dataframe thead th {\n",
              "        text-align: right;\n",
              "    }\n",
              "</style>\n",
              "<table border=\"1\" class=\"dataframe\">\n",
              "  <thead>\n",
              "    <tr style=\"text-align: right;\">\n",
              "      <th></th>\n",
              "      <th>country</th>\n",
              "      <th>population</th>\n",
              "    </tr>\n",
              "  </thead>\n",
              "  <tbody>\n",
              "    <tr>\n",
              "      <th>0</th>\n",
              "      <td>Russia</td>\n",
              "      <td>143.50</td>\n",
              "    </tr>\n",
              "    <tr>\n",
              "      <th>1</th>\n",
              "      <td>India</td>\n",
              "      <td>1252.00</td>\n",
              "    </tr>\n",
              "    <tr>\n",
              "      <th>2</th>\n",
              "      <td>China</td>\n",
              "      <td>1357.00</td>\n",
              "    </tr>\n",
              "    <tr>\n",
              "      <th>3</th>\n",
              "      <td>South Africa</td>\n",
              "      <td>52.98</td>\n",
              "    </tr>\n",
              "    <tr>\n",
              "      <th>4</th>\n",
              "      <td>Brazil</td>\n",
              "      <td>200.40</td>\n",
              "    </tr>\n",
              "  </tbody>\n",
              "</table>\n",
              "</div>"
            ],
            "text/plain": [
              "        country  population\n",
              "0        Russia      143.50\n",
              "1         India     1252.00\n",
              "2         China     1357.00\n",
              "3  South Africa       52.98\n",
              "4        Brazil      200.40"
            ]
          },
          "metadata": {
            "tags": []
          },
          "execution_count": 112
        }
      ]
    },
    {
      "cell_type": "code",
      "metadata": {
        "colab": {
          "base_uri": "https://localhost:8080/",
          "height": 204
        },
        "id": "ejaZMoHBtLho",
        "outputId": "855fe5e6-ca79-49ac-9731-11c5f9a6e811"
      },
      "source": [
        "pd.merge(brics_capital_area, brics_population, on=['country'])"
      ],
      "execution_count": 115,
      "outputs": [
        {
          "output_type": "execute_result",
          "data": {
            "text/html": [
              "<div>\n",
              "<style scoped>\n",
              "    .dataframe tbody tr th:only-of-type {\n",
              "        vertical-align: middle;\n",
              "    }\n",
              "\n",
              "    .dataframe tbody tr th {\n",
              "        vertical-align: top;\n",
              "    }\n",
              "\n",
              "    .dataframe thead th {\n",
              "        text-align: right;\n",
              "    }\n",
              "</style>\n",
              "<table border=\"1\" class=\"dataframe\">\n",
              "  <thead>\n",
              "    <tr style=\"text-align: right;\">\n",
              "      <th></th>\n",
              "      <th>country</th>\n",
              "      <th>capital</th>\n",
              "      <th>area</th>\n",
              "      <th>population</th>\n",
              "    </tr>\n",
              "  </thead>\n",
              "  <tbody>\n",
              "    <tr>\n",
              "      <th>0</th>\n",
              "      <td>Brazil</td>\n",
              "      <td>Brasilia</td>\n",
              "      <td>8.516</td>\n",
              "      <td>200.40</td>\n",
              "    </tr>\n",
              "    <tr>\n",
              "      <th>1</th>\n",
              "      <td>Russia</td>\n",
              "      <td>Moscow</td>\n",
              "      <td>17.100</td>\n",
              "      <td>143.50</td>\n",
              "    </tr>\n",
              "    <tr>\n",
              "      <th>2</th>\n",
              "      <td>India</td>\n",
              "      <td>New Dehli</td>\n",
              "      <td>3.286</td>\n",
              "      <td>1252.00</td>\n",
              "    </tr>\n",
              "    <tr>\n",
              "      <th>3</th>\n",
              "      <td>China</td>\n",
              "      <td>Beijing</td>\n",
              "      <td>9.597</td>\n",
              "      <td>1357.00</td>\n",
              "    </tr>\n",
              "    <tr>\n",
              "      <th>4</th>\n",
              "      <td>South Africa</td>\n",
              "      <td>Pretoria</td>\n",
              "      <td>1.221</td>\n",
              "      <td>52.98</td>\n",
              "    </tr>\n",
              "  </tbody>\n",
              "</table>\n",
              "</div>"
            ],
            "text/plain": [
              "        country    capital    area  population\n",
              "0        Brazil   Brasilia   8.516      200.40\n",
              "1        Russia     Moscow  17.100      143.50\n",
              "2         India  New Dehli   3.286     1252.00\n",
              "3         China    Beijing   9.597     1357.00\n",
              "4  South Africa   Pretoria   1.221       52.98"
            ]
          },
          "metadata": {
            "tags": []
          },
          "execution_count": 115
        }
      ]
    },
    {
      "cell_type": "markdown",
      "metadata": {
        "id": "ESYSNihf06sL"
      },
      "source": [
        "# General Exercises\n",
        "**Exercise 1.14:** Write a python code that creates two string variables and two floating-point number variables. The first string should contain your first name. The second string should contain your family name. The two floating numbers should contain two random numbers. After creating the variables, print out the full name in one line and the sum of the two floating-point numbers in another line. "
      ]
    },
    {
      "cell_type": "code",
      "metadata": {
        "id": "zZWRuwt5FBuH"
      },
      "source": [
        "## Write your code here\n"
      ],
      "execution_count": null,
      "outputs": []
    },
    {
      "cell_type": "markdown",
      "metadata": {
        "id": "-1877rojFH6j"
      },
      "source": [
        "**Exercise 1.15:** Write a python code that creates six integer variables that represent two dates; D1/M1/Y1 and D2/M2/Y2. Write a code that determines which of the two dates is the newest date. Print on screen the newest date."
      ]
    },
    {
      "cell_type": "code",
      "metadata": {
        "id": "ynyGX7JGFEpu"
      },
      "source": [
        "## Write your code here\n"
      ],
      "execution_count": null,
      "outputs": []
    },
    {
      "cell_type": "markdown",
      "metadata": {
        "id": "Ij_o-XFlFKDp"
      },
      "source": [
        "**Exercise 1.16:** Write a python code that creates six integer variables that represent the current date D1/M1/Y1 and Date of Birth of a specific person D2/M2/Y2. Write a python code that computes the age of that person. Print the resulted age on screen. "
      ]
    },
    {
      "cell_type": "code",
      "metadata": {
        "id": "2wvODXXCFEEm"
      },
      "source": [
        "## Write your code here\n"
      ],
      "execution_count": null,
      "outputs": []
    },
    {
      "cell_type": "markdown",
      "metadata": {
        "id": "gjGv2pJdFLB3"
      },
      "source": [
        "**Exercise 1.17:** Write a python code that reads text from a file and write it to another file."
      ]
    },
    {
      "cell_type": "code",
      "metadata": {
        "id": "joBoYHavFNSj"
      },
      "source": [
        "## Write your code here\n"
      ],
      "execution_count": null,
      "outputs": []
    },
    {
      "cell_type": "markdown",
      "metadata": {
        "id": "JdD5ccdBHYtp"
      },
      "source": [
        "# References\n",
        "\n",
        "The material of this notebook excluding the exercises are selected from \\\\\n",
        "[1] pandas tutorial at learnpython.org \\\\\n",
        "[2] Geeks for Geeks at https://www.geeksforgeeks.org/python-pandas-series/ \\\\\n",
        "[3] Panda documents at https://pandas.pydata.org/pandas-docs/"
      ]
    }
  ]
}
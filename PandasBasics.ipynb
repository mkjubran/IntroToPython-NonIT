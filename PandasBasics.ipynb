{
  "nbformat": 4,
  "nbformat_minor": 0,
  "metadata": {
    "colab": {
      "name": "PandasBasics.ipynb",
      "provenance": [],
      "collapsed_sections": [],
      "authorship_tag": "ABX9TyPlPYtdwXi/SsARegyRS+MG",
      "include_colab_link": true
    },
    "kernelspec": {
      "name": "python3",
      "display_name": "Python 3"
    }
  },
  "cells": [
    {
      "cell_type": "markdown",
      "metadata": {
        "id": "view-in-github",
        "colab_type": "text"
      },
      "source": [
        "<a href=\"https://colab.research.google.com/github/mkjubran/IntroToPython-NonIT/blob/main/PandasBasics.ipynb\" target=\"_parent\"><img src=\"https://colab.research.google.com/assets/colab-badge.svg\" alt=\"Open In Colab\"/></a>"
      ]
    },
    {
      "cell_type": "markdown",
      "metadata": {
        "id": "dV2V4JBJvSKS"
      },
      "source": [
        "# Pandas Basics\n",
        "By the end of this tutorial, you will be able to:\n",
        "\n",
        "-       Create, read and store data using Pandas\n",
        "\n",
        "-       Manipulate data using Pandas"
      ]
    },
    {
      "cell_type": "markdown",
      "metadata": {
        "id": "EL-byoYVKzD6"
      },
      "source": [
        "# Pandas DataFrames"
      ]
    },
    {
      "cell_type": "markdown",
      "metadata": {
        "id": "hCVxetA2H3UG"
      },
      "source": [
        "Pandas is a high-level data manipulation tool. Its key data structure is called the DataFrame. DataFrames allow you to store and manipulate tabular data in rows of observations and columns of variables.\n",
        "\n",
        "Let us start this tutorial by importing the pandas library."
      ]
    },
    {
      "cell_type": "code",
      "metadata": {
        "id": "kJqie325uGXr"
      },
      "source": [
        "## importing the pandas library\n",
        "import pandas as pd"
      ],
      "execution_count": 123,
      "outputs": []
    },
    {
      "cell_type": "markdown",
      "metadata": {
        "id": "p_VKL3fOIGms"
      },
      "source": [
        "We also need to clone some files to be used in the tutorial."
      ]
    },
    {
      "cell_type": "code",
      "metadata": {
        "id": "f6nNum2ACbis",
        "colab": {
          "base_uri": "https://localhost:8080/"
        },
        "outputId": "71bca665-8fa9-4ca8-dd9d-7c2477d3a493"
      },
      "source": [
        "!rm -rf ./MachineLearning\n",
        "!git clone https://github.com/mkjubran/MachineLearning.git"
      ],
      "execution_count": 124,
      "outputs": [
        {
          "output_type": "stream",
          "text": [
            "Cloning into 'MachineLearning'...\n",
            "remote: Enumerating objects: 7, done.\u001b[K\n",
            "remote: Counting objects: 100% (7/7), done.\u001b[K\n",
            "remote: Compressing objects: 100% (6/6), done.\u001b[K\n",
            "remote: Total 257 (delta 1), reused 6 (delta 1), pack-reused 250\u001b[K\n",
            "Receiving objects: 100% (257/257), 72.83 MiB | 7.95 MiB/s, done.\n",
            "Resolving deltas: 100% (116/116), done.\n"
          ],
          "name": "stdout"
        }
      ]
    },
    {
      "cell_type": "markdown",
      "metadata": {
        "id": "DiHethOqawGb"
      },
      "source": [
        "## Creating DataFrames using Dictionary\n",
        "There are several ways to create a DataFrame. One way way is to use a dictionary."
      ]
    },
    {
      "cell_type": "code",
      "metadata": {
        "id": "9sSNC75THqcW",
        "colab": {
          "base_uri": "https://localhost:8080/",
          "height": 309
        },
        "outputId": "5f34d6f1-6de6-42b3-88a0-ef0df06f29be"
      },
      "source": [
        "dict = {\"country\": [\"Brazil\", \"Russia\", \"India\", \"China\", \"South Africa\"],\n",
        "       \"capital\": [\"Brasilia\", \"Moscow\", \"New Dehli\", \"Beijing\", \"Pretoria\"],\n",
        "       \"area\": [8.516, 17.10, 3.286, 9.597, 1.221],\n",
        "       \"population\": [200.4, 143.5, 1252, 1357, 52.98] }\n",
        "\n",
        "print('This is the dictionary data')\n",
        "print(dict)\n",
        "\n",
        "\n",
        "brics = pd.DataFrame(dict) ## converting the dictionary data into pandas dataframe\n",
        "\n",
        "\n",
        "print('\\n\\nThis is the Pandas DataFrame')\n",
        "brics"
      ],
      "execution_count": 125,
      "outputs": [
        {
          "output_type": "stream",
          "text": [
            "This is the dictionary data\n",
            "{'country': ['Brazil', 'Russia', 'India', 'China', 'South Africa'], 'capital': ['Brasilia', 'Moscow', 'New Dehli', 'Beijing', 'Pretoria'], 'area': [8.516, 17.1, 3.286, 9.597, 1.221], 'population': [200.4, 143.5, 1252, 1357, 52.98]}\n",
            "\n",
            "\n",
            "This is the Pandas DataFrame\n"
          ],
          "name": "stdout"
        },
        {
          "output_type": "execute_result",
          "data": {
            "text/html": [
              "<div>\n",
              "<style scoped>\n",
              "    .dataframe tbody tr th:only-of-type {\n",
              "        vertical-align: middle;\n",
              "    }\n",
              "\n",
              "    .dataframe tbody tr th {\n",
              "        vertical-align: top;\n",
              "    }\n",
              "\n",
              "    .dataframe thead th {\n",
              "        text-align: right;\n",
              "    }\n",
              "</style>\n",
              "<table border=\"1\" class=\"dataframe\">\n",
              "  <thead>\n",
              "    <tr style=\"text-align: right;\">\n",
              "      <th></th>\n",
              "      <th>country</th>\n",
              "      <th>capital</th>\n",
              "      <th>area</th>\n",
              "      <th>population</th>\n",
              "    </tr>\n",
              "  </thead>\n",
              "  <tbody>\n",
              "    <tr>\n",
              "      <th>0</th>\n",
              "      <td>Brazil</td>\n",
              "      <td>Brasilia</td>\n",
              "      <td>8.516</td>\n",
              "      <td>200.40</td>\n",
              "    </tr>\n",
              "    <tr>\n",
              "      <th>1</th>\n",
              "      <td>Russia</td>\n",
              "      <td>Moscow</td>\n",
              "      <td>17.100</td>\n",
              "      <td>143.50</td>\n",
              "    </tr>\n",
              "    <tr>\n",
              "      <th>2</th>\n",
              "      <td>India</td>\n",
              "      <td>New Dehli</td>\n",
              "      <td>3.286</td>\n",
              "      <td>1252.00</td>\n",
              "    </tr>\n",
              "    <tr>\n",
              "      <th>3</th>\n",
              "      <td>China</td>\n",
              "      <td>Beijing</td>\n",
              "      <td>9.597</td>\n",
              "      <td>1357.00</td>\n",
              "    </tr>\n",
              "    <tr>\n",
              "      <th>4</th>\n",
              "      <td>South Africa</td>\n",
              "      <td>Pretoria</td>\n",
              "      <td>1.221</td>\n",
              "      <td>52.98</td>\n",
              "    </tr>\n",
              "  </tbody>\n",
              "</table>\n",
              "</div>"
            ],
            "text/plain": [
              "        country    capital    area  population\n",
              "0        Brazil   Brasilia   8.516      200.40\n",
              "1        Russia     Moscow  17.100      143.50\n",
              "2         India  New Dehli   3.286     1252.00\n",
              "3         China    Beijing   9.597     1357.00\n",
              "4  South Africa   Pretoria   1.221       52.98"
            ]
          },
          "metadata": {
            "tags": []
          },
          "execution_count": 125
        }
      ]
    },
    {
      "cell_type": "markdown",
      "metadata": {
        "id": "Tk-xLANgKFGd"
      },
      "source": [
        "**Exercise 2.1:** Create a DataFrame using dictionary with the following data\n",
        "\n",
        "Index | First Name | Family Name | Age\n",
        "--- | --- | --- | ---\n",
        "1| Ammar | Saleem | 22\n",
        "2| Amer | Saleem | 17\n",
        "3| Laila | Saleem | 12\n",
        "4| Salwa | Emran | 19\n",
        "5| Eman | Emran | 15\n",
        "6| Noor | Osama | 10\n",
        "7| Nizar | Osama | 17"
      ]
    },
    {
      "cell_type": "code",
      "metadata": {
        "id": "bAdVl41uE4jC"
      },
      "source": [
        "## Write your code here\n"
      ],
      "execution_count": 126,
      "outputs": []
    },
    {
      "cell_type": "markdown",
      "metadata": {
        "id": "8UBgyel9PZDm"
      },
      "source": [
        "##Creating DataFrames using Series\n",
        "\n",
        "Another way is by creating Dataframe from Series.\n",
        "\n",
        "Pandas Series is a one-dimensional labeled array capable of holding data of any type (integer, string, float, python objects, etc.). The axis labels are collectively called index. Pandas Series is nothing but a column in an excel sheet. Labels need not be unique but must be a hashable type. The object supports both integer and label-based indexing and provides a host of methods for performing operations involving the index. [2]"
      ]
    },
    {
      "cell_type": "code",
      "metadata": {
        "id": "ycFtepsvPX51",
        "colab": {
          "base_uri": "https://localhost:8080/",
          "height": 204
        },
        "outputId": "b967d27e-7f35-4799-93b3-15aace69e113"
      },
      "source": [
        "## creating lists\n",
        "country = [\"Brazil\", \"Russia\", \"India\", \"China\", \"South Africa\"] \n",
        "capital = [\"Brasilia\", \"Moscow\", \"New Dehli\", \"Beijing\", \"Pretoria\"]\n",
        "area = [8.516, 17.10, 3.286, 9.597, 1.221]\n",
        "population = [200.4, 143.5, 1252, 1357, 52.98]\n",
        "\n",
        "## converting lists to pandas series\n",
        "country_series = pd.Series(country) \n",
        "capital_series = pd.Series(capital) \n",
        "area_series = pd.Series(area) \n",
        "population_series = pd.Series(population) \n",
        "\n",
        "brics_dict = { 'country': country_series, 'capital': capital_series, 'area': area_series, 'population': population_series} \n",
        "  \n",
        "brics = pd.DataFrame(brics_dict) \n",
        "  \n",
        "brics"
      ],
      "execution_count": 127,
      "outputs": [
        {
          "output_type": "execute_result",
          "data": {
            "text/html": [
              "<div>\n",
              "<style scoped>\n",
              "    .dataframe tbody tr th:only-of-type {\n",
              "        vertical-align: middle;\n",
              "    }\n",
              "\n",
              "    .dataframe tbody tr th {\n",
              "        vertical-align: top;\n",
              "    }\n",
              "\n",
              "    .dataframe thead th {\n",
              "        text-align: right;\n",
              "    }\n",
              "</style>\n",
              "<table border=\"1\" class=\"dataframe\">\n",
              "  <thead>\n",
              "    <tr style=\"text-align: right;\">\n",
              "      <th></th>\n",
              "      <th>country</th>\n",
              "      <th>capital</th>\n",
              "      <th>area</th>\n",
              "      <th>population</th>\n",
              "    </tr>\n",
              "  </thead>\n",
              "  <tbody>\n",
              "    <tr>\n",
              "      <th>0</th>\n",
              "      <td>Brazil</td>\n",
              "      <td>Brasilia</td>\n",
              "      <td>8.516</td>\n",
              "      <td>200.40</td>\n",
              "    </tr>\n",
              "    <tr>\n",
              "      <th>1</th>\n",
              "      <td>Russia</td>\n",
              "      <td>Moscow</td>\n",
              "      <td>17.100</td>\n",
              "      <td>143.50</td>\n",
              "    </tr>\n",
              "    <tr>\n",
              "      <th>2</th>\n",
              "      <td>India</td>\n",
              "      <td>New Dehli</td>\n",
              "      <td>3.286</td>\n",
              "      <td>1252.00</td>\n",
              "    </tr>\n",
              "    <tr>\n",
              "      <th>3</th>\n",
              "      <td>China</td>\n",
              "      <td>Beijing</td>\n",
              "      <td>9.597</td>\n",
              "      <td>1357.00</td>\n",
              "    </tr>\n",
              "    <tr>\n",
              "      <th>4</th>\n",
              "      <td>South Africa</td>\n",
              "      <td>Pretoria</td>\n",
              "      <td>1.221</td>\n",
              "      <td>52.98</td>\n",
              "    </tr>\n",
              "  </tbody>\n",
              "</table>\n",
              "</div>"
            ],
            "text/plain": [
              "        country    capital    area  population\n",
              "0        Brazil   Brasilia   8.516      200.40\n",
              "1        Russia     Moscow  17.100      143.50\n",
              "2         India  New Dehli   3.286     1252.00\n",
              "3         China    Beijing   9.597     1357.00\n",
              "4  South Africa   Pretoria   1.221       52.98"
            ]
          },
          "metadata": {
            "tags": []
          },
          "execution_count": 127
        }
      ]
    },
    {
      "cell_type": "markdown",
      "metadata": {
        "id": "fku55-KEFEi_"
      },
      "source": [
        "**Exercise 2.2:** Create a DataFrame using series with the following data\n",
        "\n",
        "Index | First Name | Family Name | Age\n",
        "--- | --- | --- | ---\n",
        "1| Ammar | Saleem | 22\n",
        "2| Amer | Saleem | 17\n",
        "3| Laila | Saleem | 12\n",
        "4| Salwa | Emran | 19\n",
        "5| Eman | Emran | 15\n",
        "6| Noor | Osama | 10\n",
        "7| Nizar | Osama | 17"
      ]
    },
    {
      "cell_type": "code",
      "metadata": {
        "id": "PdGhoJ7oFKvj"
      },
      "source": [
        "## Write your code here\n"
      ],
      "execution_count": 128,
      "outputs": []
    },
    {
      "cell_type": "markdown",
      "metadata": {
        "id": "PLzd7MM1IZL8"
      },
      "source": [
        "## Creating DataFrames by importing .csv files\n",
        "\n",
        "In another way, a DataFrame can be created by importing a csv file using Pandas.\n",
        "\n",
        "The \"cars.csv\" file was cloned using the commands in section \"Pandas DataFrames\". The csv file  is  stored and can be read using pd.read_csv."
      ]
    },
    {
      "cell_type": "code",
      "metadata": {
        "id": "-syLi9jMIaEQ",
        "colab": {
          "base_uri": "https://localhost:8080/",
          "height": 452
        },
        "outputId": "daa3f6d5-6758-4515-870a-39b7e6364fc3"
      },
      "source": [
        "# Import the cars.csv data: cars\n",
        "cars = pd.read_csv(\"./MachineLearning/1_Regression/carprices.csv\")\n",
        "\n",
        "# Print out cars\n",
        "cars"
      ],
      "execution_count": 129,
      "outputs": [
        {
          "output_type": "execute_result",
          "data": {
            "text/html": [
              "<div>\n",
              "<style scoped>\n",
              "    .dataframe tbody tr th:only-of-type {\n",
              "        vertical-align: middle;\n",
              "    }\n",
              "\n",
              "    .dataframe tbody tr th {\n",
              "        vertical-align: top;\n",
              "    }\n",
              "\n",
              "    .dataframe thead th {\n",
              "        text-align: right;\n",
              "    }\n",
              "</style>\n",
              "<table border=\"1\" class=\"dataframe\">\n",
              "  <thead>\n",
              "    <tr style=\"text-align: right;\">\n",
              "      <th></th>\n",
              "      <th>Car Model</th>\n",
              "      <th>Mileage</th>\n",
              "      <th>Sell Price($)</th>\n",
              "      <th>Age(yrs)</th>\n",
              "    </tr>\n",
              "  </thead>\n",
              "  <tbody>\n",
              "    <tr>\n",
              "      <th>0</th>\n",
              "      <td>BMW X5</td>\n",
              "      <td>69000</td>\n",
              "      <td>18000</td>\n",
              "      <td>6</td>\n",
              "    </tr>\n",
              "    <tr>\n",
              "      <th>1</th>\n",
              "      <td>BMW X5</td>\n",
              "      <td>35000</td>\n",
              "      <td>34000</td>\n",
              "      <td>3</td>\n",
              "    </tr>\n",
              "    <tr>\n",
              "      <th>2</th>\n",
              "      <td>BMW X5</td>\n",
              "      <td>57000</td>\n",
              "      <td>26100</td>\n",
              "      <td>5</td>\n",
              "    </tr>\n",
              "    <tr>\n",
              "      <th>3</th>\n",
              "      <td>BMW X5</td>\n",
              "      <td>22500</td>\n",
              "      <td>40000</td>\n",
              "      <td>2</td>\n",
              "    </tr>\n",
              "    <tr>\n",
              "      <th>4</th>\n",
              "      <td>BMW X5</td>\n",
              "      <td>46000</td>\n",
              "      <td>31500</td>\n",
              "      <td>4</td>\n",
              "    </tr>\n",
              "    <tr>\n",
              "      <th>5</th>\n",
              "      <td>Audi A5</td>\n",
              "      <td>59000</td>\n",
              "      <td>29400</td>\n",
              "      <td>5</td>\n",
              "    </tr>\n",
              "    <tr>\n",
              "      <th>6</th>\n",
              "      <td>Audi A5</td>\n",
              "      <td>52000</td>\n",
              "      <td>32000</td>\n",
              "      <td>5</td>\n",
              "    </tr>\n",
              "    <tr>\n",
              "      <th>7</th>\n",
              "      <td>Audi A5</td>\n",
              "      <td>72000</td>\n",
              "      <td>19300</td>\n",
              "      <td>6</td>\n",
              "    </tr>\n",
              "    <tr>\n",
              "      <th>8</th>\n",
              "      <td>Audi A5</td>\n",
              "      <td>91000</td>\n",
              "      <td>12000</td>\n",
              "      <td>8</td>\n",
              "    </tr>\n",
              "    <tr>\n",
              "      <th>9</th>\n",
              "      <td>Mercedez Benz C class</td>\n",
              "      <td>67000</td>\n",
              "      <td>22000</td>\n",
              "      <td>6</td>\n",
              "    </tr>\n",
              "    <tr>\n",
              "      <th>10</th>\n",
              "      <td>Mercedez Benz C class</td>\n",
              "      <td>83000</td>\n",
              "      <td>20000</td>\n",
              "      <td>7</td>\n",
              "    </tr>\n",
              "    <tr>\n",
              "      <th>11</th>\n",
              "      <td>Mercedez Benz C class</td>\n",
              "      <td>79000</td>\n",
              "      <td>21000</td>\n",
              "      <td>7</td>\n",
              "    </tr>\n",
              "    <tr>\n",
              "      <th>12</th>\n",
              "      <td>Mercedez Benz C class</td>\n",
              "      <td>59000</td>\n",
              "      <td>33000</td>\n",
              "      <td>5</td>\n",
              "    </tr>\n",
              "  </tbody>\n",
              "</table>\n",
              "</div>"
            ],
            "text/plain": [
              "                Car Model  Mileage  Sell Price($)  Age(yrs)\n",
              "0                  BMW X5    69000          18000         6\n",
              "1                  BMW X5    35000          34000         3\n",
              "2                  BMW X5    57000          26100         5\n",
              "3                  BMW X5    22500          40000         2\n",
              "4                  BMW X5    46000          31500         4\n",
              "5                 Audi A5    59000          29400         5\n",
              "6                 Audi A5    52000          32000         5\n",
              "7                 Audi A5    72000          19300         6\n",
              "8                 Audi A5    91000          12000         8\n",
              "9   Mercedez Benz C class    67000          22000         6\n",
              "10  Mercedez Benz C class    83000          20000         7\n",
              "11  Mercedez Benz C class    79000          21000         7\n",
              "12  Mercedez Benz C class    59000          33000         5"
            ]
          },
          "metadata": {
            "tags": []
          },
          "execution_count": 129
        }
      ]
    },
    {
      "cell_type": "markdown",
      "metadata": {
        "id": "Og45JOTzSSJh"
      },
      "source": [
        "We can also store a DataFrame to a .csv file as follows"
      ]
    },
    {
      "cell_type": "code",
      "metadata": {
        "id": "Uk9UFV7YSYyE"
      },
      "source": [
        "cars.to_csv(\"./MachineLearning/1_Regression/carprices_new.csv\", index = False)"
      ],
      "execution_count": 163,
      "outputs": []
    },
    {
      "cell_type": "markdown",
      "metadata": {
        "id": "Z_g_SeqISl4v"
      },
      "source": [
        "You can view the new \"carprices_new.csv\" file in the google colab files menu."
      ]
    },
    {
      "cell_type": "markdown",
      "metadata": {
        "id": "K9MiPt6IH_vc"
      },
      "source": [
        "**Exercise 2.3:** Write a code to read the data in \"Mall_Customers_short.csv\" using and display it as pandas DataFrame. This file was cloned to the \"./MachineLearning/1_Regression/\" folder."
      ]
    },
    {
      "cell_type": "code",
      "metadata": {
        "id": "tYIFrudWFObl"
      },
      "source": [
        "## Write your code here\n"
      ],
      "execution_count": 130,
      "outputs": []
    },
    {
      "cell_type": "markdown",
      "metadata": {
        "id": "Sp6PQ6nfS1hB"
      },
      "source": [
        "**Exercise 2.4:** Write a code to store the DataFrame of Exercise 2.3 into a new csv file."
      ]
    },
    {
      "cell_type": "code",
      "metadata": {
        "id": "msZxl8LlTFEN"
      },
      "source": [
        "## Write your code here\n"
      ],
      "execution_count": null,
      "outputs": []
    },
    {
      "cell_type": "markdown",
      "metadata": {
        "id": "fhY1V6KMNrN4"
      },
      "source": [
        "# Indexing and Selecting Data in DataFrames\n",
        "There are several ways to index and select data in Pandas DataFrame. One of the easiest ways to do this is by using square bracket notation.\n",
        "\n",
        "In the example below, you can use square brackets to select one column of the cars DataFrame. You can either use a single bracket or a double bracket. The single bracket with output a Pandas Series, while a double bracket will output a Pandas DataFrame."
      ]
    },
    {
      "cell_type": "markdown",
      "metadata": {
        "id": "1VV4zN_QvGeK"
      },
      "source": [
        "Print out Mileage column as Pandas Series"
      ]
    },
    {
      "cell_type": "code",
      "metadata": {
        "id": "qpPqdCQRNuxP",
        "colab": {
          "base_uri": "https://localhost:8080/"
        },
        "outputId": "e05772d5-e20d-43b8-cddf-82a40b12f0da"
      },
      "source": [
        "# Read cars.csv\n",
        "cars = pd.read_csv(\"./MachineLearning/1_Regression/carprices.csv\", index_col = 0)\n",
        "\n",
        "# Print out Mileage column as Pandas Series\n",
        "x=cars['Mileage']\n",
        "print(type(x))\n",
        "cars['Mileage']"
      ],
      "execution_count": 131,
      "outputs": [
        {
          "output_type": "stream",
          "text": [
            "<class 'pandas.core.series.Series'>\n"
          ],
          "name": "stdout"
        },
        {
          "output_type": "execute_result",
          "data": {
            "text/plain": [
              "Car Model\n",
              "BMW X5                   69000\n",
              "BMW X5                   35000\n",
              "BMW X5                   57000\n",
              "BMW X5                   22500\n",
              "BMW X5                   46000\n",
              "Audi A5                  59000\n",
              "Audi A5                  52000\n",
              "Audi A5                  72000\n",
              "Audi A5                  91000\n",
              "Mercedez Benz C class    67000\n",
              "Mercedez Benz C class    83000\n",
              "Mercedez Benz C class    79000\n",
              "Mercedez Benz C class    59000\n",
              "Name: Mileage, dtype: int64"
            ]
          },
          "metadata": {
            "tags": []
          },
          "execution_count": 131
        }
      ]
    },
    {
      "cell_type": "markdown",
      "metadata": {
        "id": "L5_JjS3kvWxE"
      },
      "source": [
        " Print out Sell Price($) column as Pandas DataFrame"
      ]
    },
    {
      "cell_type": "code",
      "metadata": {
        "colab": {
          "base_uri": "https://localhost:8080/",
          "height": 500
        },
        "id": "2EoD9PxFvBMz",
        "outputId": "ed42e0c6-e2b9-469a-8c47-f64df107127e"
      },
      "source": [
        "# Print out Sell Price($) column as Pandas DataFrame\n",
        "x=cars[['Sell Price($)']]\n",
        "print(type(x))\n",
        "cars[['Sell Price($)']]\n"
      ],
      "execution_count": 132,
      "outputs": [
        {
          "output_type": "stream",
          "text": [
            "<class 'pandas.core.frame.DataFrame'>\n"
          ],
          "name": "stdout"
        },
        {
          "output_type": "execute_result",
          "data": {
            "text/html": [
              "<div>\n",
              "<style scoped>\n",
              "    .dataframe tbody tr th:only-of-type {\n",
              "        vertical-align: middle;\n",
              "    }\n",
              "\n",
              "    .dataframe tbody tr th {\n",
              "        vertical-align: top;\n",
              "    }\n",
              "\n",
              "    .dataframe thead th {\n",
              "        text-align: right;\n",
              "    }\n",
              "</style>\n",
              "<table border=\"1\" class=\"dataframe\">\n",
              "  <thead>\n",
              "    <tr style=\"text-align: right;\">\n",
              "      <th></th>\n",
              "      <th>Sell Price($)</th>\n",
              "    </tr>\n",
              "    <tr>\n",
              "      <th>Car Model</th>\n",
              "      <th></th>\n",
              "    </tr>\n",
              "  </thead>\n",
              "  <tbody>\n",
              "    <tr>\n",
              "      <th>BMW X5</th>\n",
              "      <td>18000</td>\n",
              "    </tr>\n",
              "    <tr>\n",
              "      <th>BMW X5</th>\n",
              "      <td>34000</td>\n",
              "    </tr>\n",
              "    <tr>\n",
              "      <th>BMW X5</th>\n",
              "      <td>26100</td>\n",
              "    </tr>\n",
              "    <tr>\n",
              "      <th>BMW X5</th>\n",
              "      <td>40000</td>\n",
              "    </tr>\n",
              "    <tr>\n",
              "      <th>BMW X5</th>\n",
              "      <td>31500</td>\n",
              "    </tr>\n",
              "    <tr>\n",
              "      <th>Audi A5</th>\n",
              "      <td>29400</td>\n",
              "    </tr>\n",
              "    <tr>\n",
              "      <th>Audi A5</th>\n",
              "      <td>32000</td>\n",
              "    </tr>\n",
              "    <tr>\n",
              "      <th>Audi A5</th>\n",
              "      <td>19300</td>\n",
              "    </tr>\n",
              "    <tr>\n",
              "      <th>Audi A5</th>\n",
              "      <td>12000</td>\n",
              "    </tr>\n",
              "    <tr>\n",
              "      <th>Mercedez Benz C class</th>\n",
              "      <td>22000</td>\n",
              "    </tr>\n",
              "    <tr>\n",
              "      <th>Mercedez Benz C class</th>\n",
              "      <td>20000</td>\n",
              "    </tr>\n",
              "    <tr>\n",
              "      <th>Mercedez Benz C class</th>\n",
              "      <td>21000</td>\n",
              "    </tr>\n",
              "    <tr>\n",
              "      <th>Mercedez Benz C class</th>\n",
              "      <td>33000</td>\n",
              "    </tr>\n",
              "  </tbody>\n",
              "</table>\n",
              "</div>"
            ],
            "text/plain": [
              "                       Sell Price($)\n",
              "Car Model                           \n",
              "BMW X5                         18000\n",
              "BMW X5                         34000\n",
              "BMW X5                         26100\n",
              "BMW X5                         40000\n",
              "BMW X5                         31500\n",
              "Audi A5                        29400\n",
              "Audi A5                        32000\n",
              "Audi A5                        19300\n",
              "Audi A5                        12000\n",
              "Mercedez Benz C class          22000\n",
              "Mercedez Benz C class          20000\n",
              "Mercedez Benz C class          21000\n",
              "Mercedez Benz C class          33000"
            ]
          },
          "metadata": {
            "tags": []
          },
          "execution_count": 132
        }
      ]
    },
    {
      "cell_type": "markdown",
      "metadata": {
        "id": "rOENBCcNvbZS"
      },
      "source": [
        "Print out DataFrame with Mileage and Sell Price($) columns"
      ]
    },
    {
      "cell_type": "code",
      "metadata": {
        "colab": {
          "base_uri": "https://localhost:8080/",
          "height": 483
        },
        "id": "Qrso0PjavZ8P",
        "outputId": "5be28fc7-68e5-4b69-b880-31447fd49cb4"
      },
      "source": [
        "# Print out DataFrame with Mileage and Sell Price($) columns\n",
        "cars[['Mileage', 'Age(yrs)']]"
      ],
      "execution_count": 133,
      "outputs": [
        {
          "output_type": "execute_result",
          "data": {
            "text/html": [
              "<div>\n",
              "<style scoped>\n",
              "    .dataframe tbody tr th:only-of-type {\n",
              "        vertical-align: middle;\n",
              "    }\n",
              "\n",
              "    .dataframe tbody tr th {\n",
              "        vertical-align: top;\n",
              "    }\n",
              "\n",
              "    .dataframe thead th {\n",
              "        text-align: right;\n",
              "    }\n",
              "</style>\n",
              "<table border=\"1\" class=\"dataframe\">\n",
              "  <thead>\n",
              "    <tr style=\"text-align: right;\">\n",
              "      <th></th>\n",
              "      <th>Mileage</th>\n",
              "      <th>Age(yrs)</th>\n",
              "    </tr>\n",
              "    <tr>\n",
              "      <th>Car Model</th>\n",
              "      <th></th>\n",
              "      <th></th>\n",
              "    </tr>\n",
              "  </thead>\n",
              "  <tbody>\n",
              "    <tr>\n",
              "      <th>BMW X5</th>\n",
              "      <td>69000</td>\n",
              "      <td>6</td>\n",
              "    </tr>\n",
              "    <tr>\n",
              "      <th>BMW X5</th>\n",
              "      <td>35000</td>\n",
              "      <td>3</td>\n",
              "    </tr>\n",
              "    <tr>\n",
              "      <th>BMW X5</th>\n",
              "      <td>57000</td>\n",
              "      <td>5</td>\n",
              "    </tr>\n",
              "    <tr>\n",
              "      <th>BMW X5</th>\n",
              "      <td>22500</td>\n",
              "      <td>2</td>\n",
              "    </tr>\n",
              "    <tr>\n",
              "      <th>BMW X5</th>\n",
              "      <td>46000</td>\n",
              "      <td>4</td>\n",
              "    </tr>\n",
              "    <tr>\n",
              "      <th>Audi A5</th>\n",
              "      <td>59000</td>\n",
              "      <td>5</td>\n",
              "    </tr>\n",
              "    <tr>\n",
              "      <th>Audi A5</th>\n",
              "      <td>52000</td>\n",
              "      <td>5</td>\n",
              "    </tr>\n",
              "    <tr>\n",
              "      <th>Audi A5</th>\n",
              "      <td>72000</td>\n",
              "      <td>6</td>\n",
              "    </tr>\n",
              "    <tr>\n",
              "      <th>Audi A5</th>\n",
              "      <td>91000</td>\n",
              "      <td>8</td>\n",
              "    </tr>\n",
              "    <tr>\n",
              "      <th>Mercedez Benz C class</th>\n",
              "      <td>67000</td>\n",
              "      <td>6</td>\n",
              "    </tr>\n",
              "    <tr>\n",
              "      <th>Mercedez Benz C class</th>\n",
              "      <td>83000</td>\n",
              "      <td>7</td>\n",
              "    </tr>\n",
              "    <tr>\n",
              "      <th>Mercedez Benz C class</th>\n",
              "      <td>79000</td>\n",
              "      <td>7</td>\n",
              "    </tr>\n",
              "    <tr>\n",
              "      <th>Mercedez Benz C class</th>\n",
              "      <td>59000</td>\n",
              "      <td>5</td>\n",
              "    </tr>\n",
              "  </tbody>\n",
              "</table>\n",
              "</div>"
            ],
            "text/plain": [
              "                       Mileage  Age(yrs)\n",
              "Car Model                               \n",
              "BMW X5                   69000         6\n",
              "BMW X5                   35000         3\n",
              "BMW X5                   57000         5\n",
              "BMW X5                   22500         2\n",
              "BMW X5                   46000         4\n",
              "Audi A5                  59000         5\n",
              "Audi A5                  52000         5\n",
              "Audi A5                  72000         6\n",
              "Audi A5                  91000         8\n",
              "Mercedez Benz C class    67000         6\n",
              "Mercedez Benz C class    83000         7\n",
              "Mercedez Benz C class    79000         7\n",
              "Mercedez Benz C class    59000         5"
            ]
          },
          "metadata": {
            "tags": []
          },
          "execution_count": 133
        }
      ]
    },
    {
      "cell_type": "markdown",
      "metadata": {
        "id": "YSQcN72URFq9"
      },
      "source": [
        "Square brackets can also be used to access observations (rows) from a DataFrame"
      ]
    },
    {
      "cell_type": "markdown",
      "metadata": {
        "id": "KwDWcxZLKKe3"
      },
      "source": [
        "**Exercise 2.5:** Display the \"Annual Income (K)\" column in the DataFrame of Exercise 2.3."
      ]
    },
    {
      "cell_type": "code",
      "metadata": {
        "id": "y5uxGE6zLopg"
      },
      "source": [
        "## Write your code here\n"
      ],
      "execution_count": 134,
      "outputs": []
    },
    {
      "cell_type": "markdown",
      "metadata": {
        "id": "RdA_jP2dw9Y7"
      },
      "source": [
        "Print out first 4 observations"
      ]
    },
    {
      "cell_type": "code",
      "metadata": {
        "id": "1D27XHHQRGWd",
        "colab": {
          "base_uri": "https://localhost:8080/",
          "height": 204
        },
        "outputId": "f9554831-fc6a-44e3-a16b-f32304cb5833"
      },
      "source": [
        "# Print out first 4 observations\n",
        "cars[0:4]"
      ],
      "execution_count": 135,
      "outputs": [
        {
          "output_type": "execute_result",
          "data": {
            "text/html": [
              "<div>\n",
              "<style scoped>\n",
              "    .dataframe tbody tr th:only-of-type {\n",
              "        vertical-align: middle;\n",
              "    }\n",
              "\n",
              "    .dataframe tbody tr th {\n",
              "        vertical-align: top;\n",
              "    }\n",
              "\n",
              "    .dataframe thead th {\n",
              "        text-align: right;\n",
              "    }\n",
              "</style>\n",
              "<table border=\"1\" class=\"dataframe\">\n",
              "  <thead>\n",
              "    <tr style=\"text-align: right;\">\n",
              "      <th></th>\n",
              "      <th>Mileage</th>\n",
              "      <th>Sell Price($)</th>\n",
              "      <th>Age(yrs)</th>\n",
              "    </tr>\n",
              "    <tr>\n",
              "      <th>Car Model</th>\n",
              "      <th></th>\n",
              "      <th></th>\n",
              "      <th></th>\n",
              "    </tr>\n",
              "  </thead>\n",
              "  <tbody>\n",
              "    <tr>\n",
              "      <th>BMW X5</th>\n",
              "      <td>69000</td>\n",
              "      <td>18000</td>\n",
              "      <td>6</td>\n",
              "    </tr>\n",
              "    <tr>\n",
              "      <th>BMW X5</th>\n",
              "      <td>35000</td>\n",
              "      <td>34000</td>\n",
              "      <td>3</td>\n",
              "    </tr>\n",
              "    <tr>\n",
              "      <th>BMW X5</th>\n",
              "      <td>57000</td>\n",
              "      <td>26100</td>\n",
              "      <td>5</td>\n",
              "    </tr>\n",
              "    <tr>\n",
              "      <th>BMW X5</th>\n",
              "      <td>22500</td>\n",
              "      <td>40000</td>\n",
              "      <td>2</td>\n",
              "    </tr>\n",
              "  </tbody>\n",
              "</table>\n",
              "</div>"
            ],
            "text/plain": [
              "           Mileage  Sell Price($)  Age(yrs)\n",
              "Car Model                                  \n",
              "BMW X5       69000          18000         6\n",
              "BMW X5       35000          34000         3\n",
              "BMW X5       57000          26100         5\n",
              "BMW X5       22500          40000         2"
            ]
          },
          "metadata": {
            "tags": []
          },
          "execution_count": 135
        }
      ]
    },
    {
      "cell_type": "markdown",
      "metadata": {
        "id": "63JL3eJ4w5U2"
      },
      "source": [
        "Print out fifth and sixth observation"
      ]
    },
    {
      "cell_type": "code",
      "metadata": {
        "colab": {
          "base_uri": "https://localhost:8080/",
          "height": 142
        },
        "id": "QAUqOTnMw5x8",
        "outputId": "2f3ebdb6-3a7b-4a5d-b76c-0d0c8b101825"
      },
      "source": [
        "# Print out fifth and sixth observation\n",
        "cars[4:6]"
      ],
      "execution_count": 136,
      "outputs": [
        {
          "output_type": "execute_result",
          "data": {
            "text/html": [
              "<div>\n",
              "<style scoped>\n",
              "    .dataframe tbody tr th:only-of-type {\n",
              "        vertical-align: middle;\n",
              "    }\n",
              "\n",
              "    .dataframe tbody tr th {\n",
              "        vertical-align: top;\n",
              "    }\n",
              "\n",
              "    .dataframe thead th {\n",
              "        text-align: right;\n",
              "    }\n",
              "</style>\n",
              "<table border=\"1\" class=\"dataframe\">\n",
              "  <thead>\n",
              "    <tr style=\"text-align: right;\">\n",
              "      <th></th>\n",
              "      <th>Mileage</th>\n",
              "      <th>Sell Price($)</th>\n",
              "      <th>Age(yrs)</th>\n",
              "    </tr>\n",
              "    <tr>\n",
              "      <th>Car Model</th>\n",
              "      <th></th>\n",
              "      <th></th>\n",
              "      <th></th>\n",
              "    </tr>\n",
              "  </thead>\n",
              "  <tbody>\n",
              "    <tr>\n",
              "      <th>BMW X5</th>\n",
              "      <td>46000</td>\n",
              "      <td>31500</td>\n",
              "      <td>4</td>\n",
              "    </tr>\n",
              "    <tr>\n",
              "      <th>Audi A5</th>\n",
              "      <td>59000</td>\n",
              "      <td>29400</td>\n",
              "      <td>5</td>\n",
              "    </tr>\n",
              "  </tbody>\n",
              "</table>\n",
              "</div>"
            ],
            "text/plain": [
              "           Mileage  Sell Price($)  Age(yrs)\n",
              "Car Model                                  \n",
              "BMW X5       46000          31500         4\n",
              "Audi A5      59000          29400         5"
            ]
          },
          "metadata": {
            "tags": []
          },
          "execution_count": 136
        }
      ]
    },
    {
      "cell_type": "markdown",
      "metadata": {
        "id": "VnmoV-M9K_TZ"
      },
      "source": [
        "**Exercise 2.6:** Display the fifth to the 12th observations of the DataFrame of Exercise 2.3."
      ]
    },
    {
      "cell_type": "code",
      "metadata": {
        "id": "nha9jTDXLjwe"
      },
      "source": [
        "## Write your code here\n"
      ],
      "execution_count": 137,
      "outputs": []
    },
    {
      "cell_type": "markdown",
      "metadata": {
        "id": "7fWz9-AiRTvE"
      },
      "source": [
        "You can also use loc and iloc to perform just about any data selection operation. iloc is integer index based, so you have to specify rows and columns by their integer index like you did in the previous exercise. loc is label-based, which means that you have to specify rows and columns based on their row and column labels."
      ]
    },
    {
      "cell_type": "markdown",
      "metadata": {
        "id": "Hfr2Td5wxFeg"
      },
      "source": [
        "Print out observation for the car in the fifth and sixth rows"
      ]
    },
    {
      "cell_type": "code",
      "metadata": {
        "id": "dH2UZ5P9RUnf",
        "colab": {
          "base_uri": "https://localhost:8080/",
          "height": 142
        },
        "outputId": "54aa5b39-f978-49e3-cae1-ca6138a121c6"
      },
      "source": [
        "# Print out observation for the car in the third row \n",
        "cars.iloc[4:6]"
      ],
      "execution_count": 138,
      "outputs": [
        {
          "output_type": "execute_result",
          "data": {
            "text/html": [
              "<div>\n",
              "<style scoped>\n",
              "    .dataframe tbody tr th:only-of-type {\n",
              "        vertical-align: middle;\n",
              "    }\n",
              "\n",
              "    .dataframe tbody tr th {\n",
              "        vertical-align: top;\n",
              "    }\n",
              "\n",
              "    .dataframe thead th {\n",
              "        text-align: right;\n",
              "    }\n",
              "</style>\n",
              "<table border=\"1\" class=\"dataframe\">\n",
              "  <thead>\n",
              "    <tr style=\"text-align: right;\">\n",
              "      <th></th>\n",
              "      <th>Mileage</th>\n",
              "      <th>Sell Price($)</th>\n",
              "      <th>Age(yrs)</th>\n",
              "    </tr>\n",
              "    <tr>\n",
              "      <th>Car Model</th>\n",
              "      <th></th>\n",
              "      <th></th>\n",
              "      <th></th>\n",
              "    </tr>\n",
              "  </thead>\n",
              "  <tbody>\n",
              "    <tr>\n",
              "      <th>BMW X5</th>\n",
              "      <td>46000</td>\n",
              "      <td>31500</td>\n",
              "      <td>4</td>\n",
              "    </tr>\n",
              "    <tr>\n",
              "      <th>Audi A5</th>\n",
              "      <td>59000</td>\n",
              "      <td>29400</td>\n",
              "      <td>5</td>\n",
              "    </tr>\n",
              "  </tbody>\n",
              "</table>\n",
              "</div>"
            ],
            "text/plain": [
              "           Mileage  Sell Price($)  Age(yrs)\n",
              "Car Model                                  \n",
              "BMW X5       46000          31500         4\n",
              "Audi A5      59000          29400         5"
            ]
          },
          "metadata": {
            "tags": []
          },
          "execution_count": 138
        }
      ]
    },
    {
      "cell_type": "markdown",
      "metadata": {
        "id": "leNV0_5uxKyB"
      },
      "source": [
        "Print out observations for BMW X5 and Audi A5"
      ]
    },
    {
      "cell_type": "code",
      "metadata": {
        "colab": {
          "base_uri": "https://localhost:8080/",
          "height": 359
        },
        "id": "UPTiT4-6xLND",
        "outputId": "b0c7f10c-7de5-4406-8091-2f62db8529e2"
      },
      "source": [
        "# Print out observations for BMW X5 and Audi A5\n",
        "cars.loc[['BMW X5', 'Audi A5']]"
      ],
      "execution_count": 139,
      "outputs": [
        {
          "output_type": "execute_result",
          "data": {
            "text/html": [
              "<div>\n",
              "<style scoped>\n",
              "    .dataframe tbody tr th:only-of-type {\n",
              "        vertical-align: middle;\n",
              "    }\n",
              "\n",
              "    .dataframe tbody tr th {\n",
              "        vertical-align: top;\n",
              "    }\n",
              "\n",
              "    .dataframe thead th {\n",
              "        text-align: right;\n",
              "    }\n",
              "</style>\n",
              "<table border=\"1\" class=\"dataframe\">\n",
              "  <thead>\n",
              "    <tr style=\"text-align: right;\">\n",
              "      <th></th>\n",
              "      <th>Mileage</th>\n",
              "      <th>Sell Price($)</th>\n",
              "      <th>Age(yrs)</th>\n",
              "    </tr>\n",
              "    <tr>\n",
              "      <th>Car Model</th>\n",
              "      <th></th>\n",
              "      <th></th>\n",
              "      <th></th>\n",
              "    </tr>\n",
              "  </thead>\n",
              "  <tbody>\n",
              "    <tr>\n",
              "      <th>BMW X5</th>\n",
              "      <td>69000</td>\n",
              "      <td>18000</td>\n",
              "      <td>6</td>\n",
              "    </tr>\n",
              "    <tr>\n",
              "      <th>BMW X5</th>\n",
              "      <td>35000</td>\n",
              "      <td>34000</td>\n",
              "      <td>3</td>\n",
              "    </tr>\n",
              "    <tr>\n",
              "      <th>BMW X5</th>\n",
              "      <td>57000</td>\n",
              "      <td>26100</td>\n",
              "      <td>5</td>\n",
              "    </tr>\n",
              "    <tr>\n",
              "      <th>BMW X5</th>\n",
              "      <td>22500</td>\n",
              "      <td>40000</td>\n",
              "      <td>2</td>\n",
              "    </tr>\n",
              "    <tr>\n",
              "      <th>BMW X5</th>\n",
              "      <td>46000</td>\n",
              "      <td>31500</td>\n",
              "      <td>4</td>\n",
              "    </tr>\n",
              "    <tr>\n",
              "      <th>Audi A5</th>\n",
              "      <td>59000</td>\n",
              "      <td>29400</td>\n",
              "      <td>5</td>\n",
              "    </tr>\n",
              "    <tr>\n",
              "      <th>Audi A5</th>\n",
              "      <td>52000</td>\n",
              "      <td>32000</td>\n",
              "      <td>5</td>\n",
              "    </tr>\n",
              "    <tr>\n",
              "      <th>Audi A5</th>\n",
              "      <td>72000</td>\n",
              "      <td>19300</td>\n",
              "      <td>6</td>\n",
              "    </tr>\n",
              "    <tr>\n",
              "      <th>Audi A5</th>\n",
              "      <td>91000</td>\n",
              "      <td>12000</td>\n",
              "      <td>8</td>\n",
              "    </tr>\n",
              "  </tbody>\n",
              "</table>\n",
              "</div>"
            ],
            "text/plain": [
              "           Mileage  Sell Price($)  Age(yrs)\n",
              "Car Model                                  \n",
              "BMW X5       69000          18000         6\n",
              "BMW X5       35000          34000         3\n",
              "BMW X5       57000          26100         5\n",
              "BMW X5       22500          40000         2\n",
              "BMW X5       46000          31500         4\n",
              "Audi A5      59000          29400         5\n",
              "Audi A5      52000          32000         5\n",
              "Audi A5      72000          19300         6\n",
              "Audi A5      91000          12000         8"
            ]
          },
          "metadata": {
            "tags": []
          },
          "execution_count": 139
        }
      ]
    },
    {
      "cell_type": "markdown",
      "metadata": {
        "id": "CHXUa8tgoMew"
      },
      "source": [
        "Print out observations for new cars (age less than 5 years)"
      ]
    },
    {
      "cell_type": "code",
      "metadata": {
        "colab": {
          "base_uri": "https://localhost:8080/",
          "height": 173
        },
        "id": "LWvDdp3LoQbd",
        "outputId": "fc26b922-e510-4384-b01c-8ec59b853215"
      },
      "source": [
        "# Print out observations for new cars\n",
        "cars.loc[cars['Age(yrs)']<5]"
      ],
      "execution_count": 140,
      "outputs": [
        {
          "output_type": "execute_result",
          "data": {
            "text/html": [
              "<div>\n",
              "<style scoped>\n",
              "    .dataframe tbody tr th:only-of-type {\n",
              "        vertical-align: middle;\n",
              "    }\n",
              "\n",
              "    .dataframe tbody tr th {\n",
              "        vertical-align: top;\n",
              "    }\n",
              "\n",
              "    .dataframe thead th {\n",
              "        text-align: right;\n",
              "    }\n",
              "</style>\n",
              "<table border=\"1\" class=\"dataframe\">\n",
              "  <thead>\n",
              "    <tr style=\"text-align: right;\">\n",
              "      <th></th>\n",
              "      <th>Mileage</th>\n",
              "      <th>Sell Price($)</th>\n",
              "      <th>Age(yrs)</th>\n",
              "    </tr>\n",
              "    <tr>\n",
              "      <th>Car Model</th>\n",
              "      <th></th>\n",
              "      <th></th>\n",
              "      <th></th>\n",
              "    </tr>\n",
              "  </thead>\n",
              "  <tbody>\n",
              "    <tr>\n",
              "      <th>BMW X5</th>\n",
              "      <td>35000</td>\n",
              "      <td>34000</td>\n",
              "      <td>3</td>\n",
              "    </tr>\n",
              "    <tr>\n",
              "      <th>BMW X5</th>\n",
              "      <td>22500</td>\n",
              "      <td>40000</td>\n",
              "      <td>2</td>\n",
              "    </tr>\n",
              "    <tr>\n",
              "      <th>BMW X5</th>\n",
              "      <td>46000</td>\n",
              "      <td>31500</td>\n",
              "      <td>4</td>\n",
              "    </tr>\n",
              "  </tbody>\n",
              "</table>\n",
              "</div>"
            ],
            "text/plain": [
              "           Mileage  Sell Price($)  Age(yrs)\n",
              "Car Model                                  \n",
              "BMW X5       35000          34000         3\n",
              "BMW X5       22500          40000         2\n",
              "BMW X5       46000          31500         4"
            ]
          },
          "metadata": {
            "tags": []
          },
          "execution_count": 140
        }
      ]
    },
    {
      "cell_type": "markdown",
      "metadata": {
        "id": "OQb-kIeCq0ng"
      },
      "source": [
        "In another method, we can use the \"DataFrame.where()\" to locate rows with specific conditions."
      ]
    },
    {
      "cell_type": "code",
      "metadata": {
        "colab": {
          "base_uri": "https://localhost:8080/"
        },
        "id": "SsPjKAsCprC6",
        "outputId": "aa6b72f8-b7f1-448c-db62-afc0cc8f4cdf"
      },
      "source": [
        "# Print out observations for new cars\n",
        "filter = cars['Age(yrs)']<5\n",
        "print(filter)"
      ],
      "execution_count": 141,
      "outputs": [
        {
          "output_type": "stream",
          "text": [
            "Car Model\n",
            "BMW X5                   False\n",
            "BMW X5                    True\n",
            "BMW X5                   False\n",
            "BMW X5                    True\n",
            "BMW X5                    True\n",
            "Audi A5                  False\n",
            "Audi A5                  False\n",
            "Audi A5                  False\n",
            "Audi A5                  False\n",
            "Mercedez Benz C class    False\n",
            "Mercedez Benz C class    False\n",
            "Mercedez Benz C class    False\n",
            "Mercedez Benz C class    False\n",
            "Name: Age(yrs), dtype: bool\n"
          ],
          "name": "stdout"
        }
      ]
    },
    {
      "cell_type": "code",
      "metadata": {
        "colab": {
          "base_uri": "https://localhost:8080/",
          "height": 483
        },
        "id": "BPjdoxjyqDyK",
        "outputId": "10539455-c4a3-4e5b-b930-78cb83e273cf"
      },
      "source": [
        "New_Cars=cars.where(filter)\n",
        "New_Cars"
      ],
      "execution_count": 142,
      "outputs": [
        {
          "output_type": "execute_result",
          "data": {
            "text/html": [
              "<div>\n",
              "<style scoped>\n",
              "    .dataframe tbody tr th:only-of-type {\n",
              "        vertical-align: middle;\n",
              "    }\n",
              "\n",
              "    .dataframe tbody tr th {\n",
              "        vertical-align: top;\n",
              "    }\n",
              "\n",
              "    .dataframe thead th {\n",
              "        text-align: right;\n",
              "    }\n",
              "</style>\n",
              "<table border=\"1\" class=\"dataframe\">\n",
              "  <thead>\n",
              "    <tr style=\"text-align: right;\">\n",
              "      <th></th>\n",
              "      <th>Mileage</th>\n",
              "      <th>Sell Price($)</th>\n",
              "      <th>Age(yrs)</th>\n",
              "    </tr>\n",
              "    <tr>\n",
              "      <th>Car Model</th>\n",
              "      <th></th>\n",
              "      <th></th>\n",
              "      <th></th>\n",
              "    </tr>\n",
              "  </thead>\n",
              "  <tbody>\n",
              "    <tr>\n",
              "      <th>BMW X5</th>\n",
              "      <td>NaN</td>\n",
              "      <td>NaN</td>\n",
              "      <td>NaN</td>\n",
              "    </tr>\n",
              "    <tr>\n",
              "      <th>BMW X5</th>\n",
              "      <td>35000.0</td>\n",
              "      <td>34000.0</td>\n",
              "      <td>3.0</td>\n",
              "    </tr>\n",
              "    <tr>\n",
              "      <th>BMW X5</th>\n",
              "      <td>NaN</td>\n",
              "      <td>NaN</td>\n",
              "      <td>NaN</td>\n",
              "    </tr>\n",
              "    <tr>\n",
              "      <th>BMW X5</th>\n",
              "      <td>22500.0</td>\n",
              "      <td>40000.0</td>\n",
              "      <td>2.0</td>\n",
              "    </tr>\n",
              "    <tr>\n",
              "      <th>BMW X5</th>\n",
              "      <td>46000.0</td>\n",
              "      <td>31500.0</td>\n",
              "      <td>4.0</td>\n",
              "    </tr>\n",
              "    <tr>\n",
              "      <th>Audi A5</th>\n",
              "      <td>NaN</td>\n",
              "      <td>NaN</td>\n",
              "      <td>NaN</td>\n",
              "    </tr>\n",
              "    <tr>\n",
              "      <th>Audi A5</th>\n",
              "      <td>NaN</td>\n",
              "      <td>NaN</td>\n",
              "      <td>NaN</td>\n",
              "    </tr>\n",
              "    <tr>\n",
              "      <th>Audi A5</th>\n",
              "      <td>NaN</td>\n",
              "      <td>NaN</td>\n",
              "      <td>NaN</td>\n",
              "    </tr>\n",
              "    <tr>\n",
              "      <th>Audi A5</th>\n",
              "      <td>NaN</td>\n",
              "      <td>NaN</td>\n",
              "      <td>NaN</td>\n",
              "    </tr>\n",
              "    <tr>\n",
              "      <th>Mercedez Benz C class</th>\n",
              "      <td>NaN</td>\n",
              "      <td>NaN</td>\n",
              "      <td>NaN</td>\n",
              "    </tr>\n",
              "    <tr>\n",
              "      <th>Mercedez Benz C class</th>\n",
              "      <td>NaN</td>\n",
              "      <td>NaN</td>\n",
              "      <td>NaN</td>\n",
              "    </tr>\n",
              "    <tr>\n",
              "      <th>Mercedez Benz C class</th>\n",
              "      <td>NaN</td>\n",
              "      <td>NaN</td>\n",
              "      <td>NaN</td>\n",
              "    </tr>\n",
              "    <tr>\n",
              "      <th>Mercedez Benz C class</th>\n",
              "      <td>NaN</td>\n",
              "      <td>NaN</td>\n",
              "      <td>NaN</td>\n",
              "    </tr>\n",
              "  </tbody>\n",
              "</table>\n",
              "</div>"
            ],
            "text/plain": [
              "                       Mileage  Sell Price($)  Age(yrs)\n",
              "Car Model                                              \n",
              "BMW X5                     NaN            NaN       NaN\n",
              "BMW X5                 35000.0        34000.0       3.0\n",
              "BMW X5                     NaN            NaN       NaN\n",
              "BMW X5                 22500.0        40000.0       2.0\n",
              "BMW X5                 46000.0        31500.0       4.0\n",
              "Audi A5                    NaN            NaN       NaN\n",
              "Audi A5                    NaN            NaN       NaN\n",
              "Audi A5                    NaN            NaN       NaN\n",
              "Audi A5                    NaN            NaN       NaN\n",
              "Mercedez Benz C class      NaN            NaN       NaN\n",
              "Mercedez Benz C class      NaN            NaN       NaN\n",
              "Mercedez Benz C class      NaN            NaN       NaN\n",
              "Mercedez Benz C class      NaN            NaN       NaN"
            ]
          },
          "metadata": {
            "tags": []
          },
          "execution_count": 142
        }
      ]
    },
    {
      "cell_type": "markdown",
      "metadata": {
        "id": "ehZVXN66rE4z"
      },
      "source": [
        "As shown in the output image, every row which doesn’t have Age(yrs) < 5 is replaced with NaN."
      ]
    },
    {
      "cell_type": "markdown",
      "metadata": {
        "id": "ZaqSotR9L10Q"
      },
      "source": [
        "**Exercise 2.7:** Display the observations that correspond to Spendings equals 11 in DataFrame of Exercise 2.3 using loc."
      ]
    },
    {
      "cell_type": "code",
      "metadata": {
        "id": "i4ONfnGCL8BO"
      },
      "source": [
        "## Write your code here\n"
      ],
      "execution_count": 143,
      "outputs": []
    },
    {
      "cell_type": "markdown",
      "metadata": {
        "id": "gu1g8aThMBR2"
      },
      "source": [
        "**Exercise 2.8:** Display the observations that correspond to Spendings greater than 11 in DataFrame of Exercise 2.3 using DataFrame.where() command."
      ]
    },
    {
      "cell_type": "code",
      "metadata": {
        "id": "7q1KoSYEL2o-"
      },
      "source": [
        "## Write your code here\n"
      ],
      "execution_count": 144,
      "outputs": []
    },
    {
      "cell_type": "markdown",
      "metadata": {
        "id": "ISERKG-0KOIK"
      },
      "source": [
        "# Manipulating DataFrames\n",
        "There are different ways to manipulate data within DataFrames."
      ]
    },
    {
      "cell_type": "markdown",
      "metadata": {
        "id": "glmrqSlIbrg1"
      },
      "source": [
        "##Adding new column to existing DataFrame\n",
        "\n",
        "To add a new column to an existing DataFrame, create the list with the values of the new column and add it to the DataFrame as follows:"
      ]
    },
    {
      "cell_type": "code",
      "metadata": {
        "colab": {
          "base_uri": "https://localhost:8080/",
          "height": 142
        },
        "id": "Z71xuokUcRqU",
        "outputId": "b17e0f25-cfdf-4c93-c35b-cb366895ca76"
      },
      "source": [
        "## Creating the \"brics_country_capital_area\" DataFrame\n",
        "country = [\"Brazil\", \"Russia\", \"India\"] \n",
        "capital = [\"Brasilia\", \"Moscow\", \"New Dehli\"]\n",
        "area = [8.516, 17.10, 3.286]\n",
        "\n",
        "## converting lists to pandas series\n",
        "country_series = pd.Series(country) \n",
        "capital_series = pd.Series(capital) \n",
        "area_series = pd.Series(area) \n",
        "\n",
        "brics_brics = { 'country': country_series, 'capital': capital_series, 'area': area_series} \n",
        "brics_brics = pd.DataFrame(brics_brics) \n",
        "brics_brics"
      ],
      "execution_count": 145,
      "outputs": [
        {
          "output_type": "execute_result",
          "data": {
            "text/html": [
              "<div>\n",
              "<style scoped>\n",
              "    .dataframe tbody tr th:only-of-type {\n",
              "        vertical-align: middle;\n",
              "    }\n",
              "\n",
              "    .dataframe tbody tr th {\n",
              "        vertical-align: top;\n",
              "    }\n",
              "\n",
              "    .dataframe thead th {\n",
              "        text-align: right;\n",
              "    }\n",
              "</style>\n",
              "<table border=\"1\" class=\"dataframe\">\n",
              "  <thead>\n",
              "    <tr style=\"text-align: right;\">\n",
              "      <th></th>\n",
              "      <th>country</th>\n",
              "      <th>capital</th>\n",
              "      <th>area</th>\n",
              "    </tr>\n",
              "  </thead>\n",
              "  <tbody>\n",
              "    <tr>\n",
              "      <th>0</th>\n",
              "      <td>Brazil</td>\n",
              "      <td>Brasilia</td>\n",
              "      <td>8.516</td>\n",
              "    </tr>\n",
              "    <tr>\n",
              "      <th>1</th>\n",
              "      <td>Russia</td>\n",
              "      <td>Moscow</td>\n",
              "      <td>17.100</td>\n",
              "    </tr>\n",
              "    <tr>\n",
              "      <th>2</th>\n",
              "      <td>India</td>\n",
              "      <td>New Dehli</td>\n",
              "      <td>3.286</td>\n",
              "    </tr>\n",
              "  </tbody>\n",
              "</table>\n",
              "</div>"
            ],
            "text/plain": [
              "  country    capital    area\n",
              "0  Brazil   Brasilia   8.516\n",
              "1  Russia     Moscow  17.100\n",
              "2   India  New Dehli   3.286"
            ]
          },
          "metadata": {
            "tags": []
          },
          "execution_count": 145
        }
      ]
    },
    {
      "cell_type": "code",
      "metadata": {
        "colab": {
          "base_uri": "https://localhost:8080/",
          "height": 142
        },
        "id": "mEPkqCM2dDn-",
        "outputId": "25e577ff-1ba8-4dc4-8a80-9d57d163cc33"
      },
      "source": [
        "## add the column values to a list\n",
        "population = [200.4, 143.5, 1252]\n",
        "brics_brics['population']=population\n",
        "brics_brics\n"
      ],
      "execution_count": 146,
      "outputs": [
        {
          "output_type": "execute_result",
          "data": {
            "text/html": [
              "<div>\n",
              "<style scoped>\n",
              "    .dataframe tbody tr th:only-of-type {\n",
              "        vertical-align: middle;\n",
              "    }\n",
              "\n",
              "    .dataframe tbody tr th {\n",
              "        vertical-align: top;\n",
              "    }\n",
              "\n",
              "    .dataframe thead th {\n",
              "        text-align: right;\n",
              "    }\n",
              "</style>\n",
              "<table border=\"1\" class=\"dataframe\">\n",
              "  <thead>\n",
              "    <tr style=\"text-align: right;\">\n",
              "      <th></th>\n",
              "      <th>country</th>\n",
              "      <th>capital</th>\n",
              "      <th>area</th>\n",
              "      <th>population</th>\n",
              "    </tr>\n",
              "  </thead>\n",
              "  <tbody>\n",
              "    <tr>\n",
              "      <th>0</th>\n",
              "      <td>Brazil</td>\n",
              "      <td>Brasilia</td>\n",
              "      <td>8.516</td>\n",
              "      <td>200.4</td>\n",
              "    </tr>\n",
              "    <tr>\n",
              "      <th>1</th>\n",
              "      <td>Russia</td>\n",
              "      <td>Moscow</td>\n",
              "      <td>17.100</td>\n",
              "      <td>143.5</td>\n",
              "    </tr>\n",
              "    <tr>\n",
              "      <th>2</th>\n",
              "      <td>India</td>\n",
              "      <td>New Dehli</td>\n",
              "      <td>3.286</td>\n",
              "      <td>1252.0</td>\n",
              "    </tr>\n",
              "  </tbody>\n",
              "</table>\n",
              "</div>"
            ],
            "text/plain": [
              "  country    capital    area  population\n",
              "0  Brazil   Brasilia   8.516       200.4\n",
              "1  Russia     Moscow  17.100       143.5\n",
              "2   India  New Dehli   3.286      1252.0"
            ]
          },
          "metadata": {
            "tags": []
          },
          "execution_count": 146
        }
      ]
    },
    {
      "cell_type": "markdown",
      "metadata": {
        "id": "4dBARCOEebM6"
      },
      "source": [
        "## Creating a Pandas dataframe column based on a given condition\n",
        "While operating on data, there could be instances where we would like to add a column based on some condition. "
      ]
    },
    {
      "cell_type": "markdown",
      "metadata": {
        "id": "NqLE88I0fr4W"
      },
      "source": [
        "%% Method #1:\n",
        "\n",
        "Assume we want to add a column called \"population greater than 1000\" which equals one if the population of the country is more than 1000M. Otherwise, it equals 0."
      ]
    },
    {
      "cell_type": "code",
      "metadata": {
        "colab": {
          "base_uri": "https://localhost:8080/",
          "height": 142
        },
        "id": "3FmIc1p1enYG",
        "outputId": "ae02cf8d-5724-4632-9e4c-184aa9a2bd9c"
      },
      "source": [
        "# Add a new column named 'Price' \n",
        "brics_brics['population greater than 1000'] = [1 if x > 1000 else 0 for x in brics_brics['population']] \n",
        "  \n",
        "# Print the DataFrame \n",
        "brics_brics"
      ],
      "execution_count": 147,
      "outputs": [
        {
          "output_type": "execute_result",
          "data": {
            "text/html": [
              "<div>\n",
              "<style scoped>\n",
              "    .dataframe tbody tr th:only-of-type {\n",
              "        vertical-align: middle;\n",
              "    }\n",
              "\n",
              "    .dataframe tbody tr th {\n",
              "        vertical-align: top;\n",
              "    }\n",
              "\n",
              "    .dataframe thead th {\n",
              "        text-align: right;\n",
              "    }\n",
              "</style>\n",
              "<table border=\"1\" class=\"dataframe\">\n",
              "  <thead>\n",
              "    <tr style=\"text-align: right;\">\n",
              "      <th></th>\n",
              "      <th>country</th>\n",
              "      <th>capital</th>\n",
              "      <th>area</th>\n",
              "      <th>population</th>\n",
              "      <th>population greater than 1000</th>\n",
              "    </tr>\n",
              "  </thead>\n",
              "  <tbody>\n",
              "    <tr>\n",
              "      <th>0</th>\n",
              "      <td>Brazil</td>\n",
              "      <td>Brasilia</td>\n",
              "      <td>8.516</td>\n",
              "      <td>200.4</td>\n",
              "      <td>0</td>\n",
              "    </tr>\n",
              "    <tr>\n",
              "      <th>1</th>\n",
              "      <td>Russia</td>\n",
              "      <td>Moscow</td>\n",
              "      <td>17.100</td>\n",
              "      <td>143.5</td>\n",
              "      <td>0</td>\n",
              "    </tr>\n",
              "    <tr>\n",
              "      <th>2</th>\n",
              "      <td>India</td>\n",
              "      <td>New Dehli</td>\n",
              "      <td>3.286</td>\n",
              "      <td>1252.0</td>\n",
              "      <td>1</td>\n",
              "    </tr>\n",
              "  </tbody>\n",
              "</table>\n",
              "</div>"
            ],
            "text/plain": [
              "  country    capital    area  population  population greater than 1000\n",
              "0  Brazil   Brasilia   8.516       200.4                             0\n",
              "1  Russia     Moscow  17.100       143.5                             0\n",
              "2   India  New Dehli   3.286      1252.0                             1"
            ]
          },
          "metadata": {
            "tags": []
          },
          "execution_count": 147
        }
      ]
    },
    {
      "cell_type": "markdown",
      "metadata": {
        "id": "LZ-8VaELfwjB"
      },
      "source": [
        "Assume Also, we want to add a column called \"density\" which equals one if the population devided by the area is less than 100. Otherwise, it equals 0."
      ]
    },
    {
      "cell_type": "code",
      "metadata": {
        "colab": {
          "base_uri": "https://localhost:8080/",
          "height": 142
        },
        "id": "XIqSKByJhRNA",
        "outputId": "2bb91671-1dba-49da-b0a3-3d3b4e82c86b"
      },
      "source": [
        "# Add a new column named 'Price' \n",
        "brics_brics['desnity'] = [1 if x > 10 else 0 for x in brics_brics['population']/brics_brics['area']] \n",
        "brics_brics"
      ],
      "execution_count": 148,
      "outputs": [
        {
          "output_type": "execute_result",
          "data": {
            "text/html": [
              "<div>\n",
              "<style scoped>\n",
              "    .dataframe tbody tr th:only-of-type {\n",
              "        vertical-align: middle;\n",
              "    }\n",
              "\n",
              "    .dataframe tbody tr th {\n",
              "        vertical-align: top;\n",
              "    }\n",
              "\n",
              "    .dataframe thead th {\n",
              "        text-align: right;\n",
              "    }\n",
              "</style>\n",
              "<table border=\"1\" class=\"dataframe\">\n",
              "  <thead>\n",
              "    <tr style=\"text-align: right;\">\n",
              "      <th></th>\n",
              "      <th>country</th>\n",
              "      <th>capital</th>\n",
              "      <th>area</th>\n",
              "      <th>population</th>\n",
              "      <th>population greater than 1000</th>\n",
              "      <th>desnity</th>\n",
              "    </tr>\n",
              "  </thead>\n",
              "  <tbody>\n",
              "    <tr>\n",
              "      <th>0</th>\n",
              "      <td>Brazil</td>\n",
              "      <td>Brasilia</td>\n",
              "      <td>8.516</td>\n",
              "      <td>200.4</td>\n",
              "      <td>0</td>\n",
              "      <td>1</td>\n",
              "    </tr>\n",
              "    <tr>\n",
              "      <th>1</th>\n",
              "      <td>Russia</td>\n",
              "      <td>Moscow</td>\n",
              "      <td>17.100</td>\n",
              "      <td>143.5</td>\n",
              "      <td>0</td>\n",
              "      <td>0</td>\n",
              "    </tr>\n",
              "    <tr>\n",
              "      <th>2</th>\n",
              "      <td>India</td>\n",
              "      <td>New Dehli</td>\n",
              "      <td>3.286</td>\n",
              "      <td>1252.0</td>\n",
              "      <td>1</td>\n",
              "      <td>1</td>\n",
              "    </tr>\n",
              "  </tbody>\n",
              "</table>\n",
              "</div>"
            ],
            "text/plain": [
              "  country    capital    area  population  population greater than 1000  desnity\n",
              "0  Brazil   Brasilia   8.516       200.4                             0        1\n",
              "1  Russia     Moscow  17.100       143.5                             0        0\n",
              "2   India  New Dehli   3.286      1252.0                             1        1"
            ]
          },
          "metadata": {
            "tags": []
          },
          "execution_count": 148
        }
      ]
    },
    {
      "cell_type": "markdown",
      "metadata": {
        "id": "4_Ie_xZZNmxo"
      },
      "source": [
        "**Exercise 2.9:** Write a code to read the data in \"FamilyCitySpendings.csv\" using and display it as pandas DataFrame. This file was cloned to the \"./MachineLearning/1_Regression/\" folder. Create a new DataFrame called \"Family\" which includes all the fields in the original DataFrame and a new column represent the addition of working and kids family members."
      ]
    },
    {
      "cell_type": "code",
      "metadata": {
        "id": "LTr3QQ6PNnqU"
      },
      "source": [
        "## Write your code here\n"
      ],
      "execution_count": 149,
      "outputs": []
    },
    {
      "cell_type": "markdown",
      "metadata": {
        "id": "8-f8-Ko5is22"
      },
      "source": [
        "%% Method #2:\n",
        "\n",
        "Assume we have an Employees DataFrame, which includes the names of the employee, the department where he/she works, and their salary."
      ]
    },
    {
      "cell_type": "code",
      "metadata": {
        "colab": {
          "base_uri": "https://localhost:8080/",
          "height": 235
        },
        "id": "3R-tUyI5iydW",
        "outputId": "2fb1e599-8b09-4e16-e6d8-6f7d8a355de5"
      },
      "source": [
        "# Creating the dataframe \n",
        "Employees = pd.DataFrame({'Employee' : ['AA','BB', 'CC','DD','EE','FF'],\n",
        "                'Department': ['Financial','Management','Technichal','Technichal','Management','Technichal'],\n",
        "                'Salary' :[1200,1000,1000,1300,1100,900]}) \n",
        "Employees"
      ],
      "execution_count": 150,
      "outputs": [
        {
          "output_type": "execute_result",
          "data": {
            "text/html": [
              "<div>\n",
              "<style scoped>\n",
              "    .dataframe tbody tr th:only-of-type {\n",
              "        vertical-align: middle;\n",
              "    }\n",
              "\n",
              "    .dataframe tbody tr th {\n",
              "        vertical-align: top;\n",
              "    }\n",
              "\n",
              "    .dataframe thead th {\n",
              "        text-align: right;\n",
              "    }\n",
              "</style>\n",
              "<table border=\"1\" class=\"dataframe\">\n",
              "  <thead>\n",
              "    <tr style=\"text-align: right;\">\n",
              "      <th></th>\n",
              "      <th>Employee</th>\n",
              "      <th>Department</th>\n",
              "      <th>Salary</th>\n",
              "    </tr>\n",
              "  </thead>\n",
              "  <tbody>\n",
              "    <tr>\n",
              "      <th>0</th>\n",
              "      <td>AA</td>\n",
              "      <td>Financial</td>\n",
              "      <td>1200</td>\n",
              "    </tr>\n",
              "    <tr>\n",
              "      <th>1</th>\n",
              "      <td>BB</td>\n",
              "      <td>Management</td>\n",
              "      <td>1000</td>\n",
              "    </tr>\n",
              "    <tr>\n",
              "      <th>2</th>\n",
              "      <td>CC</td>\n",
              "      <td>Technichal</td>\n",
              "      <td>1000</td>\n",
              "    </tr>\n",
              "    <tr>\n",
              "      <th>3</th>\n",
              "      <td>DD</td>\n",
              "      <td>Technichal</td>\n",
              "      <td>1300</td>\n",
              "    </tr>\n",
              "    <tr>\n",
              "      <th>4</th>\n",
              "      <td>EE</td>\n",
              "      <td>Management</td>\n",
              "      <td>1100</td>\n",
              "    </tr>\n",
              "    <tr>\n",
              "      <th>5</th>\n",
              "      <td>FF</td>\n",
              "      <td>Technichal</td>\n",
              "      <td>900</td>\n",
              "    </tr>\n",
              "  </tbody>\n",
              "</table>\n",
              "</div>"
            ],
            "text/plain": [
              "  Employee  Department  Salary\n",
              "0       AA   Financial    1200\n",
              "1       BB  Management    1000\n",
              "2       CC  Technichal    1000\n",
              "3       DD  Technichal    1300\n",
              "4       EE  Management    1100\n",
              "5       FF  Technichal     900"
            ]
          },
          "metadata": {
            "tags": []
          },
          "execution_count": 150
        }
      ]
    },
    {
      "cell_type": "markdown",
      "metadata": {
        "id": "4t-cH8ZBlSch"
      },
      "source": [
        "Assume you want to offer them a raise depending on the department they work in. We will define a dictionary of this raise factor and apply it as follows:"
      ]
    },
    {
      "cell_type": "code",
      "metadata": {
        "colab": {
          "base_uri": "https://localhost:8080/",
          "height": 235
        },
        "id": "X8UBQ5FgkPHn",
        "outputId": "96bcc07f-3ce5-4cb6-a7f9-7ebf67d4a9d2"
      },
      "source": [
        "# Create the dictionary \n",
        "raise_factor ={'Financial' : 0.1, 'Management' : 0.15, 'Technichal' : 0.2} \n",
        "  \n",
        "# Add a new column named 'Price' \n",
        "Employees['Raise Factor'] = Employees['Department'].map(raise_factor) \n",
        "  \n",
        "# Print the DataFrame \n",
        "Employees"
      ],
      "execution_count": 151,
      "outputs": [
        {
          "output_type": "execute_result",
          "data": {
            "text/html": [
              "<div>\n",
              "<style scoped>\n",
              "    .dataframe tbody tr th:only-of-type {\n",
              "        vertical-align: middle;\n",
              "    }\n",
              "\n",
              "    .dataframe tbody tr th {\n",
              "        vertical-align: top;\n",
              "    }\n",
              "\n",
              "    .dataframe thead th {\n",
              "        text-align: right;\n",
              "    }\n",
              "</style>\n",
              "<table border=\"1\" class=\"dataframe\">\n",
              "  <thead>\n",
              "    <tr style=\"text-align: right;\">\n",
              "      <th></th>\n",
              "      <th>Employee</th>\n",
              "      <th>Department</th>\n",
              "      <th>Salary</th>\n",
              "      <th>Raise Factor</th>\n",
              "    </tr>\n",
              "  </thead>\n",
              "  <tbody>\n",
              "    <tr>\n",
              "      <th>0</th>\n",
              "      <td>AA</td>\n",
              "      <td>Financial</td>\n",
              "      <td>1200</td>\n",
              "      <td>0.10</td>\n",
              "    </tr>\n",
              "    <tr>\n",
              "      <th>1</th>\n",
              "      <td>BB</td>\n",
              "      <td>Management</td>\n",
              "      <td>1000</td>\n",
              "      <td>0.15</td>\n",
              "    </tr>\n",
              "    <tr>\n",
              "      <th>2</th>\n",
              "      <td>CC</td>\n",
              "      <td>Technichal</td>\n",
              "      <td>1000</td>\n",
              "      <td>0.20</td>\n",
              "    </tr>\n",
              "    <tr>\n",
              "      <th>3</th>\n",
              "      <td>DD</td>\n",
              "      <td>Technichal</td>\n",
              "      <td>1300</td>\n",
              "      <td>0.20</td>\n",
              "    </tr>\n",
              "    <tr>\n",
              "      <th>4</th>\n",
              "      <td>EE</td>\n",
              "      <td>Management</td>\n",
              "      <td>1100</td>\n",
              "      <td>0.15</td>\n",
              "    </tr>\n",
              "    <tr>\n",
              "      <th>5</th>\n",
              "      <td>FF</td>\n",
              "      <td>Technichal</td>\n",
              "      <td>900</td>\n",
              "      <td>0.20</td>\n",
              "    </tr>\n",
              "  </tbody>\n",
              "</table>\n",
              "</div>"
            ],
            "text/plain": [
              "  Employee  Department  Salary  Raise Factor\n",
              "0       AA   Financial    1200          0.10\n",
              "1       BB  Management    1000          0.15\n",
              "2       CC  Technichal    1000          0.20\n",
              "3       DD  Technichal    1300          0.20\n",
              "4       EE  Management    1100          0.15\n",
              "5       FF  Technichal     900          0.20"
            ]
          },
          "metadata": {
            "tags": []
          },
          "execution_count": 151
        }
      ]
    },
    {
      "cell_type": "markdown",
      "metadata": {
        "id": "HforycqAmZwd"
      },
      "source": [
        "Now the new salary will be as follows:"
      ]
    },
    {
      "cell_type": "code",
      "metadata": {
        "colab": {
          "base_uri": "https://localhost:8080/",
          "height": 235
        },
        "id": "KGwgCkarmfkU",
        "outputId": "c49b45af-6448-42ae-aa5c-f66758070d67"
      },
      "source": [
        "# Add a new column named 'Price' \n",
        "Employees['New Salary'] = Employees['Salary']*(Employees['Raise Factor']+1)\n",
        "  \n",
        "# Print the DataFrame \n",
        "Employees"
      ],
      "execution_count": 152,
      "outputs": [
        {
          "output_type": "execute_result",
          "data": {
            "text/html": [
              "<div>\n",
              "<style scoped>\n",
              "    .dataframe tbody tr th:only-of-type {\n",
              "        vertical-align: middle;\n",
              "    }\n",
              "\n",
              "    .dataframe tbody tr th {\n",
              "        vertical-align: top;\n",
              "    }\n",
              "\n",
              "    .dataframe thead th {\n",
              "        text-align: right;\n",
              "    }\n",
              "</style>\n",
              "<table border=\"1\" class=\"dataframe\">\n",
              "  <thead>\n",
              "    <tr style=\"text-align: right;\">\n",
              "      <th></th>\n",
              "      <th>Employee</th>\n",
              "      <th>Department</th>\n",
              "      <th>Salary</th>\n",
              "      <th>Raise Factor</th>\n",
              "      <th>New Salary</th>\n",
              "    </tr>\n",
              "  </thead>\n",
              "  <tbody>\n",
              "    <tr>\n",
              "      <th>0</th>\n",
              "      <td>AA</td>\n",
              "      <td>Financial</td>\n",
              "      <td>1200</td>\n",
              "      <td>0.10</td>\n",
              "      <td>1320.0</td>\n",
              "    </tr>\n",
              "    <tr>\n",
              "      <th>1</th>\n",
              "      <td>BB</td>\n",
              "      <td>Management</td>\n",
              "      <td>1000</td>\n",
              "      <td>0.15</td>\n",
              "      <td>1150.0</td>\n",
              "    </tr>\n",
              "    <tr>\n",
              "      <th>2</th>\n",
              "      <td>CC</td>\n",
              "      <td>Technichal</td>\n",
              "      <td>1000</td>\n",
              "      <td>0.20</td>\n",
              "      <td>1200.0</td>\n",
              "    </tr>\n",
              "    <tr>\n",
              "      <th>3</th>\n",
              "      <td>DD</td>\n",
              "      <td>Technichal</td>\n",
              "      <td>1300</td>\n",
              "      <td>0.20</td>\n",
              "      <td>1560.0</td>\n",
              "    </tr>\n",
              "    <tr>\n",
              "      <th>4</th>\n",
              "      <td>EE</td>\n",
              "      <td>Management</td>\n",
              "      <td>1100</td>\n",
              "      <td>0.15</td>\n",
              "      <td>1265.0</td>\n",
              "    </tr>\n",
              "    <tr>\n",
              "      <th>5</th>\n",
              "      <td>FF</td>\n",
              "      <td>Technichal</td>\n",
              "      <td>900</td>\n",
              "      <td>0.20</td>\n",
              "      <td>1080.0</td>\n",
              "    </tr>\n",
              "  </tbody>\n",
              "</table>\n",
              "</div>"
            ],
            "text/plain": [
              "  Employee  Department  Salary  Raise Factor  New Salary\n",
              "0       AA   Financial    1200          0.10      1320.0\n",
              "1       BB  Management    1000          0.15      1150.0\n",
              "2       CC  Technichal    1000          0.20      1200.0\n",
              "3       DD  Technichal    1300          0.20      1560.0\n",
              "4       EE  Management    1100          0.15      1265.0\n",
              "5       FF  Technichal     900          0.20      1080.0"
            ]
          },
          "metadata": {
            "tags": []
          },
          "execution_count": 152
        }
      ]
    },
    {
      "cell_type": "markdown",
      "metadata": {
        "id": "oyytfp7qO1my"
      },
      "source": [
        "**Exercise 2.10:** In the DataFrame of Exercise 2.9, add a column that provides a numaric code for each City."
      ]
    },
    {
      "cell_type": "code",
      "metadata": {
        "id": "n0lGdVOePQrv"
      },
      "source": [
        "## Write your code here\n"
      ],
      "execution_count": 153,
      "outputs": []
    },
    {
      "cell_type": "markdown",
      "metadata": {
        "id": "THhJGHfbv0q1"
      },
      "source": [
        "##Splitting DataFrames into Groups\n",
        "Pandas DataFrames can be split on any of their axes"
      ]
    },
    {
      "cell_type": "code",
      "metadata": {
        "colab": {
          "base_uri": "https://localhost:8080/"
        },
        "id": "6ih6iXeTwNIj",
        "outputId": "711b61a0-dfd0-41b6-af7f-f79f01d4ea1c"
      },
      "source": [
        "Employees_grouped = Employees.groupby('Department')\n",
        "Employees_grouped"
      ],
      "execution_count": 158,
      "outputs": [
        {
          "output_type": "execute_result",
          "data": {
            "text/plain": [
              "<pandas.core.groupby.generic.DataFrameGroupBy object at 0x7f1a4e9929e8>"
            ]
          },
          "metadata": {
            "tags": []
          },
          "execution_count": 158
        }
      ]
    },
    {
      "cell_type": "markdown",
      "metadata": {
        "id": "P9x4mZuZQwDR"
      },
      "source": [
        "To display the items for a specific goup, use the get_group() as folows"
      ]
    },
    {
      "cell_type": "code",
      "metadata": {
        "colab": {
          "base_uri": "https://localhost:8080/",
          "height": 142
        },
        "id": "KZ2nBQ9rQuA3",
        "outputId": "dea11676-acab-453f-eee5-720334ccd6ff"
      },
      "source": [
        "Employees_grouped.get_group('Technichal') "
      ],
      "execution_count": 159,
      "outputs": [
        {
          "output_type": "execute_result",
          "data": {
            "text/html": [
              "<div>\n",
              "<style scoped>\n",
              "    .dataframe tbody tr th:only-of-type {\n",
              "        vertical-align: middle;\n",
              "    }\n",
              "\n",
              "    .dataframe tbody tr th {\n",
              "        vertical-align: top;\n",
              "    }\n",
              "\n",
              "    .dataframe thead th {\n",
              "        text-align: right;\n",
              "    }\n",
              "</style>\n",
              "<table border=\"1\" class=\"dataframe\">\n",
              "  <thead>\n",
              "    <tr style=\"text-align: right;\">\n",
              "      <th></th>\n",
              "      <th>Employee</th>\n",
              "      <th>Department</th>\n",
              "      <th>Salary</th>\n",
              "      <th>Raise Factor</th>\n",
              "      <th>New Salary</th>\n",
              "    </tr>\n",
              "  </thead>\n",
              "  <tbody>\n",
              "    <tr>\n",
              "      <th>2</th>\n",
              "      <td>CC</td>\n",
              "      <td>Technichal</td>\n",
              "      <td>1000</td>\n",
              "      <td>0.2</td>\n",
              "      <td>1200.0</td>\n",
              "    </tr>\n",
              "    <tr>\n",
              "      <th>3</th>\n",
              "      <td>DD</td>\n",
              "      <td>Technichal</td>\n",
              "      <td>1300</td>\n",
              "      <td>0.2</td>\n",
              "      <td>1560.0</td>\n",
              "    </tr>\n",
              "    <tr>\n",
              "      <th>5</th>\n",
              "      <td>FF</td>\n",
              "      <td>Technichal</td>\n",
              "      <td>900</td>\n",
              "      <td>0.2</td>\n",
              "      <td>1080.0</td>\n",
              "    </tr>\n",
              "  </tbody>\n",
              "</table>\n",
              "</div>"
            ],
            "text/plain": [
              "  Employee  Department  Salary  Raise Factor  New Salary\n",
              "2       CC  Technichal    1000           0.2      1200.0\n",
              "3       DD  Technichal    1300           0.2      1560.0\n",
              "5       FF  Technichal     900           0.2      1080.0"
            ]
          },
          "metadata": {
            "tags": []
          },
          "execution_count": 159
        }
      ]
    },
    {
      "cell_type": "markdown",
      "metadata": {
        "id": "1zYdQA7wQ-_J"
      },
      "source": [
        "To display the number of groups"
      ]
    },
    {
      "cell_type": "code",
      "metadata": {
        "colab": {
          "base_uri": "https://localhost:8080/"
        },
        "id": "2uyDZtC8Q8VQ",
        "outputId": "1b510f08-3b89-454d-a029-48a6798dfc59"
      },
      "source": [
        "len(Employees_grouped)"
      ],
      "execution_count": 160,
      "outputs": [
        {
          "output_type": "execute_result",
          "data": {
            "text/plain": [
              "3"
            ]
          },
          "metadata": {
            "tags": []
          },
          "execution_count": 160
        }
      ]
    },
    {
      "cell_type": "markdown",
      "metadata": {
        "id": "L6Jynds9RYCR"
      },
      "source": [
        "**Exercise 2.11:** In the DataFrame of Exercise 2.9, group the rows by the City. Then display the number of groups and the items in each group. "
      ]
    },
    {
      "cell_type": "code",
      "metadata": {
        "id": "SPrMVPUeVhdh"
      },
      "source": [
        "## Write your code here\n"
      ],
      "execution_count": null,
      "outputs": []
    },
    {
      "cell_type": "markdown",
      "metadata": {
        "id": "rHlrOHRjTm1-"
      },
      "source": [
        "**Exercise 2.12:** For the DataFrame of exercise 2.9, store the rows that corresponds to Jerusalem City into a separate DataFrame \"Family_Jerusalem\" and the other Cities into a different DataFrame \"Family_Others\". "
      ]
    },
    {
      "cell_type": "code",
      "metadata": {
        "id": "Icd0nnpkViNE"
      },
      "source": [
        "## Write your code here\n"
      ],
      "execution_count": null,
      "outputs": []
    },
    {
      "cell_type": "markdown",
      "metadata": {
        "id": "nuT0uFnQUil-"
      },
      "source": [
        "**Exercise 2.13:** For the \"Family_Jerusalem\" DataFrame of exercise 2.12, split the DataFrame such that the City, Annual Income, Working, and Kids in a \"Family_Jerusalem_Income\" DataFrame and the City, Working, Kids, and Spendings in \"Family_Jerusalem_Spendengs\" DataFrame. Display each of these DataFrames."
      ]
    },
    {
      "cell_type": "code",
      "metadata": {
        "id": "eMxXFz6vVi_N"
      },
      "source": [
        "## Write your code here\n"
      ],
      "execution_count": null,
      "outputs": []
    },
    {
      "cell_type": "markdown",
      "metadata": {
        "id": "fPBvIOXBlWuW"
      },
      "source": [
        "## Combine Two DataFrames Vertically \n",
        "Combining multiple DataFrames can happen in a different format. This includes vertical concatenation, horizontal concatenation, and merging.\n",
        "\n",
        "Let us start with vertical concatenation. Assume you have two DataFrames; brics_1 and brics_2. Each of these DataFrames includes a list of some countries and the capital and area of each country. "
      ]
    },
    {
      "cell_type": "code",
      "metadata": {
        "id": "uJ1MjQXpl3QK"
      },
      "source": [
        "## brics_1 DataFrame\n",
        "\n",
        "## creating lists\n",
        "country = [\"Brazil\", \"Russia\", \"India\"] \n",
        "capital = [\"Brasilia\", \"Moscow\", \"New Dehli\"]\n",
        "area = [8.516, 17.10, 3.286]\n",
        "population = [200.4, 143.5, 1252]\n",
        "\n",
        "## converting lists to pandas series\n",
        "country_series = pd.Series(country) \n",
        "capital_series = pd.Series(capital) \n",
        "area_series = pd.Series(area) \n",
        "population_series = pd.Series(population) \n",
        "\n",
        "brics_dict = { 'country': country_series, 'capital': capital_series, 'area': area_series, 'population': population_series} \n",
        "  \n",
        "brics_1 = pd.DataFrame(brics_dict) \n",
        "brics_1"
      ],
      "execution_count": null,
      "outputs": []
    },
    {
      "cell_type": "code",
      "metadata": {
        "id": "SLru6Y5Xl6Wr"
      },
      "source": [
        "## brics_1 DataFrame\n",
        "\n",
        "## creating lists\n",
        "country = [\"China\", \"South Africa\"] \n",
        "capital = [\"Beijing\", \"Pretoria\"]\n",
        "area = [9.597, 1.221]\n",
        "population = [1357, 52.98]\n",
        "\n",
        "## converting lists to pandas series\n",
        "country_series = pd.Series(country) \n",
        "capital_series = pd.Series(capital) \n",
        "area_series = pd.Series(area) \n",
        "population_series = pd.Series(population) \n",
        "\n",
        "brics_dict = { 'country': country_series, 'capital': capital_series, 'area': area_series, 'population': population_series} \n",
        "  \n",
        "brics_2 = pd.DataFrame(brics_dict) \n",
        "brics_2"
      ],
      "execution_count": null,
      "outputs": []
    },
    {
      "cell_type": "markdown",
      "metadata": {
        "id": "tM6PsEI_miBc"
      },
      "source": [
        "To combine these DataFrames vertically (axis=0), we will use also the Panda concat command."
      ]
    },
    {
      "cell_type": "code",
      "metadata": {
        "id": "FO_Bjmspm8dt"
      },
      "source": [
        "brics = pd.concat([brics_1,brics_2],axis=0)\n",
        "brics"
      ],
      "execution_count": null,
      "outputs": []
    },
    {
      "cell_type": "markdown",
      "metadata": {
        "id": "mgl9qo9Xnm13"
      },
      "source": [
        "To ignore the indexing of the concatenated DataFrames and use new indexing, add **ignore_index=True** to the Panda concat command."
      ]
    },
    {
      "cell_type": "code",
      "metadata": {
        "id": "KXQcsQx5nnVc"
      },
      "source": [
        "brics = pd.concat([brics_1,brics_2],ignore_index=True, axis=0)\n",
        "brics"
      ],
      "execution_count": null,
      "outputs": []
    },
    {
      "cell_type": "markdown",
      "metadata": {
        "id": "dO5nod5xhvhV"
      },
      "source": [
        "## Combine Two DataFrames Horizontally \n",
        "Assume you have a DataFrame that includes the country and its capital and its area called \"brics_capital_area\"."
      ]
    },
    {
      "cell_type": "code",
      "metadata": {
        "id": "PqFkgmfSLC9e"
      },
      "source": [
        "## creating lists\n",
        "country = [\"Brazil\", \"Russia\", \"India\", \"China\", \"South Africa\"] \n",
        "capital = [\"Brasilia\", \"Moscow\", \"New Dehli\", \"Beijing\", \"Pretoria\"]\n",
        "area = [8.516, 17.10, 3.286, 9.597, 1.221]\n",
        "\n",
        "## converting lists to pandas series\n",
        "country_series = pd.Series(country) \n",
        "capital_series = pd.Series(capital) \n",
        "area_series = pd.Series(area) \n",
        "\n",
        "brics_dict = { 'country': country_series, 'capital': capital_series, 'area': area_series} \n",
        "  \n",
        "brics_capital_area = pd.DataFrame(brics_dict) \n",
        "  \n",
        "brics_capital_area"
      ],
      "execution_count": null,
      "outputs": []
    },
    {
      "cell_type": "markdown",
      "metadata": {
        "id": "QLoyM7W8i7Si"
      },
      "source": [
        "Assume you have also a DataFrame that includes the country and its population (called \"brics_population\") in the same order of the previous DataFrame \"brics_dict\"."
      ]
    },
    {
      "cell_type": "code",
      "metadata": {
        "id": "X16rS62qLLhF"
      },
      "source": [
        "## creating lists\n",
        "country = [\"Brazil\", \"Russia\", \"India\", \"China\", \"South Africa\"] \n",
        "population = [200.4, 143.5, 1252, 1357, 52.98]\n",
        "\n",
        "## converting lists to pandas series\n",
        "country_series = pd.Series(country) \n",
        "population_series = pd.Series(population) \n",
        "\n",
        "brics_dict = { 'country': country_series, 'population': population_series} \n",
        "  \n",
        "brics_population = pd.DataFrame(brics_dict) \n",
        "  \n",
        "brics_population"
      ],
      "execution_count": null,
      "outputs": []
    },
    {
      "cell_type": "markdown",
      "metadata": {
        "id": "Tih73_ZmjzTT"
      },
      "source": [
        "To combine both DataFrames horizontally (axis=1), use the Panda concat command."
      ]
    },
    {
      "cell_type": "code",
      "metadata": {
        "id": "DQmzFbzeMGb2"
      },
      "source": [
        "brics = pd.concat([brics_capital_area,brics_population], axis=1)\n",
        "brics"
      ],
      "execution_count": null,
      "outputs": []
    },
    {
      "cell_type": "markdown",
      "metadata": {
        "id": "4kcI9BgOkIvb"
      },
      "source": [
        "To include only specific fields in the concatenation, you must index (name) these fields."
      ]
    },
    {
      "cell_type": "code",
      "metadata": {
        "id": "vtmyfhHEMb-7"
      },
      "source": [
        "brics = pd.concat([brics_capital_area,brics_population['population']], axis=1)\n",
        "brics"
      ],
      "execution_count": null,
      "outputs": []
    },
    {
      "cell_type": "markdown",
      "metadata": {
        "id": "PpukEtFyqceQ"
      },
      "source": [
        "##Merging Two DataFrames"
      ]
    },
    {
      "cell_type": "markdown",
      "metadata": {
        "id": "L4kPF3h_rKiL"
      },
      "source": [
        "Assume you have a DataFrame that includes the country and its capital (called \"brics_capital_area\"). You also have a DataFrame that consists of the country and its population (called \"brics_population\"). You want to combine both DataFrames horizontally. However, You are not sure about the order of both DataFrames."
      ]
    },
    {
      "cell_type": "markdown",
      "metadata": {
        "id": "hG8-caOnaGPm"
      },
      "source": [
        "To create the \"brics_capital_area\" DataFrame, run the following code"
      ]
    },
    {
      "cell_type": "code",
      "metadata": {
        "id": "eRWi7Qv5s7Xc"
      },
      "source": [
        "## creating lists\n",
        "country = [\"Brazil\", \"Russia\", \"India\", \"China\", \"South Africa\"] \n",
        "capital = [\"Brasilia\", \"Moscow\", \"New Dehli\", \"Beijing\", \"Pretoria\"]\n",
        "area = [8.516, 17.10, 3.286, 9.597, 1.221]\n",
        "\n",
        "## converting lists to pandas series\n",
        "country_series = pd.Series(country) \n",
        "capital_series = pd.Series(capital) \n",
        "area_series = pd.Series(area) \n",
        "\n",
        "brics_dict = { 'country': country_series, 'capital': capital_series, 'area': area_series} \n",
        "  \n",
        "brics_capital_area = pd.DataFrame(brics_dict) \n",
        "  \n",
        "brics_capital_area"
      ],
      "execution_count": null,
      "outputs": []
    },
    {
      "cell_type": "markdown",
      "metadata": {
        "id": "UQLXKi15aQ5_"
      },
      "source": [
        "To create the \"brics_population\" DataFrame, run the following code"
      ]
    },
    {
      "cell_type": "code",
      "metadata": {
        "id": "vIcve6D0qh9T"
      },
      "source": [
        "## creating lists\n",
        "country = [\"Russia\", \"India\", \"China\", \"South Africa\",\"Brazil\"] \n",
        "population = [143.5, 1252, 1357, 52.98,200.4]\n",
        "\n",
        "## converting lists to pandas series\n",
        "country_series = pd.Series(country) \n",
        "population_series = pd.Series(population) \n",
        "\n",
        "brics_dict = { 'country': country_series, 'population': population_series} \n",
        "  \n",
        "brics_population = pd.DataFrame(brics_dict) \n",
        "  \n",
        "brics_population"
      ],
      "execution_count": null,
      "outputs": []
    },
    {
      "cell_type": "markdown",
      "metadata": {
        "id": "4B00G6mDaWMo"
      },
      "source": [
        "To merge the \"brics_capital_area\" and \"brics_population\" DataFrames based on the 'country', run the following code"
      ]
    },
    {
      "cell_type": "code",
      "metadata": {
        "id": "ejaZMoHBtLho"
      },
      "source": [
        "pd.merge(brics_capital_area, brics_population, on=['country'])"
      ],
      "execution_count": null,
      "outputs": []
    },
    {
      "cell_type": "markdown",
      "metadata": {
        "id": "ESYSNihf06sL"
      },
      "source": [
        "# General Exercises\n",
        "**Exercise 1.14:** Write a python code that creates two string variables and two floating-point number variables. The first string should contain your first name. The second string should contain your family name. The two floating numbers should contain two random numbers. After creating the variables, print out the full name in one line and the sum of the two floating-point numbers in another line. "
      ]
    },
    {
      "cell_type": "code",
      "metadata": {
        "id": "zZWRuwt5FBuH"
      },
      "source": [
        "## Write your code here\n"
      ],
      "execution_count": null,
      "outputs": []
    },
    {
      "cell_type": "markdown",
      "metadata": {
        "id": "-1877rojFH6j"
      },
      "source": [
        "**Exercise 1.15:** Write a python code that creates six integer variables that represent two dates; D1/M1/Y1 and D2/M2/Y2. Write a code that determines which of the two dates is the newest date. Print on screen the newest date."
      ]
    },
    {
      "cell_type": "code",
      "metadata": {
        "id": "ynyGX7JGFEpu"
      },
      "source": [
        "## Write your code here\n"
      ],
      "execution_count": null,
      "outputs": []
    },
    {
      "cell_type": "markdown",
      "metadata": {
        "id": "Ij_o-XFlFKDp"
      },
      "source": [
        "**Exercise 1.16:** Write a python code that creates six integer variables that represent the current date D1/M1/Y1 and Date of Birth of a specific person D2/M2/Y2. Write a python code that computes the age of that person. Print the resulted age on screen. "
      ]
    },
    {
      "cell_type": "code",
      "metadata": {
        "id": "2wvODXXCFEEm"
      },
      "source": [
        "## Write your code here\n"
      ],
      "execution_count": null,
      "outputs": []
    },
    {
      "cell_type": "markdown",
      "metadata": {
        "id": "gjGv2pJdFLB3"
      },
      "source": [
        "**Exercise 1.17:** Write a python code that reads text from a file and write it to another file."
      ]
    },
    {
      "cell_type": "code",
      "metadata": {
        "id": "joBoYHavFNSj"
      },
      "source": [
        "## Write your code here\n"
      ],
      "execution_count": null,
      "outputs": []
    },
    {
      "cell_type": "markdown",
      "metadata": {
        "id": "JdD5ccdBHYtp"
      },
      "source": [
        "# References\n",
        "\n",
        "The material of this notebook excluding the exercises are selected from \\\\\n",
        "[1] pandas tutorial at learnpython.org \\\\\n",
        "[2] Geeks for Geeks at https://www.geeksforgeeks.org/python-pandas-series/ \\\\\n",
        "[3] Panda documents at https://pandas.pydata.org/pandas-docs/"
      ]
    }
  ]
}
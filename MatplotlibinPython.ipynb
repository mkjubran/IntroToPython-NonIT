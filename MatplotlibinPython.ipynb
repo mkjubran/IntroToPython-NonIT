{
  "nbformat": 4,
  "nbformat_minor": 0,
  "metadata": {
    "colab": {
      "name": "MatplotlibinPython.ipynb",
      "provenance": [],
      "collapsed_sections": [],
      "toc_visible": true,
      "authorship_tag": "ABX9TyPlZJwB4tHCu47sZulYfSxZ",
      "include_colab_link": true
    },
    "kernelspec": {
      "name": "python3",
      "display_name": "Python 3"
    }
  },
  "cells": [
    {
      "cell_type": "markdown",
      "metadata": {
        "id": "view-in-github",
        "colab_type": "text"
      },
      "source": [
        "<a href=\"https://colab.research.google.com/github/mkjubran/IntroToPython-NonIT/blob/main/MatplotlibinPython.ipynb\" target=\"_parent\"><img src=\"https://colab.research.google.com/assets/colab-badge.svg\" alt=\"Open In Colab\"/></a>"
      ]
    },
    {
      "cell_type": "markdown",
      "metadata": {
        "id": "dV2V4JBJvSKS"
      },
      "source": [
        "# Matplotlib in Python\n",
        "By the end of this tutorial, you will be able to:\n",
        "-       Represent data graphically using Matplotlib.\n",
        "-       Acquire thorough knowledge about the different terminologies used in Data Science."
      ]
    },
    {
      "cell_type": "markdown",
      "metadata": {
        "id": "EL-byoYVKzD6"
      },
      "source": [
        "# Pandas DataFrames"
      ]
    },
    {
      "cell_type": "markdown",
      "metadata": {
        "id": "hCVxetA2H3UG"
      },
      "source": [
        "Pandas is a high-level data manipulation tool developed by Wes McKinney. It is built on the Numpy package and its key data structure is called the DataFrame. DataFrames allow you to store and manipulate tabular data in rows of observations and columns of variables.\n",
        "\n",
        "There are several ways to create a DataFrame. One way way is to use a dictionary."
      ]
    },
    {
      "cell_type": "code",
      "metadata": {
        "id": "9sSNC75THqcW",
        "outputId": "396e8803-7883-4033-ac61-c886243f6b81",
        "colab": {
          "base_uri": "https://localhost:8080/",
          "height": 224
        }
      },
      "source": [
        "dict = {\"country\": [\"Brazil\", \"Russia\", \"India\", \"China\", \"South Africa\"],\n",
        "       \"capital\": [\"Brasilia\", \"Moscow\", \"New Dehli\", \"Beijing\", \"Pretoria\"],\n",
        "       \"area\": [8.516, 17.10, 3.286, 9.597, 1.221],\n",
        "       \"population\": [200.4, 143.5, 1252, 1357, 52.98] }\n",
        "\n",
        "print('This is the dictionary data')\n",
        "print(dict)\n",
        "\n",
        "\n",
        "import pandas as pd  ## importing the pandas library\n",
        "\n",
        "\n",
        "brics = pd.DataFrame(dict) ## converting the dictionary data into pandas dataframe\n",
        "\n",
        "\n",
        "print('\\n\\nThis is the Pandas DataFrame')\n",
        "print(brics)"
      ],
      "execution_count": null,
      "outputs": [
        {
          "output_type": "stream",
          "text": [
            "This is the dictionary data\n",
            "{'country': ['Brazil', 'Russia', 'India', 'China', 'South Africa'], 'capital': ['Brasilia', 'Moscow', 'New Dehli', 'Beijing', 'Pretoria'], 'area': [8.516, 17.1, 3.286, 9.597, 1.221], 'population': [200.4, 143.5, 1252, 1357, 52.98]}\n",
            "\n",
            "\n",
            "This is the Pandas DataFrame\n",
            "        country    capital    area  population\n",
            "0        Brazil   Brasilia   8.516      200.40\n",
            "1        Russia     Moscow  17.100      143.50\n",
            "2         India  New Dehli   3.286     1252.00\n",
            "3         China    Beijing   9.597     1357.00\n",
            "4  South Africa   Pretoria   1.221       52.98\n"
          ],
          "name": "stdout"
        }
      ]
    },
    {
      "cell_type": "markdown",
      "metadata": {
        "id": "Tk-xLANgKFGd"
      },
      "source": [
        "**Exercise 1.1:** C??????"
      ]
    },
    {
      "cell_type": "code",
      "metadata": {
        "id": "bAdVl41uE4jC"
      },
      "source": [
        "## Write your code here\n"
      ],
      "execution_count": null,
      "outputs": []
    },
    {
      "cell_type": "markdown",
      "metadata": {
        "id": "8UBgyel9PZDm"
      },
      "source": [
        "Another way is by Creating Dataframe from Series."
      ]
    },
    {
      "cell_type": "code",
      "metadata": {
        "id": "ycFtepsvPX51",
        "outputId": "faf1ea97-b312-43e5-b1a5-1325e5ffa17f",
        "colab": {
          "base_uri": "https://localhost:8080/",
          "height": 119
        }
      },
      "source": [
        "import pandas as pd \n",
        "\n",
        "## creating lists\n",
        "country = [\"Brazil\", \"Russia\", \"India\", \"China\", \"South Africa\"] \n",
        "capital = [\"Brasilia\", \"Moscow\", \"New Dehli\", \"Beijing\", \"Pretoria\"]\n",
        "area = [8.516, 17.10, 3.286, 9.597, 1.221]\n",
        "population = [200.4, 143.5, 1252, 1357, 52.98]\n",
        "\n",
        "## converting lists to pandas series\n",
        "country_series = pd.Series(country) \n",
        "capital_series = pd.Series(capital) \n",
        "area_series = pd.Series(area) \n",
        "population_series = pd.Series(population) \n",
        "\n",
        "brics_dict = { 'country': country_series, 'capital': capital_series, 'area': area_series, 'population': population_series} \n",
        "  \n",
        "brics = pd.DataFrame(brics_dict) \n",
        "  \n",
        "print(brics) "
      ],
      "execution_count": null,
      "outputs": [
        {
          "output_type": "stream",
          "text": [
            "        country    capital    area  population\n",
            "0        Brazil   Brasilia   8.516      200.40\n",
            "1        Russia     Moscow  17.100      143.50\n",
            "2         India  New Dehli   3.286     1252.00\n",
            "3         China    Beijing   9.597     1357.00\n",
            "4  South Africa   Pretoria   1.221       52.98\n"
          ],
          "name": "stdout"
        }
      ]
    },
    {
      "cell_type": "markdown",
      "metadata": {
        "id": "PLzd7MM1IZL8"
      },
      "source": [
        "In another way, a DataFrame can be created by importing a csv file using Pandas.\n",
        "\n",
        "First we need to upload/clone the carsprices.csv file."
      ]
    },
    {
      "cell_type": "code",
      "metadata": {
        "id": "f6nNum2ACbis",
        "outputId": "c1022687-7984-4a31-9087-7316a7985aae",
        "colab": {
          "base_uri": "https://localhost:8080/",
          "height": 136
        }
      },
      "source": [
        "!rm -rf ./MachineLearning\n",
        "!git clone https://github.com/mkjubran/MachineLearning.git"
      ],
      "execution_count": null,
      "outputs": [
        {
          "output_type": "stream",
          "text": [
            "Cloning into 'MachineLearning'...\n",
            "remote: Enumerating objects: 7, done.\u001b[K\n",
            "remote: Counting objects: 100% (7/7), done.\u001b[K\n",
            "remote: Compressing objects: 100% (6/6), done.\u001b[K\n",
            "remote: Total 257 (delta 1), reused 6 (delta 1), pack-reused 250\u001b[K\n",
            "Receiving objects: 100% (257/257), 72.83 MiB | 27.44 MiB/s, done.\n",
            "Resolving deltas: 100% (116/116), done.\n"
          ],
          "name": "stdout"
        }
      ]
    },
    {
      "cell_type": "markdown",
      "metadata": {
        "id": "oYhC9ETxCZvv"
      },
      "source": [
        "Now, the csv cars.csv is stored and can be imported using pd.read_csv."
      ]
    },
    {
      "cell_type": "code",
      "metadata": {
        "id": "-syLi9jMIaEQ",
        "outputId": "872c1018-25bb-47b9-a84b-e81633505bf4",
        "colab": {
          "base_uri": "https://localhost:8080/",
          "height": 255
        }
      },
      "source": [
        "# Import pandas as pd\n",
        "import pandas as pd\n",
        "\n",
        "# Import the cars.csv data: cars\n",
        "cars = pd.read_csv(\"./MachineLearning/1_Regression/carprices.csv\")\n",
        "\n",
        "# Print out cars\n",
        "print(cars)"
      ],
      "execution_count": null,
      "outputs": [
        {
          "output_type": "stream",
          "text": [
            "                Car Model  Mileage  Sell Price($)  Age(yrs)\n",
            "0                  BMW X5    69000          18000         6\n",
            "1                  BMW X5    35000          34000         3\n",
            "2                  BMW X5    57000          26100         5\n",
            "3                  BMW X5    22500          40000         2\n",
            "4                  BMW X5    46000          31500         4\n",
            "5                 Audi A5    59000          29400         5\n",
            "6                 Audi A5    52000          32000         5\n",
            "7                 Audi A5    72000          19300         6\n",
            "8                 Audi A5    91000          12000         8\n",
            "9   Mercedez Benz C class    67000          22000         6\n",
            "10  Mercedez Benz C class    83000          20000         7\n",
            "11  Mercedez Benz C class    79000          21000         7\n",
            "12  Mercedez Benz C class    59000          33000         5\n"
          ],
          "name": "stdout"
        }
      ]
    },
    {
      "cell_type": "markdown",
      "metadata": {
        "id": "fhY1V6KMNrN4"
      },
      "source": [
        "# Indexing DataFrames\n",
        "There are several ways to index a Pandas DataFrame. One of the easiest ways to do this is by using square bracket notation.\n",
        "\n",
        "In the example below, you can use square brackets to select one column of the cars DataFrame. You can either use a single bracket or a double bracket. The single bracket with output a Pandas Series, while a double bracket will output a Pandas DataFrame."
      ]
    },
    {
      "cell_type": "code",
      "metadata": {
        "id": "qpPqdCQRNuxP",
        "outputId": "87f80440-ba76-464e-8631-9658e058578b",
        "colab": {
          "base_uri": "https://localhost:8080/",
          "height": 782
        }
      },
      "source": [
        "# Import pandas and cars.csv\n",
        "import pandas as pd\n",
        "cars = pd.read_csv(\"./MachineLearning/1_Regression/carprices.csv\", index_col = 0)\n",
        "\n",
        "# Print out Mileage column as Pandas Series\n",
        "print(cars['Mileage'])\n",
        "\n",
        "# Print out Sell Price($) column as Pandas DataFrame\n",
        "print(cars[['Sell Price($)']])\n",
        "\n",
        "# Print out DataFrame with Mileage and Sell Price($) columns\n",
        "print(cars[['Mileage', 'Age(yrs)']])"
      ],
      "execution_count": null,
      "outputs": [
        {
          "output_type": "stream",
          "text": [
            "Car Model\n",
            "BMW X5                   69000\n",
            "BMW X5                   35000\n",
            "BMW X5                   57000\n",
            "BMW X5                   22500\n",
            "BMW X5                   46000\n",
            "Audi A5                  59000\n",
            "Audi A5                  52000\n",
            "Audi A5                  72000\n",
            "Audi A5                  91000\n",
            "Mercedez Benz C class    67000\n",
            "Mercedez Benz C class    83000\n",
            "Mercedez Benz C class    79000\n",
            "Mercedez Benz C class    59000\n",
            "Name: Mileage, dtype: int64\n",
            "                       Sell Price($)\n",
            "Car Model                           \n",
            "BMW X5                         18000\n",
            "BMW X5                         34000\n",
            "BMW X5                         26100\n",
            "BMW X5                         40000\n",
            "BMW X5                         31500\n",
            "Audi A5                        29400\n",
            "Audi A5                        32000\n",
            "Audi A5                        19300\n",
            "Audi A5                        12000\n",
            "Mercedez Benz C class          22000\n",
            "Mercedez Benz C class          20000\n",
            "Mercedez Benz C class          21000\n",
            "Mercedez Benz C class          33000\n",
            "                       Mileage  Age(yrs)\n",
            "Car Model                               \n",
            "BMW X5                   69000         6\n",
            "BMW X5                   35000         3\n",
            "BMW X5                   57000         5\n",
            "BMW X5                   22500         2\n",
            "BMW X5                   46000         4\n",
            "Audi A5                  59000         5\n",
            "Audi A5                  52000         5\n",
            "Audi A5                  72000         6\n",
            "Audi A5                  91000         8\n",
            "Mercedez Benz C class    67000         6\n",
            "Mercedez Benz C class    83000         7\n",
            "Mercedez Benz C class    79000         7\n",
            "Mercedez Benz C class    59000         5\n"
          ],
          "name": "stdout"
        }
      ]
    },
    {
      "cell_type": "markdown",
      "metadata": {
        "id": "YSQcN72URFq9"
      },
      "source": [
        "Square brackets can also be used to access observations (rows) from a DataFrame"
      ]
    },
    {
      "cell_type": "code",
      "metadata": {
        "id": "1D27XHHQRGWd",
        "outputId": "6acc1ccf-2e8e-43b6-bd2a-6ed89bf272ad",
        "colab": {
          "base_uri": "https://localhost:8080/",
          "height": 187
        }
      },
      "source": [
        "# Import cars data\n",
        "import pandas as pd\n",
        "cars = pd.read_csv(\"./MachineLearning/1_Regression/carprices.csv\", index_col = 0)\n",
        "\n",
        "# Print out first 4 observations\n",
        "print(cars[0:4])\n",
        "\n",
        "# Print out fifth and sixth observation\n",
        "print(cars[4:6])"
      ],
      "execution_count": null,
      "outputs": [
        {
          "output_type": "stream",
          "text": [
            "           Mileage  Sell Price($)  Age(yrs)\n",
            "Car Model                                  \n",
            "BMW X5       69000          18000         6\n",
            "BMW X5       35000          34000         3\n",
            "BMW X5       57000          26100         5\n",
            "BMW X5       22500          40000         2\n",
            "           Mileage  Sell Price($)  Age(yrs)\n",
            "Car Model                                  \n",
            "BMW X5       46000          31500         4\n",
            "Audi A5      59000          29400         5\n"
          ],
          "name": "stdout"
        }
      ]
    },
    {
      "cell_type": "markdown",
      "metadata": {
        "id": "7fWz9-AiRTvE"
      },
      "source": [
        "You can also use loc and iloc to perform just about any data selection operation. loc is label-based, which means that you have to specify rows and columns based on their row and column labels. iloc is integer index based, so you have to specify rows and columns by their integer index like you did in the previous exercise."
      ]
    },
    {
      "cell_type": "code",
      "metadata": {
        "id": "dH2UZ5P9RUnf",
        "outputId": "f97365f3-000b-402a-b72f-c8d1aba4c8e7",
        "colab": {
          "base_uri": "https://localhost:8080/",
          "height": 272
        }
      },
      "source": [
        "# Import cars data\n",
        "import pandas as pd\n",
        "cars = pd.read_csv(\"./MachineLearning/1_Regression/carprices.csv\", index_col = 0)\n",
        "\n",
        "# Print out observation for the car in the third row \n",
        "print(cars.iloc[2])\n",
        "\n",
        "# Print out observations for BMW X5 and Audi A5\n",
        "print(cars.loc[['BMW X5', 'Audi A5']])"
      ],
      "execution_count": null,
      "outputs": [
        {
          "output_type": "stream",
          "text": [
            "Mileage          57000\n",
            "Sell Price($)    26100\n",
            "Age(yrs)             5\n",
            "Name: BMW X5, dtype: int64\n",
            "           Mileage  Sell Price($)  Age(yrs)\n",
            "Car Model                                  \n",
            "BMW X5       69000          18000         6\n",
            "BMW X5       35000          34000         3\n",
            "BMW X5       57000          26100         5\n",
            "BMW X5       22500          40000         2\n",
            "BMW X5       46000          31500         4\n",
            "Audi A5      59000          29400         5\n",
            "Audi A5      52000          32000         5\n",
            "Audi A5      72000          19300         6\n",
            "Audi A5      91000          12000         8\n"
          ],
          "name": "stdout"
        }
      ]
    },
    {
      "cell_type": "markdown",
      "metadata": {
        "id": "_Ejug7mkE70T"
      },
      "source": [
        "**Exercise 1.2:** Create a variable named **Tempreture** and assign the day tempreture to it. Also, print the value of the variable **Tempreture**."
      ]
    },
    {
      "cell_type": "code",
      "metadata": {
        "id": "GuOs-AZrE5N2"
      },
      "source": [
        "## Write your code here\n"
      ],
      "execution_count": null,
      "outputs": []
    },
    {
      "cell_type": "markdown",
      "metadata": {
        "id": "ESYSNihf06sL"
      },
      "source": [
        "# General Exercises\n",
        "**Exercise 1.14:** Write a python code that creates two string variables and two floating-point number variables. The first string should contain your first name. The second string should contain your family name. The two floating numbers should contain two random numbers. After creating the variables, print out the full name in one line and the sum of the two floating-point numbers in another line. "
      ]
    },
    {
      "cell_type": "code",
      "metadata": {
        "id": "zZWRuwt5FBuH"
      },
      "source": [
        "## Write your code here\n"
      ],
      "execution_count": null,
      "outputs": []
    },
    {
      "cell_type": "markdown",
      "metadata": {
        "id": "-1877rojFH6j"
      },
      "source": [
        "**Exercise 1.15:** Write a python code that creates six integer variables that represent two dates; D1/M1/Y1 and D2/M2/Y2. Write a code that determines which of the two dates is the newest date. Print on screen the newest date."
      ]
    },
    {
      "cell_type": "code",
      "metadata": {
        "id": "ynyGX7JGFEpu"
      },
      "source": [
        "## Write your code here\n"
      ],
      "execution_count": null,
      "outputs": []
    },
    {
      "cell_type": "markdown",
      "metadata": {
        "id": "Ij_o-XFlFKDp"
      },
      "source": [
        "**Exercise 1.16:** Write a python code that creates six integer variables that represent the current date D1/M1/Y1 and Date of Birth of a specific person D2/M2/Y2. Write a python code that computes the age of that person. Print the resulted age on screen. "
      ]
    },
    {
      "cell_type": "code",
      "metadata": {
        "id": "2wvODXXCFEEm"
      },
      "source": [
        "## Write your code here\n"
      ],
      "execution_count": null,
      "outputs": []
    },
    {
      "cell_type": "markdown",
      "metadata": {
        "id": "gjGv2pJdFLB3"
      },
      "source": [
        "**Exercise 1.17:** Write a python code that reads text from a file and write it to another file."
      ]
    },
    {
      "cell_type": "code",
      "metadata": {
        "id": "joBoYHavFNSj"
      },
      "source": [
        "## Write your code here\n"
      ],
      "execution_count": null,
      "outputs": []
    },
    {
      "cell_type": "markdown",
      "metadata": {
        "id": "JdD5ccdBHYtp"
      },
      "source": [
        "# References\n",
        "\n",
        "The material of this notebook excluding the exercises are selected from the pandas tutorial at learnpython.org."
      ]
    }
  ]
}
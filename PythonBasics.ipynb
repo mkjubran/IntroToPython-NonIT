{
  "nbformat": 4,
  "nbformat_minor": 0,
  "metadata": {
    "colab": {
      "name": "PythonBasics.ipynb",
      "provenance": [],
      "collapsed_sections": [],
      "toc_visible": true,
      "authorship_tag": "ABX9TyPMGF91iSZqU8dqh7NLNh1X",
      "include_colab_link": true
    },
    "kernelspec": {
      "name": "python3",
      "display_name": "Python 3"
    }
  },
  "cells": [
    {
      "cell_type": "markdown",
      "metadata": {
        "id": "view-in-github",
        "colab_type": "text"
      },
      "source": [
        "<a href=\"https://colab.research.google.com/github/mkjubran/IntroToPython-NonIT/blob/main/PythonBasics.ipynb\" target=\"_parent\"><img src=\"https://colab.research.google.com/assets/colab-badge.svg\" alt=\"Open In Colab\"/></a>"
      ]
    },
    {
      "cell_type": "markdown",
      "metadata": {
        "id": "dV2V4JBJvSKS"
      },
      "source": [
        "# Python Basics\n",
        "By the end of this tutorial, you will be able to:\n",
        "\n",
        "-       Recognize the importance of Python programing language and what it can do\n",
        "\n",
        "-       Be able to build a simple Python code that processes simple data"
      ]
    },
    {
      "cell_type": "markdown",
      "metadata": {
        "id": "EL-byoYVKzD6"
      },
      "source": [
        "# Python Variables"
      ]
    },
    {
      "cell_type": "markdown",
      "metadata": {
        "id": "hCVxetA2H3UG"
      },
      "source": [
        "Variables in programing languages are containers for storing data values. In Python a variable is created the moment you first assign a value to it."
      ]
    },
    {
      "cell_type": "code",
      "metadata": {
        "id": "9sSNC75THqcW",
        "outputId": "64a3f7be-76b0-43fb-b880-e0842f4d1a26",
        "colab": {
          "base_uri": "https://localhost:8080/",
          "height": 68
        }
      },
      "source": [
        "x = 5 # x is of type integer (int)\n",
        "y = \"John\" # x is now of type string (str)\n",
        "z = \"Saly\" # x is now of type string (str)\n",
        "print(x)\n",
        "print(y)\n",
        "print(z)"
      ],
      "execution_count": 4,
      "outputs": [
        {
          "output_type": "stream",
          "text": [
            "5\n",
            "John\n",
            "Saly\n"
          ],
          "name": "stdout"
        }
      ]
    },
    {
      "cell_type": "markdown",
      "metadata": {
        "id": "PLzd7MM1IZL8"
      },
      "source": [
        "Variable values can be overwritten as follows"
      ]
    },
    {
      "cell_type": "code",
      "metadata": {
        "id": "-syLi9jMIaEQ",
        "outputId": "b2fff7f0-187b-452e-9991-cc8506ecbc12",
        "colab": {
          "base_uri": "https://localhost:8080/",
          "height": 51
        }
      },
      "source": [
        "x = 4 # x is of type int\n",
        "print(x)\n",
        "x = \"Sally\" # x is now of type str\n",
        "print(x)"
      ],
      "execution_count": 5,
      "outputs": [
        {
          "output_type": "stream",
          "text": [
            "4\n",
            "Sally\n"
          ],
          "name": "stdout"
        }
      ]
    },
    {
      "cell_type": "markdown",
      "metadata": {
        "id": "z8SAv1LKI_xX"
      },
      "source": [
        "A variable can have a short name (like x and y) or a more descriptive name (age, carname, total_volume). Rules for Python variables:\n",
        "1. A variable name must start with a letter or the underscore character\n",
        "2. A variable name cannot start with a number\n",
        "3. A variable name can only contain alpha-numeric characters and underscores (A-z, 0-9, and _ )\n",
        "4. Variable names are case-sensitive (age, Age and AGE are three different variables)\n",
        "\n"
      ]
    },
    {
      "cell_type": "code",
      "metadata": {
        "id": "kOFmOGliJNMG",
        "outputId": "7e89168d-cf0f-4b08-bcf5-ae667c302dfc",
        "colab": {
          "base_uri": "https://localhost:8080/",
          "height": 130
        }
      },
      "source": [
        "#Legal variable names:\n",
        "myvar = \"John\"\n",
        "my_var = \"John\"\n",
        "_my_var = \"John\"\n",
        "myVar = \"John\"\n",
        "MYVAR = \"John\"\n",
        "myvar2 = \"John\"\n",
        "\n",
        "#Illegal variable names:\n",
        "2myvar = \"John\"\n",
        "my-var = \"John\"\n",
        "my var = \"John\""
      ],
      "execution_count": 6,
      "outputs": [
        {
          "output_type": "error",
          "ename": "SyntaxError",
          "evalue": "ignored",
          "traceback": [
            "\u001b[0;36m  File \u001b[0;32m\"<ipython-input-6-a23a3e8b2732>\"\u001b[0;36m, line \u001b[0;32m10\u001b[0m\n\u001b[0;31m    2myvar = \"John\"\u001b[0m\n\u001b[0m         ^\u001b[0m\n\u001b[0;31mSyntaxError\u001b[0m\u001b[0;31m:\u001b[0m invalid syntax\n"
          ]
        }
      ]
    },
    {
      "cell_type": "markdown",
      "metadata": {
        "id": "5fDe5AfOJbGo"
      },
      "source": [
        "The Python print statement is often used to output variables. To combine both text and a variable or to concatenate two string variables, Python uses the + character:"
      ]
    },
    {
      "cell_type": "code",
      "metadata": {
        "id": "cbHH2tYqJiu2",
        "outputId": "f1959f8b-5aae-4c8e-c647-1eedddb2d4f1",
        "colab": {
          "base_uri": "https://localhost:8080/",
          "height": 51
        }
      },
      "source": [
        "x = \"awesome\"\n",
        "print(\"Python is \" + x)\n",
        "\n",
        "x = \"Python is \"\n",
        "y = \"awesome\"\n",
        "z =  x + y\n",
        "print(z)"
      ],
      "execution_count": 7,
      "outputs": [
        {
          "output_type": "stream",
          "text": [
            "Python is awesome\n",
            "Python is awesome\n"
          ],
          "name": "stdout"
        }
      ]
    },
    {
      "cell_type": "markdown",
      "metadata": {
        "id": "ocoBeEgcLDfv"
      },
      "source": [
        "For numbers, the + character works as a mathematical operator:"
      ]
    },
    {
      "cell_type": "code",
      "metadata": {
        "id": "VWOZTVRmJ5sJ",
        "outputId": "bc3f4f90-ca08-4c2a-ed82-949cb12cb872",
        "colab": {
          "base_uri": "https://localhost:8080/",
          "height": 34
        }
      },
      "source": [
        "x = 5\n",
        "y = 10\n",
        "print(x + y)"
      ],
      "execution_count": 8,
      "outputs": [
        {
          "output_type": "stream",
          "text": [
            "15\n"
          ],
          "name": "stdout"
        }
      ]
    },
    {
      "cell_type": "markdown",
      "metadata": {
        "id": "Tk-xLANgKFGd"
      },
      "source": [
        "**Exercise 1.1:** Create a variable named **Trainee** and assign your name to it. Also, print the value of the variable **Trainee**.\n",
        "\n",
        "**Exercise 1.2:** Create a variable named **Tempreture** and assign the day tempreture to it. Also, print the value of the variable **Tempreture**."
      ]
    },
    {
      "cell_type": "markdown",
      "metadata": {
        "id": "VFgnw36bLGmq"
      },
      "source": [
        "# Python Indentation and Comments"
      ]
    },
    {
      "cell_type": "markdown",
      "metadata": {
        "id": "hoQbH7v_Kk_P"
      },
      "source": [
        "Python Indentation\n",
        "Indentation refers to the spaces at the beginning of a code line. The indentation in code is for readability only, the indentation in Python is very important. Python uses indentation to indicate a block of code."
      ]
    },
    {
      "cell_type": "code",
      "metadata": {
        "id": "gyySqb2CLVKr"
      },
      "source": [
        "x=5\n",
        "y=5\n",
        "print(x+y)"
      ],
      "execution_count": null,
      "outputs": []
    },
    {
      "cell_type": "markdown",
      "metadata": {
        "id": "hCKvRDSFLaN7"
      },
      "source": [
        "Adding wrong indentation will cause a failure when trying to run the code"
      ]
    },
    {
      "cell_type": "code",
      "metadata": {
        "id": "MdLGE5YNLkje"
      },
      "source": [
        "x=5\n",
        "  y=5 ## adding indentation\n",
        "print(x+y)"
      ],
      "execution_count": null,
      "outputs": []
    },
    {
      "cell_type": "markdown",
      "metadata": {
        "id": "sgM-nJdhL62b"
      },
      "source": [
        "Python comments can be used for various reasons which may include\n",
        "1. explain the Python code.\n",
        "2. make the code more readable.\n",
        "3. prevent execution when testing code.\n",
        "\n",
        "To add a comment in the python code, start the line with the symbol #, and Python will ignore these lines."
      ]
    },
    {
      "cell_type": "code",
      "metadata": {
        "id": "CWZcJm1FM4Ww"
      },
      "source": [
        "#This is a comment\n",
        "print(\"1 - Hello, World!\")\n",
        "\n",
        "print(\"2 - Hello, World!\") #This is a comment\n",
        "\n",
        "#print(\"3 - Hello, World!\") #This is a comment"
      ],
      "execution_count": null,
      "outputs": []
    },
    {
      "cell_type": "markdown",
      "metadata": {
        "id": "yJSqgCybAec0"
      },
      "source": [
        "To add a multiline comment you could insert a ''' at the beginning of the multiline comment and ''' at the end of the multiline comment in separate lines."
      ]
    },
    {
      "cell_type": "code",
      "metadata": {
        "id": "JFpUogXQAe3O"
      },
      "source": [
        "'''\n",
        "This is a comment\n",
        "written in\n",
        "more than just one line\n",
        "'''\n",
        "print(\"Hello, World!\")"
      ],
      "execution_count": null,
      "outputs": []
    },
    {
      "cell_type": "markdown",
      "metadata": {
        "id": "8TiRSGdnpVVU"
      },
      "source": [
        "**Exercise 1.3:** Write a code that contains two variables named **Trainee** and **Tutorial** and assign your name to the **Trainee** variable and the title of this tutorial to the **Tutorial** variable. Add comments to the code to explain the two variables. then print the two variables."
      ]
    },
    {
      "cell_type": "markdown",
      "metadata": {
        "id": "K7olZlfLBX7x"
      },
      "source": [
        "# Python Data Types and Casting\n",
        "\n",
        "Variables can store data of different types, and different types can do different things. Python has the following major data types built-in by default, in these categories:\n",
        "\n",
        "1. Text Type:\tstr\n",
        "2. Numeric Types:\tint, float\n",
        "3. Sequence Types:\tlist, range, set\n",
        "4. Mapping Type:\tdict"
      ]
    },
    {
      "cell_type": "markdown",
      "metadata": {
        "id": "543Q0zATGIrg"
      },
      "source": [
        "**The String Data type**"
      ]
    },
    {
      "cell_type": "code",
      "metadata": {
        "id": "wCW4KujHF-T5"
      },
      "source": [
        "## String Data type\n",
        "x = \"Hello World\"\n",
        "print (x) ## print the value of x \n",
        "print(type(x)) ## to print the data type "
      ],
      "execution_count": null,
      "outputs": []
    },
    {
      "cell_type": "markdown",
      "metadata": {
        "id": "kO1-wgD6GFgb"
      },
      "source": [
        "**The Numaric Data type**"
      ]
    },
    {
      "cell_type": "code",
      "metadata": {
        "id": "qbjx9mUnB1fT"
      },
      "source": [
        "## Numaric Data type\n",
        "x = 5 ## integer\n",
        "print (x) ## print the value of x \n",
        "print(type(x)) ## to print the data type \n",
        "\n",
        "x = 5.0 ## float\n",
        "print (x) ## print the value of x \n",
        "print(type(x)) ## to print the data type "
      ],
      "execution_count": null,
      "outputs": []
    },
    {
      "cell_type": "markdown",
      "metadata": {
        "id": "Y5hCvHW2Fyqr"
      },
      "source": [
        "**The List Data type**"
      ]
    },
    {
      "cell_type": "code",
      "metadata": {
        "id": "RfW34U4bFzBR"
      },
      "source": [
        "## List Data type\n",
        "x = [\"apple\", \"banana\", \"cherry\"]\n",
        "print (x) ## print the value of x \n",
        "print(type(x)) ## to print the data type \n",
        "print(x[0])"
      ],
      "execution_count": null,
      "outputs": []
    },
    {
      "cell_type": "markdown",
      "metadata": {
        "id": "R5eXeI-CFRsr"
      },
      "source": [
        "**The Range Data type**"
      ]
    },
    {
      "cell_type": "code",
      "metadata": {
        "id": "EABVKjbiFdv3"
      },
      "source": [
        "## Range Data type\n",
        "x = range(6)\n",
        "print (x) ## print the value of x \n",
        "print(type(x)) ## to print the data type \n",
        "print(x[3])"
      ],
      "execution_count": null,
      "outputs": []
    },
    {
      "cell_type": "markdown",
      "metadata": {
        "id": "hoe6sV0UFI49"
      },
      "source": [
        "**The Set Data type**"
      ]
    },
    {
      "cell_type": "code",
      "metadata": {
        "id": "dk0nFS6_FAmS",
        "outputId": "ac3c13a2-f2e2-46b8-cb35-7ab38a9010c1",
        "colab": {
          "base_uri": "https://localhost:8080/",
          "height": 85
        }
      },
      "source": [
        "## Set Data type\n",
        "x = {\"apple\", \"banana\", \"cherry\"}\n",
        "print (x) ## print the value of x \n",
        "print(type(x)) ## to print the data type\n",
        "\n",
        "x = {\"apple\",\"apple\", \"banana\", \"cherry\"}\n",
        "print (x) ## print the value of x \n",
        "print(type(x)) ## to print the data type"
      ],
      "execution_count": 12,
      "outputs": [
        {
          "output_type": "stream",
          "text": [
            "{'banana', 'cherry', 'apple'}\n",
            "<class 'set'>\n",
            "{'banana', 'cherry', 'apple'}\n",
            "<class 'set'>\n"
          ],
          "name": "stdout"
        }
      ]
    },
    {
      "cell_type": "markdown",
      "metadata": {
        "id": "YaZYDQvPFTeA"
      },
      "source": [
        "**The Dictionary Data type**"
      ]
    },
    {
      "cell_type": "code",
      "metadata": {
        "id": "JWVYXiPKEfeC",
        "outputId": "5c8b70b6-b37a-4322-a7a4-8c038c13dc2c",
        "colab": {
          "base_uri": "https://localhost:8080/",
          "height": 102
        }
      },
      "source": [
        "## Dictionary Data type\n",
        "x = {\"name\" : \"John\", \"age\" : 36}\n",
        "print (x) ## print the value of x\n",
        "print (x['name'])\n",
        "print(type(x)) ## to print the data type \n",
        "print (x['name'])\n",
        "print (x['age'])"
      ],
      "execution_count": 13,
      "outputs": [
        {
          "output_type": "stream",
          "text": [
            "{'name': 'John', 'age': 36}\n",
            "John\n",
            "<class 'dict'>\n",
            "John\n",
            "36\n"
          ],
          "name": "stdout"
        }
      ]
    },
    {
      "cell_type": "markdown",
      "metadata": {
        "id": "a9qa546xCG2X"
      },
      "source": [
        "There may be times when you want to specify a type on to a variable. This can be done with casting such as the examples provided below"
      ]
    },
    {
      "cell_type": "code",
      "metadata": {
        "id": "f_9GVUP9GqJ8",
        "outputId": "dd267638-b6ac-4bcf-d0d9-978146f523e5",
        "colab": {
          "base_uri": "https://localhost:8080/",
          "height": 85
        }
      },
      "source": [
        "## The casting of an integer to a float\n",
        "x = 5 ## integer\n",
        "print (x) ## print the value of x \n",
        "print(type(x)) ## to print the data type \n",
        "\n",
        "y= float(x) ## Casting\n",
        "print (y) ## print the value of x \n",
        "print(type(y)) ## to print the data type  "
      ],
      "execution_count": 14,
      "outputs": [
        {
          "output_type": "stream",
          "text": [
            "5\n",
            "<class 'int'>\n",
            "5.0\n",
            "<class 'float'>\n"
          ],
          "name": "stdout"
        }
      ]
    },
    {
      "cell_type": "code",
      "metadata": {
        "id": "gmE3TxpAHKYV",
        "outputId": "c29468a8-9a50-4ff8-e522-6e34a72d50bf",
        "colab": {
          "base_uri": "https://localhost:8080/",
          "height": 85
        }
      },
      "source": [
        "## The casting of a float to an integer\n",
        "x = 5.5 ## integer\n",
        "print (x) ## print the value of x \n",
        "print(type(x)) ## to print the data type \n",
        "\n",
        "y= int(x) ## Casting\n",
        "print (y) ## print the value of x \n",
        "print(type(y)) ## to print the data type  "
      ],
      "execution_count": 15,
      "outputs": [
        {
          "output_type": "stream",
          "text": [
            "5.5\n",
            "<class 'float'>\n",
            "5\n",
            "<class 'int'>\n"
          ],
          "name": "stdout"
        }
      ]
    },
    {
      "cell_type": "code",
      "metadata": {
        "id": "31U8boNiHRGy",
        "outputId": "1fe10798-f7c9-4292-d69f-99b9e6b55576",
        "colab": {
          "base_uri": "https://localhost:8080/",
          "height": 85
        }
      },
      "source": [
        "## The casting of a float to an string\n",
        "x = 5.5 ## integer\n",
        "print (x) ## print the value of x \n",
        "print(type(x)) ## to print the data type \n",
        "\n",
        "y= str(x) ## Casting\n",
        "print (y) ## print the value of x \n",
        "print(type(y)) ## to print the data type  "
      ],
      "execution_count": 16,
      "outputs": [
        {
          "output_type": "stream",
          "text": [
            "5.5\n",
            "<class 'float'>\n",
            "5.5\n",
            "<class 'str'>\n"
          ],
          "name": "stdout"
        }
      ]
    },
    {
      "cell_type": "markdown",
      "metadata": {
        "id": "J9hAM8vWqHsB"
      },
      "source": [
        "**Exercise 1.4:** Create a variable that contains the names of the months of a year. Also, print the name of month 11.\n",
        "\n",
        "**Exercise 1.5:** Create a numeric float variable that equals 11.5. use casting to an integer to remove the fraction. Then print the float and integer variables.\n",
        "\n",
        "**Exercise 1.6:** Create a variable (list data type) that contains the following names 'Ahmad', 'Reema', 'Omar', and 'Salma'. Assume the name 'Salma' is repeated twice. Use casting to a set data type to remove the repeated name. print the original variable and the new variable.\n",
        "\n"
      ]
    },
    {
      "cell_type": "markdown",
      "metadata": {
        "id": "tgeYPIeUICBF"
      },
      "source": [
        "# Python Boolean Values\n",
        "\n",
        "In programming you often need to know if an expression is True or False. You can evaluate any expression in Python, and get one of two answers, True or False. When you compare two values, the expression is evaluated and Python returns the Boolean answer."
      ]
    },
    {
      "cell_type": "code",
      "metadata": {
        "id": "rmESF5T7IMrz"
      },
      "source": [
        "print(10 > 9)\n",
        "print(10 == 9)\n",
        "print(10 < 9)"
      ],
      "execution_count": null,
      "outputs": []
    },
    {
      "cell_type": "markdown",
      "metadata": {
        "id": "L1dDEy9HJEtk"
      },
      "source": [
        "# Python Conditions and If Statements\n",
        "Python supports the usual logical conditions from mathematics:\n",
        "1. Equals: a == b\n",
        "2. Not Equals: a != b\n",
        "3. Less than: a < b\n",
        "4. Less than or equal to: a <= b\n",
        "5. Greater than: a > b\n",
        "6. Greater than or equal to: a >= b\n",
        "These conditions can be used in several ways, most commonly in \"if statements\" and loops.\n",
        "\n",
        "An \"if statement\" is written by using the if keyword."
      ]
    },
    {
      "cell_type": "code",
      "metadata": {
        "id": "6Edj1lqIJKbG"
      },
      "source": [
        "a = 33\n",
        "b = 200\n",
        "if b > a:\n",
        "  print(\"b is greater than a\")"
      ],
      "execution_count": null,
      "outputs": []
    },
    {
      "cell_type": "markdown",
      "metadata": {
        "id": "75AX6pBFJeSX"
      },
      "source": [
        "Notice that Python relies on indentation (whitespace at the beginning of a line) to define the scope in the code as in the case of the if statement above."
      ]
    },
    {
      "cell_type": "code",
      "metadata": {
        "id": "xck-AyJXJ9JV"
      },
      "source": [
        "a = 33\n",
        "b = 200\n",
        "if b > a:\n",
        "print(\"b is greater than a\")"
      ],
      "execution_count": null,
      "outputs": []
    },
    {
      "cell_type": "markdown",
      "metadata": {
        "id": "3txSZsX8Lvat"
      },
      "source": [
        "The else keyword in a for loop specifies a block of code to be executed when the loop is finished."
      ]
    },
    {
      "cell_type": "code",
      "metadata": {
        "id": "_K8xhcc7L0LE"
      },
      "source": [
        "a = 330\n",
        "b = 200\n",
        "if b > a:\n",
        "  print(\"b is greater than a\")\n",
        "else:\n",
        "  print(\"a is greater than b\")"
      ],
      "execution_count": null,
      "outputs": []
    },
    {
      "cell_type": "markdown",
      "metadata": {
        "id": "9VzyvmEHslGP"
      },
      "source": [
        "**Exercise 1.7:** Write an if statement that decides if a floating number is positive or not. Print an output statement in both cases.\n",
        "\n",
        "**Exercise 1.8:** Assume a string variable **x** is a string of small letters. write an if statement to determine if this string is a name of one of the months."
      ]
    },
    {
      "cell_type": "markdown",
      "metadata": {
        "id": "k3S_Y7AIKF_k"
      },
      "source": [
        "# Python For Loops\n",
        "A for loop is used for iterating over a sequence (that is either a list, a dictionary, a set, or a string). With the for loop we can execute a set of statements, once for each item in a list, tuple, set etc."
      ]
    },
    {
      "cell_type": "code",
      "metadata": {
        "id": "3gmsHMV2KUqB"
      },
      "source": [
        "## Example 1: Iterate over a list\n",
        "fruits = [\"apple\", \"banana\", \"cherry\"]\n",
        "for x in fruits:\n",
        "  print(x)"
      ],
      "execution_count": null,
      "outputs": []
    },
    {
      "cell_type": "code",
      "metadata": {
        "id": "plIhXTP1Kb-0"
      },
      "source": [
        "## Example 2: Iterate over a string\n",
        "for x in \"banana\":\n",
        "  print(x)"
      ],
      "execution_count": null,
      "outputs": []
    },
    {
      "cell_type": "markdown",
      "metadata": {
        "id": "yKiRDO25KoXm"
      },
      "source": [
        "With the **break statement**, we can stop the loop before it has looped through all the items:"
      ]
    },
    {
      "cell_type": "code",
      "metadata": {
        "id": "cd1Xm6hNKs5e"
      },
      "source": [
        "## Example #1 using the break statement\n",
        "fruits = [\"apple\", \"banana\", \"cherry\"]\n",
        "for x in fruits:\n",
        "  print(x)\n",
        "  if x == \"banana\":\n",
        "    break"
      ],
      "execution_count": null,
      "outputs": []
    },
    {
      "cell_type": "code",
      "metadata": {
        "id": "iUNCBh2DKyHF"
      },
      "source": [
        "## Example #2 using the break statement\n",
        "fruits = [\"apple\", \"banana\", \"cherry\"]\n",
        "for x in fruits:\n",
        "  if x == \"banana\":\n",
        "    break\n",
        "  print(x)"
      ],
      "execution_count": null,
      "outputs": []
    },
    {
      "cell_type": "markdown",
      "metadata": {
        "id": "Uktf1GnKLKSE"
      },
      "source": [
        "With the **continue statement** we can stop the current iteration of the loop, and continue with the next:"
      ]
    },
    {
      "cell_type": "code",
      "metadata": {
        "id": "3evEECPCLOaE"
      },
      "source": [
        "## Example using the continue statement\n",
        "fruits = [\"apple\", \"banana\", \"cherry\"]\n",
        "for x in fruits:\n",
        "  if x == \"banana\":\n",
        "    continue\n",
        "  print(x)"
      ],
      "execution_count": null,
      "outputs": []
    },
    {
      "cell_type": "markdown",
      "metadata": {
        "id": "1RHLtwb6Lbo9"
      },
      "source": [
        "To loop through a set of code a specified number of times, we can use the **range() function**. The range() function returns a sequence of numbers, starting from 0 by default, and increments by 1 (by default), and ends at a specified number."
      ]
    },
    {
      "cell_type": "code",
      "metadata": {
        "id": "40mpScyfLc3I"
      },
      "source": [
        "for x in range(6):\n",
        "  print(x)"
      ],
      "execution_count": null,
      "outputs": []
    },
    {
      "cell_type": "markdown",
      "metadata": {
        "id": "E6scG8QEMHaX"
      },
      "source": [
        "A nested loop is a loop inside a loop. The \"inner loop\" will be executed one time for each iteration of the \"outer loop\"."
      ]
    },
    {
      "cell_type": "code",
      "metadata": {
        "id": "FZ6hsTQDMJ6K"
      },
      "source": [
        "adj = [\"red\", \"big\", \"tasty\"]\n",
        "fruits = [\"apple\", \"banana\", \"cherry\"]\n",
        "\n",
        "for x in adj:\n",
        "  for y in fruits:\n",
        "    print(x, y)"
      ],
      "execution_count": null,
      "outputs": []
    },
    {
      "cell_type": "markdown",
      "metadata": {
        "id": "tTep4zmytuCa"
      },
      "source": [
        "**Exercise 1.9:** Redo exercise 1.8 using for and if statements. \n",
        "\n",
        "**Exercise 1.10:** Write a for and if statements to compare the elements of two lists. Print an output statement whether the two lists are similar or not."
      ]
    },
    {
      "cell_type": "markdown",
      "metadata": {
        "id": "d5g6OoQGMTvN"
      },
      "source": [
        "# Python Functions\n",
        "A function is a block of code which only runs when it is called. You can pass data, known as parameters, into a function. A function can return data as a result."
      ]
    },
    {
      "cell_type": "markdown",
      "metadata": {
        "id": "Pb4d-FE8Mjce"
      },
      "source": [
        "To **creating a function** in python use the def keyword"
      ]
    },
    {
      "cell_type": "code",
      "metadata": {
        "id": "2St1YTt3Mfn_"
      },
      "source": [
        "def my_function():\n",
        "  print(\"Hello from a function\")"
      ],
      "execution_count": null,
      "outputs": []
    },
    {
      "cell_type": "markdown",
      "metadata": {
        "id": "yjG3UpsVMwX6"
      },
      "source": [
        "To **call a function**, use the function name followed by parenthesis"
      ]
    },
    {
      "cell_type": "code",
      "metadata": {
        "id": "aH9eNWbWM4a7"
      },
      "source": [
        "my_function()"
      ],
      "execution_count": null,
      "outputs": []
    },
    {
      "cell_type": "markdown",
      "metadata": {
        "id": "jfQ8qgSPNDAy"
      },
      "source": [
        "Information can be passed into functions as arguments. Arguments are specified after the function name, inside the parentheses. You can add as many arguments as you want, just separate them with a comma.\n",
        "\n",
        "The following example has a function with one argument (fname). When the function is called, we pass along a first name, which is used inside the function to print the full name."
      ]
    },
    {
      "cell_type": "code",
      "metadata": {
        "id": "cw-B6LEcMwy2"
      },
      "source": [
        "def my_function(fname):\n",
        "  print(fname + \" Refsnes\")\n",
        "\n",
        "my_function(\"Emil\")\n",
        "my_function(\"Tobias\")\n",
        "my_function(\"Linus\")"
      ],
      "execution_count": null,
      "outputs": []
    },
    {
      "cell_type": "markdown",
      "metadata": {
        "id": "CcWmCy70Nbnx"
      },
      "source": [
        "A **default value** can be set for the function arguments. If we call the function without an argument, it uses the default value."
      ]
    },
    {
      "cell_type": "code",
      "metadata": {
        "id": "RpdxQqxZNqSJ"
      },
      "source": [
        "def my_function(country = \"Norway\"):\n",
        "  print(\"I am from \" + country)\n",
        "\n",
        "my_function(\"Sweden\")\n",
        "my_function(\"India\")\n",
        "my_function()\n",
        "my_function(\"Brazil\")"
      ],
      "execution_count": null,
      "outputs": []
    },
    {
      "cell_type": "markdown",
      "metadata": {
        "id": "EZAQO3boNzKw"
      },
      "source": [
        "To let a function **return a value**, use the return statement."
      ]
    },
    {
      "cell_type": "code",
      "metadata": {
        "id": "QGmYSF2VN-sh"
      },
      "source": [
        "def my_function(x):\n",
        "  return 5 * x\n",
        "\n",
        "print(my_function(3))\n",
        "print(my_function(5))\n",
        "print(my_function(9))"
      ],
      "execution_count": null,
      "outputs": []
    },
    {
      "cell_type": "markdown",
      "metadata": {
        "id": "MvRGM4dOuhUK"
      },
      "source": [
        "**Exercise 1.11:** Redo exercise 1.9 by defining a function.\n",
        "\n",
        "**Exercise 1.12:** Redo exercise 1.10 by defining a function."
      ]
    },
    {
      "cell_type": "markdown",
      "metadata": {
        "id": "9dYjuT5sCqBy"
      },
      "source": [
        "# File Handling in Python\n",
        "Python has several functions for creating, reading, updating, and deleting files."
      ]
    },
    {
      "cell_type": "markdown",
      "metadata": {
        "id": "0e784BpkC5t2"
      },
      "source": [
        "**Open a File**\n",
        "\n",
        "The key function for working with files in Python is the **open()** function. The open() function takes two parameters; filename, and mode. There are four different methods (modes) for opening a file:\n",
        "1. \"r\" - Read - Default value. Opens a file for reading, error if the file does not exist\n",
        "2. \"a\" - Append - Opens a file for appending, creates the file if it does not exist\n",
        "3. \"w\" - Write - Opens a file for writing, creates the file if it does not exist\n",
        "4. \"x\" - Create - Creates the specified file, returns an error if the file exists\n",
        "\n",
        "In addition you can specify if the file should be handled as binary or text mode:\n",
        "1. \"t\" - Text - Default value. Text mode\n",
        "2. \"b\" - Binary - Binary mode (e.g. images)"
      ]
    },
    {
      "cell_type": "markdown",
      "metadata": {
        "id": "ln3AsB9nG523"
      },
      "source": [
        "Example: Open a 'demofile.txt' for writing"
      ]
    },
    {
      "cell_type": "code",
      "metadata": {
        "id": "c755cKSWDrd7"
      },
      "source": [
        "f = open(\"demofile.txt\", \"wt\")"
      ],
      "execution_count": null,
      "outputs": []
    },
    {
      "cell_type": "markdown",
      "metadata": {
        "id": "FZgm1DuzEJri"
      },
      "source": [
        "**Write to an Existing File**\n",
        "\n",
        "To write to an existing file, you must add a parameter to the open() function:\n",
        "1. \"a\" - Append - will append to the end of the file\n",
        "2. \"w\" - Write - will overwrite any existing content"
      ]
    },
    {
      "cell_type": "markdown",
      "metadata": {
        "id": "7-F5jQ1oGDIS"
      },
      "source": [
        "Example: Open the file \"demofile2.txt\" and append content to the file"
      ]
    },
    {
      "cell_type": "code",
      "metadata": {
        "id": "tNyWcl5hFxRz"
      },
      "source": [
        "f = open(\"demofile2.txt\", \"a\")\n",
        "f.write(\"Now the file has more content!\")\n",
        "f.close()\n",
        "\n",
        "#open and read the file after the appending:\n",
        "f = open(\"demofile2.txt\", \"r\")\n",
        "print(f.read())\n"
      ],
      "execution_count": null,
      "outputs": []
    },
    {
      "cell_type": "markdown",
      "metadata": {
        "id": "L1u0SqBTF4uH"
      },
      "source": [
        "Example: Open the file \"demofile3.txt\" and overwrite the content"
      ]
    },
    {
      "cell_type": "code",
      "metadata": {
        "id": "Xbebr_PDFyIB"
      },
      "source": [
        "f = open(\"demofile3.txt\", \"w\")\n",
        "f.write(\"Woops! I have deleted the content!\")\n",
        "f.close()\n",
        "\n",
        "#open and read the file after the appending:\n",
        "f = open(\"demofile3.txt\", \"r\")\n",
        "print(f.read())"
      ],
      "execution_count": null,
      "outputs": []
    },
    {
      "cell_type": "markdown",
      "metadata": {
        "id": "b5ZM207cGSrw"
      },
      "source": [
        "**Create a New File**\n",
        "To create a new file in Python, use the open() method, with one of the following parameters:\n",
        "1. \"x\" - Create - will create a file, returns an error if the file exist\n",
        "2. \"a\" - Append - will create a file if the specified file does not exist\n",
        "3. \"w\" - Write - will create a file if the specified file does not exist"
      ]
    },
    {
      "cell_type": "markdown",
      "metadata": {
        "id": "_GT_yefpGej-"
      },
      "source": [
        "Example: Create a file called \"myfile.txt\"."
      ]
    },
    {
      "cell_type": "code",
      "metadata": {
        "id": "t1NSiFqWGZuk"
      },
      "source": [
        "f = open(\"myfile.txt\", \"x\")"
      ],
      "execution_count": null,
      "outputs": []
    },
    {
      "cell_type": "markdown",
      "metadata": {
        "id": "xJhJFzWiGkX2"
      },
      "source": [
        "Example: Create a new file if it does not exist."
      ]
    },
    {
      "cell_type": "code",
      "metadata": {
        "id": "Sh0qqHOuGnLq"
      },
      "source": [
        "f = open(\"myfile.txt\", \"w\")"
      ],
      "execution_count": null,
      "outputs": []
    },
    {
      "cell_type": "markdown",
      "metadata": {
        "id": "LMAL7WMzuzSu"
      },
      "source": [
        "**Exercise 1.13:** Redo exercise 1.11 by reading the variable **x** from a file and writing the output statement to a file."
      ]
    },
    {
      "cell_type": "markdown",
      "metadata": {
        "id": "JdD5ccdBHYtp"
      },
      "source": [
        "# References\n",
        "\n",
        "The material of this notebook excluding the exercises are selected from the python tutorial at w3schools.com."
      ]
    }
  ]
}
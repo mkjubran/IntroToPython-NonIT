{
  "nbformat": 4,
  "nbformat_minor": 0,
  "metadata": {
    "colab": {
      "name": "PythonBasics.ipynb",
      "provenance": [],
      "collapsed_sections": [],
      "toc_visible": true,
      "authorship_tag": "ABX9TyPViYn1Rh3vJQWNtSZmk7iV",
      "include_colab_link": true
    },
    "kernelspec": {
      "name": "python3",
      "display_name": "Python 3"
    }
  },
  "cells": [
    {
      "cell_type": "markdown",
      "metadata": {
        "id": "view-in-github",
        "colab_type": "text"
      },
      "source": [
        "<a href=\"https://colab.research.google.com/github/mkjubran/IntroToPython-NonIT/blob/main/PythonBasics.ipynb\" target=\"_parent\"><img src=\"https://colab.research.google.com/assets/colab-badge.svg\" alt=\"Open In Colab\"/></a>"
      ]
    },
    {
      "cell_type": "markdown",
      "metadata": {
        "id": "EL-byoYVKzD6"
      },
      "source": [
        "# Python Variables"
      ]
    },
    {
      "cell_type": "markdown",
      "metadata": {
        "id": "hCVxetA2H3UG"
      },
      "source": [
        "Variables in programing languages are containers for storing data values. In Python a variable is created the moment you first assign a value to it."
      ]
    },
    {
      "cell_type": "code",
      "metadata": {
        "id": "9sSNC75THqcW",
        "outputId": "1f755a3a-8f6b-4ea2-dc94-ee2a718fae96",
        "colab": {
          "base_uri": "https://localhost:8080/",
          "height": 68
        }
      },
      "source": [
        "x = 5 # x is of type integer (int)\n",
        "y = \"John\" # x is now of type string (str)\n",
        "z = \"Saly\" # x is now of type string (str)\n",
        "print(x)\n",
        "print(y)\n",
        "print(z)"
      ],
      "execution_count": null,
      "outputs": [
        {
          "output_type": "stream",
          "text": [
            "5\n",
            "John\n",
            "Saly\n"
          ],
          "name": "stdout"
        }
      ]
    },
    {
      "cell_type": "markdown",
      "metadata": {
        "id": "PLzd7MM1IZL8"
      },
      "source": [
        "Variable values can be overwritten as follows"
      ]
    },
    {
      "cell_type": "code",
      "metadata": {
        "id": "-syLi9jMIaEQ",
        "outputId": "15301819-7e57-48e8-a82a-ff1d298f7bca",
        "colab": {
          "base_uri": "https://localhost:8080/",
          "height": 51
        }
      },
      "source": [
        "x = 4 # x is of type int\n",
        "print(x)\n",
        "x = \"Sally\" # x is now of type str\n",
        "print(x)"
      ],
      "execution_count": null,
      "outputs": [
        {
          "output_type": "stream",
          "text": [
            "4\n",
            "Sally\n"
          ],
          "name": "stdout"
        }
      ]
    },
    {
      "cell_type": "markdown",
      "metadata": {
        "id": "z8SAv1LKI_xX"
      },
      "source": [
        "A variable can have a short name (like x and y) or a more descriptive name (age, carname, total_volume). Rules for Python variables:\n",
        "1. A variable name must start with a letter or the underscore character\n",
        "2. A variable name cannot start with a number\n",
        "3. A variable name can only contain alpha-numeric characters and underscores (A-z, 0-9, and _ )\n",
        "4. Variable names are case-sensitive (age, Age and AGE are three different variables)\n",
        "\n"
      ]
    },
    {
      "cell_type": "code",
      "metadata": {
        "id": "kOFmOGliJNMG",
        "outputId": "7d3d7305-f64e-4413-9053-d93139df0b37",
        "colab": {
          "base_uri": "https://localhost:8080/",
          "height": 130
        }
      },
      "source": [
        "#Legal variable names:\n",
        "myvar = \"John\"\n",
        "my_var = \"John\"\n",
        "_my_var = \"John\"\n",
        "myVar = \"John\"\n",
        "MYVAR = \"John\"\n",
        "myvar2 = \"John\"\n",
        "\n",
        "#Illegal variable names:\n",
        "2myvar = \"John\"\n",
        "my-var = \"John\"\n",
        "my var = \"John\""
      ],
      "execution_count": null,
      "outputs": [
        {
          "output_type": "error",
          "ename": "SyntaxError",
          "evalue": "ignored",
          "traceback": [
            "\u001b[0;36m  File \u001b[0;32m\"<ipython-input-9-a23a3e8b2732>\"\u001b[0;36m, line \u001b[0;32m10\u001b[0m\n\u001b[0;31m    2myvar = \"John\"\u001b[0m\n\u001b[0m         ^\u001b[0m\n\u001b[0;31mSyntaxError\u001b[0m\u001b[0;31m:\u001b[0m invalid syntax\n"
          ]
        }
      ]
    },
    {
      "cell_type": "markdown",
      "metadata": {
        "id": "5fDe5AfOJbGo"
      },
      "source": [
        "The Python print statement is often used to output variables. To combine both text and a variable or to concatenate two string variables, Python uses the + character:"
      ]
    },
    {
      "cell_type": "code",
      "metadata": {
        "id": "cbHH2tYqJiu2",
        "outputId": "f8bb1c3a-a3bb-41e2-ce50-3ca19570888f",
        "colab": {
          "base_uri": "https://localhost:8080/",
          "height": 51
        }
      },
      "source": [
        "x = \"awesome\"\n",
        "print(\"Python is \" + x)\n",
        "\n",
        "x = \"Python is \"\n",
        "y = \"awesome\"\n",
        "z =  x + y\n",
        "print(z)"
      ],
      "execution_count": null,
      "outputs": [
        {
          "output_type": "stream",
          "text": [
            "Python is awesome\n",
            "Python is awesome\n"
          ],
          "name": "stdout"
        }
      ]
    },
    {
      "cell_type": "markdown",
      "metadata": {
        "id": "ocoBeEgcLDfv"
      },
      "source": [
        "For numbers, the + character works as a mathematical operator:"
      ]
    },
    {
      "cell_type": "code",
      "metadata": {
        "id": "VWOZTVRmJ5sJ",
        "outputId": "daeeaf82-ac86-4756-a340-2543f98d5e60",
        "colab": {
          "base_uri": "https://localhost:8080/",
          "height": 34
        }
      },
      "source": [
        "x = 5\n",
        "y = 10\n",
        "print(x + y)"
      ],
      "execution_count": null,
      "outputs": [
        {
          "output_type": "stream",
          "text": [
            "15\n"
          ],
          "name": "stdout"
        }
      ]
    },
    {
      "cell_type": "markdown",
      "metadata": {
        "id": "Tk-xLANgKFGd"
      },
      "source": [
        "**Exercise 1.1:** Create a variable named **Trainee** and assign your name to it. Also, print the value of the variable **Trainee**."
      ]
    },
    {
      "cell_type": "markdown",
      "metadata": {
        "id": "VFgnw36bLGmq"
      },
      "source": [
        "# Python Indentation and comments"
      ]
    },
    {
      "cell_type": "markdown",
      "metadata": {
        "id": "hoQbH7v_Kk_P"
      },
      "source": [
        "Python Indentation\n",
        "Indentation refers to the spaces at the beginning of a code line. The indentation in code is for readability only, the indentation in Python is very important. Python uses indentation to indicate a block of code."
      ]
    },
    {
      "cell_type": "code",
      "metadata": {
        "id": "gyySqb2CLVKr",
        "outputId": "0668ca34-a14e-4ce6-cb18-cc049aa79419",
        "colab": {
          "base_uri": "https://localhost:8080/",
          "height": 34
        }
      },
      "source": [
        "x=5\n",
        "y=5\n",
        "print(x+y)"
      ],
      "execution_count": null,
      "outputs": [
        {
          "output_type": "stream",
          "text": [
            "10\n"
          ],
          "name": "stdout"
        }
      ]
    },
    {
      "cell_type": "markdown",
      "metadata": {
        "id": "hCKvRDSFLaN7"
      },
      "source": [
        "Adding wrong indentation will cause a failure when trying to run the code"
      ]
    },
    {
      "cell_type": "code",
      "metadata": {
        "id": "MdLGE5YNLkje",
        "outputId": "61c7a8d9-1bde-42ff-9af4-a570929b0a75",
        "colab": {
          "base_uri": "https://localhost:8080/",
          "height": 130
        }
      },
      "source": [
        "x=5\n",
        "  y=5 ## adding indentation\n",
        "print(x+y)"
      ],
      "execution_count": null,
      "outputs": [
        {
          "output_type": "error",
          "ename": "IndentationError",
          "evalue": "ignored",
          "traceback": [
            "\u001b[0;36m  File \u001b[0;32m\"<ipython-input-13-0685ce58285e>\"\u001b[0;36m, line \u001b[0;32m2\u001b[0m\n\u001b[0;31m    y=5 ## adding indentation\u001b[0m\n\u001b[0m    ^\u001b[0m\n\u001b[0;31mIndentationError\u001b[0m\u001b[0;31m:\u001b[0m unexpected indent\n"
          ]
        }
      ]
    },
    {
      "cell_type": "markdown",
      "metadata": {
        "id": "sgM-nJdhL62b"
      },
      "source": [
        "Python comments can be used for various reasons which may include\n",
        "1. explain the Python code.\n",
        "2. make the code more readable.\n",
        "3. prevent execution when testing code.\n",
        "\n",
        "To add a comment in the python code, start the line with the symbol #, and Python will ignore these lines."
      ]
    },
    {
      "cell_type": "code",
      "metadata": {
        "id": "CWZcJm1FM4Ww",
        "outputId": "0b1aa69d-fb2e-41cb-a22c-6181ca9ff5df",
        "colab": {
          "base_uri": "https://localhost:8080/",
          "height": 51
        }
      },
      "source": [
        "#This is a comment\n",
        "print(\"1 - Hello, World!\")\n",
        "\n",
        "print(\"2 - Hello, World!\") #This is a comment\n",
        "\n",
        "#print(\"3 - Hello, World!\") #This is a comment"
      ],
      "execution_count": null,
      "outputs": [
        {
          "output_type": "stream",
          "text": [
            "1 - Hello, World!\n",
            "2 - Hello, World!\n"
          ],
          "name": "stdout"
        }
      ]
    },
    {
      "cell_type": "markdown",
      "metadata": {
        "id": "yJSqgCybAec0"
      },
      "source": [
        "To add a multiline comment you could insert a ''' at the beginning of the multiline comment and ''' at the end of the multiline comment in separate lines."
      ]
    },
    {
      "cell_type": "code",
      "metadata": {
        "id": "JFpUogXQAe3O",
        "outputId": "0e53daec-ad62-4e1d-aafa-58601af7ef5f",
        "colab": {
          "base_uri": "https://localhost:8080/",
          "height": 34
        }
      },
      "source": [
        "'''\n",
        "This is a comment\n",
        "written in\n",
        "more than just one line\n",
        "'''\n",
        "print(\"Hello, World!\")"
      ],
      "execution_count": 1,
      "outputs": [
        {
          "output_type": "stream",
          "text": [
            "Hello, World!\n"
          ],
          "name": "stdout"
        }
      ]
    },
    {
      "cell_type": "markdown",
      "metadata": {
        "id": "K7olZlfLBX7x"
      },
      "source": [
        "# Python Data types and casting\n",
        "\n",
        "Variables can store data of different types, and different types can do different things. Python has the following major data types built-in by default, in these categories:\n",
        "\n",
        "1. Text Type:\tstr\n",
        "2. Numeric Types:\tint, float\n",
        "3. Sequence Types:\tlist, range, set\n",
        "4. Mapping Type:\tdict"
      ]
    },
    {
      "cell_type": "markdown",
      "metadata": {
        "id": "543Q0zATGIrg"
      },
      "source": [
        "**The String Data type**"
      ]
    },
    {
      "cell_type": "code",
      "metadata": {
        "id": "wCW4KujHF-T5",
        "outputId": "188384ef-947f-4fdf-ce09-2670a7b4bc86",
        "colab": {
          "base_uri": "https://localhost:8080/",
          "height": 51
        }
      },
      "source": [
        "## String Data type\n",
        "x = \"Hello World\"\n",
        "print (x) ## print the value of x \n",
        "print(type(x)) ## to print the data type "
      ],
      "execution_count": 33,
      "outputs": [
        {
          "output_type": "stream",
          "text": [
            "Hello World\n",
            "<class 'str'>\n"
          ],
          "name": "stdout"
        }
      ]
    },
    {
      "cell_type": "markdown",
      "metadata": {
        "id": "kO1-wgD6GFgb"
      },
      "source": [
        "**The Numaric Data type**"
      ]
    },
    {
      "cell_type": "code",
      "metadata": {
        "id": "qbjx9mUnB1fT",
        "outputId": "fae52102-659d-40b0-8622-1e0358e5adfe",
        "colab": {
          "base_uri": "https://localhost:8080/",
          "height": 85
        }
      },
      "source": [
        "## Numaric Data type\n",
        "x = 5 ## integer\n",
        "print (x) ## print the value of x \n",
        "print(type(x)) ## to print the data type \n",
        "\n",
        "x = 5.0 ## float\n",
        "print (x) ## print the value of x \n",
        "print(type(x)) ## to print the data type "
      ],
      "execution_count": 34,
      "outputs": [
        {
          "output_type": "stream",
          "text": [
            "5\n",
            "<class 'int'>\n",
            "5.0\n",
            "<class 'float'>\n"
          ],
          "name": "stdout"
        }
      ]
    },
    {
      "cell_type": "markdown",
      "metadata": {
        "id": "Y5hCvHW2Fyqr"
      },
      "source": [
        "**The List Data type**"
      ]
    },
    {
      "cell_type": "code",
      "metadata": {
        "id": "RfW34U4bFzBR",
        "outputId": "ae2091b3-5203-4705-b4b4-4598804ae510",
        "colab": {
          "base_uri": "https://localhost:8080/",
          "height": 68
        }
      },
      "source": [
        "## List Data type\n",
        "x = [\"apple\", \"banana\", \"cherry\"]\n",
        "print (x) ## print the value of x \n",
        "print(type(x)) ## to print the data type \n",
        "print(x[0])"
      ],
      "execution_count": 35,
      "outputs": [
        {
          "output_type": "stream",
          "text": [
            "['apple', 'banana', 'cherry']\n",
            "<class 'list'>\n",
            "apple\n"
          ],
          "name": "stdout"
        }
      ]
    },
    {
      "cell_type": "markdown",
      "metadata": {
        "id": "R5eXeI-CFRsr"
      },
      "source": [
        "**The Range Data type**"
      ]
    },
    {
      "cell_type": "code",
      "metadata": {
        "id": "EABVKjbiFdv3",
        "outputId": "5df0842d-f89e-4969-8904-e65c7cbeda69",
        "colab": {
          "base_uri": "https://localhost:8080/",
          "height": 68
        }
      },
      "source": [
        "## Range Data type\n",
        "x = range(6)\n",
        "print (x) ## print the value of x \n",
        "print(type(x)) ## to print the data type \n",
        "print(x[3])"
      ],
      "execution_count": 39,
      "outputs": [
        {
          "output_type": "stream",
          "text": [
            "range(0, 6)\n",
            "<class 'range'>\n",
            "3\n"
          ],
          "name": "stdout"
        }
      ]
    },
    {
      "cell_type": "markdown",
      "metadata": {
        "id": "hoe6sV0UFI49"
      },
      "source": [
        "**The Set Data type**"
      ]
    },
    {
      "cell_type": "code",
      "metadata": {
        "id": "dk0nFS6_FAmS",
        "outputId": "9448e9a8-c3fc-4a7b-dcdc-411ba0c5cc66",
        "colab": {
          "base_uri": "https://localhost:8080/",
          "height": 85
        }
      },
      "source": [
        "## Set Data type\n",
        "x = {\"apple\", \"banana\", \"cherry\"}\n",
        "print (x) ## print the value of x \n",
        "print(type(x)) ## to print the data type \n",
        "\n",
        "x = {\"apple\",\"apple\", \"banana\", \"cherry\"}\n",
        "print (x) ## print the value of x \n",
        "print(type(x)) ## to print the data type"
      ],
      "execution_count": 37,
      "outputs": [
        {
          "output_type": "stream",
          "text": [
            "{'banana', 'cherry', 'apple'}\n",
            "<class 'set'>\n",
            "{'banana', 'cherry', 'apple'}\n",
            "<class 'set'>\n"
          ],
          "name": "stdout"
        }
      ]
    },
    {
      "cell_type": "markdown",
      "metadata": {
        "id": "YaZYDQvPFTeA"
      },
      "source": [
        "**The Dictionary Data type**"
      ]
    },
    {
      "cell_type": "code",
      "metadata": {
        "id": "JWVYXiPKEfeC",
        "outputId": "6f8a98e2-cf7a-4431-eaa6-6a0c3c3c41f0",
        "colab": {
          "base_uri": "https://localhost:8080/",
          "height": 102
        }
      },
      "source": [
        "## Dictionary Data type\n",
        "x = {\"name\" : \"John\", \"age\" : 36}\n",
        "print (x) ## print the value of x\n",
        "print (x['name'])\n",
        "print(type(x)) ## to print the data type \n",
        "print (x['name'])\n",
        "print (x['age'])"
      ],
      "execution_count": 29,
      "outputs": [
        {
          "output_type": "stream",
          "text": [
            "{'name': 'John', 'age': 36}\n",
            "John\n",
            "<class 'dict'>\n",
            "John\n",
            "36\n"
          ],
          "name": "stdout"
        }
      ]
    },
    {
      "cell_type": "markdown",
      "metadata": {
        "id": "a9qa546xCG2X"
      },
      "source": [
        "There may be times when you want to specify a type on to a variable. This can be done with casting such as the examples provided below"
      ]
    },
    {
      "cell_type": "code",
      "metadata": {
        "id": "f_9GVUP9GqJ8",
        "outputId": "a2ad913f-f15b-4a3d-ae2e-84edce869899",
        "colab": {
          "base_uri": "https://localhost:8080/",
          "height": 119
        }
      },
      "source": [
        "## The casting of an integer to a float\n",
        "x = 5 ## integer\n",
        "print (x) ## print the value of x \n",
        "print(type(x)) ## to print the data type \n",
        "\n",
        "y= float(x) ## Casting\n",
        "print (y) ## print the value of x \n",
        "print(type(y)) ## to print the data type  "
      ],
      "execution_count": 41,
      "outputs": [
        {
          "output_type": "stream",
          "text": [
            "5\n",
            "<class 'int'>\n",
            "5.0\n",
            "<class 'float'>\n",
            "5.0\n",
            "<class 'float'>\n"
          ],
          "name": "stdout"
        }
      ]
    },
    {
      "cell_type": "code",
      "metadata": {
        "id": "gmE3TxpAHKYV",
        "outputId": "f0277ea6-9bcd-4a1f-98ad-9e3288ca75a8",
        "colab": {
          "base_uri": "https://localhost:8080/",
          "height": 85
        }
      },
      "source": [
        "## The casting of a float to an integer\n",
        "x = 5.5 ## integer\n",
        "print (x) ## print the value of x \n",
        "print(type(x)) ## to print the data type \n",
        "\n",
        "y= int(x) ## Casting\n",
        "print (y) ## print the value of x \n",
        "print(type(y)) ## to print the data type  "
      ],
      "execution_count": 42,
      "outputs": [
        {
          "output_type": "stream",
          "text": [
            "5.5\n",
            "<class 'float'>\n",
            "5\n",
            "<class 'int'>\n"
          ],
          "name": "stdout"
        }
      ]
    },
    {
      "cell_type": "code",
      "metadata": {
        "id": "31U8boNiHRGy",
        "outputId": "0a1f432f-6165-4006-efcf-9c72ba006ac9",
        "colab": {
          "base_uri": "https://localhost:8080/",
          "height": 85
        }
      },
      "source": [
        "## The casting of a float to an string\n",
        "x = 5.5 ## integer\n",
        "print (x) ## print the value of x \n",
        "print(type(x)) ## to print the data type \n",
        "\n",
        "y= str(x) ## Casting\n",
        "print (y) ## print the value of x \n",
        "print(type(y)) ## to print the data type  "
      ],
      "execution_count": 43,
      "outputs": [
        {
          "output_type": "stream",
          "text": [
            "5.5\n",
            "<class 'float'>\n",
            "5.5\n",
            "<class 'str'>\n"
          ],
          "name": "stdout"
        }
      ]
    },
    {
      "cell_type": "markdown",
      "metadata": {
        "id": "tgeYPIeUICBF"
      },
      "source": [
        "# Python Boolean Values\n",
        "\n",
        "In programming you often need to know if an expression is True or False. You can evaluate any expression in Python, and get one of two answers, True or False. When you compare two values, the expression is evaluated and Python returns the Boolean answer."
      ]
    },
    {
      "cell_type": "code",
      "metadata": {
        "id": "rmESF5T7IMrz",
        "outputId": "436bd9f8-701b-4e3a-a590-36bdbaebe4a2",
        "colab": {
          "base_uri": "https://localhost:8080/",
          "height": 68
        }
      },
      "source": [
        "print(10 > 9)\n",
        "print(10 == 9)\n",
        "print(10 < 9)"
      ],
      "execution_count": 44,
      "outputs": [
        {
          "output_type": "stream",
          "text": [
            "True\n",
            "False\n",
            "False\n"
          ],
          "name": "stdout"
        }
      ]
    },
    {
      "cell_type": "markdown",
      "metadata": {
        "id": "L1dDEy9HJEtk"
      },
      "source": [
        "# Python Conditions and If statements\n",
        "Python supports the usual logical conditions from mathematics:\n",
        "1. Equals: a == b\n",
        "2. Not Equals: a != b\n",
        "3. Less than: a < b\n",
        "4. Less than or equal to: a <= b\n",
        "5. Greater than: a > b\n",
        "6. Greater than or equal to: a >= b\n",
        "These conditions can be used in several ways, most commonly in \"if statements\" and loops.\n",
        "\n",
        "An \"if statement\" is written by using the if keyword."
      ]
    },
    {
      "cell_type": "code",
      "metadata": {
        "id": "6Edj1lqIJKbG",
        "outputId": "db05a933-b68f-4cc2-b5a6-b500b24929bd",
        "colab": {
          "base_uri": "https://localhost:8080/",
          "height": 34
        }
      },
      "source": [
        "a = 33\n",
        "b = 200\n",
        "if b > a:\n",
        "  print(\"b is greater than a\")"
      ],
      "execution_count": 47,
      "outputs": [
        {
          "output_type": "stream",
          "text": [
            "b is greater than a\n"
          ],
          "name": "stdout"
        }
      ]
    },
    {
      "cell_type": "markdown",
      "metadata": {
        "id": "75AX6pBFJeSX"
      },
      "source": [
        "Notice that Python relies on indentation (whitespace at the beginning of a line) to define the scope in the code as in the case of the if statement above."
      ]
    },
    {
      "cell_type": "code",
      "metadata": {
        "id": "xck-AyJXJ9JV",
        "outputId": "6700be0f-a0c9-4693-b817-489148837ce6",
        "colab": {
          "base_uri": "https://localhost:8080/",
          "height": 130
        }
      },
      "source": [
        "a = 33\n",
        "b = 200\n",
        "if b > a:\n",
        "print(\"b is greater than a\")"
      ],
      "execution_count": 46,
      "outputs": [
        {
          "output_type": "error",
          "ename": "IndentationError",
          "evalue": "ignored",
          "traceback": [
            "\u001b[0;36m  File \u001b[0;32m\"<ipython-input-46-9000bb591814>\"\u001b[0;36m, line \u001b[0;32m4\u001b[0m\n\u001b[0;31m    print(\"b is greater than a\")\u001b[0m\n\u001b[0m        ^\u001b[0m\n\u001b[0;31mIndentationError\u001b[0m\u001b[0;31m:\u001b[0m expected an indented block\n"
          ]
        }
      ]
    },
    {
      "cell_type": "markdown",
      "metadata": {
        "id": "3txSZsX8Lvat"
      },
      "source": [
        "The else keyword in a for loop specifies a block of code to be executed when the loop is finished."
      ]
    },
    {
      "cell_type": "code",
      "metadata": {
        "id": "_K8xhcc7L0LE",
        "outputId": "cd7c7dfa-c723-4e87-f682-23db06f37659",
        "colab": {
          "base_uri": "https://localhost:8080/",
          "height": 34
        }
      },
      "source": [
        "a = 330\n",
        "b = 200\n",
        "if b > a:\n",
        "  print(\"b is greater than a\")\n",
        "else:\n",
        "  print(\"a is greater than b\")"
      ],
      "execution_count": 55,
      "outputs": [
        {
          "output_type": "stream",
          "text": [
            "a is greater than b\n"
          ],
          "name": "stdout"
        }
      ]
    },
    {
      "cell_type": "markdown",
      "metadata": {
        "id": "k3S_Y7AIKF_k"
      },
      "source": [
        "# Python For Loops\n",
        "A for loop is used for iterating over a sequence (that is either a list, a dictionary, a set, or a string). With the for loop we can execute a set of statements, once for each item in a list, tuple, set etc."
      ]
    },
    {
      "cell_type": "code",
      "metadata": {
        "id": "3gmsHMV2KUqB",
        "outputId": "20584dc0-bb69-478b-e472-d5bdf48a06f0",
        "colab": {
          "base_uri": "https://localhost:8080/",
          "height": 68
        }
      },
      "source": [
        "## Example 1: Iterate over a list\n",
        "fruits = [\"apple\", \"banana\", \"cherry\"]\n",
        "for x in fruits:\n",
        "  print(x)"
      ],
      "execution_count": 48,
      "outputs": [
        {
          "output_type": "stream",
          "text": [
            "apple\n",
            "banana\n",
            "cherry\n"
          ],
          "name": "stdout"
        }
      ]
    },
    {
      "cell_type": "code",
      "metadata": {
        "id": "plIhXTP1Kb-0"
      },
      "source": [
        "## Example 2: Iterate over a string\n",
        "for x in \"banana\":\n",
        "  print(x)"
      ],
      "execution_count": null,
      "outputs": []
    },
    {
      "cell_type": "markdown",
      "metadata": {
        "id": "yKiRDO25KoXm"
      },
      "source": [
        "With the **break statement**, we can stop the loop before it has looped through all the items:"
      ]
    },
    {
      "cell_type": "code",
      "metadata": {
        "id": "cd1Xm6hNKs5e",
        "outputId": "c6369513-0ee2-4084-8928-653c0748d300",
        "colab": {
          "base_uri": "https://localhost:8080/",
          "height": 51
        }
      },
      "source": [
        "## Example #1 using the break statement\n",
        "fruits = [\"apple\", \"banana\", \"cherry\"]\n",
        "for x in fruits:\n",
        "  print(x)\n",
        "  if x == \"banana\":\n",
        "    break"
      ],
      "execution_count": 50,
      "outputs": [
        {
          "output_type": "stream",
          "text": [
            "apple\n",
            "banana\n"
          ],
          "name": "stdout"
        }
      ]
    },
    {
      "cell_type": "code",
      "metadata": {
        "id": "iUNCBh2DKyHF"
      },
      "source": [
        "## Example #2 using the break statement\n",
        "fruits = [\"apple\", \"banana\", \"cherry\"]\n",
        "for x in fruits:\n",
        "  if x == \"banana\":\n",
        "    break\n",
        "  print(x)"
      ],
      "execution_count": null,
      "outputs": []
    },
    {
      "cell_type": "markdown",
      "metadata": {
        "id": "Uktf1GnKLKSE"
      },
      "source": [
        "With the **continue statement** we can stop the current iteration of the loop, and continue with the next:"
      ]
    },
    {
      "cell_type": "code",
      "metadata": {
        "id": "3evEECPCLOaE",
        "outputId": "3e13d6ae-ccdb-4c9c-d2c8-101c48ec122e",
        "colab": {
          "base_uri": "https://localhost:8080/",
          "height": 51
        }
      },
      "source": [
        "## Example using the continue statement\n",
        "fruits = [\"apple\", \"banana\", \"cherry\"]\n",
        "for x in fruits:\n",
        "  if x == \"banana\":\n",
        "    continue\n",
        "  print(x)"
      ],
      "execution_count": 51,
      "outputs": [
        {
          "output_type": "stream",
          "text": [
            "apple\n",
            "cherry\n"
          ],
          "name": "stdout"
        }
      ]
    },
    {
      "cell_type": "markdown",
      "metadata": {
        "id": "1RHLtwb6Lbo9"
      },
      "source": [
        "To loop through a set of code a specified number of times, we can use the **range() function**. The range() function returns a sequence of numbers, starting from 0 by default, and increments by 1 (by default), and ends at a specified number."
      ]
    },
    {
      "cell_type": "code",
      "metadata": {
        "id": "40mpScyfLc3I",
        "outputId": "aedc5f47-c741-4abd-a241-1d9f8977b375",
        "colab": {
          "base_uri": "https://localhost:8080/",
          "height": 119
        }
      },
      "source": [
        "for x in range(6):\n",
        "  print(x)"
      ],
      "execution_count": 52,
      "outputs": [
        {
          "output_type": "stream",
          "text": [
            "0\n",
            "1\n",
            "2\n",
            "3\n",
            "4\n",
            "5\n"
          ],
          "name": "stdout"
        }
      ]
    },
    {
      "cell_type": "markdown",
      "metadata": {
        "id": "E6scG8QEMHaX"
      },
      "source": [
        "A nested loop is a loop inside a loop. The \"inner loop\" will be executed one time for each iteration of the \"outer loop\"."
      ]
    },
    {
      "cell_type": "code",
      "metadata": {
        "id": "FZ6hsTQDMJ6K",
        "outputId": "841b78e4-055f-4ae0-fabf-8c8756095b72",
        "colab": {
          "base_uri": "https://localhost:8080/",
          "height": 170
        }
      },
      "source": [
        "adj = [\"red\", \"big\", \"tasty\"]\n",
        "fruits = [\"apple\", \"banana\", \"cherry\"]\n",
        "\n",
        "for x in adj:\n",
        "  for y in fruits:\n",
        "    print(x, y)"
      ],
      "execution_count": 56,
      "outputs": [
        {
          "output_type": "stream",
          "text": [
            "red apple\n",
            "red banana\n",
            "red cherry\n",
            "big apple\n",
            "big banana\n",
            "big cherry\n",
            "tasty apple\n",
            "tasty banana\n",
            "tasty cherry\n"
          ],
          "name": "stdout"
        }
      ]
    },
    {
      "cell_type": "markdown",
      "metadata": {
        "id": "d5g6OoQGMTvN"
      },
      "source": [
        "# Python Functions\n",
        "A function is a block of code which only runs when it is called. You can pass data, known as parameters, into a function. A function can return data as a result."
      ]
    },
    {
      "cell_type": "markdown",
      "metadata": {
        "id": "Pb4d-FE8Mjce"
      },
      "source": [
        "To **creating a function** in python use the def keyword"
      ]
    },
    {
      "cell_type": "code",
      "metadata": {
        "id": "2St1YTt3Mfn_"
      },
      "source": [
        "def my_function():\n",
        "  print(\"Hello from a function\")"
      ],
      "execution_count": 57,
      "outputs": []
    },
    {
      "cell_type": "markdown",
      "metadata": {
        "id": "yjG3UpsVMwX6"
      },
      "source": [
        "To **call a function**, use the function name followed by parenthesis"
      ]
    },
    {
      "cell_type": "code",
      "metadata": {
        "id": "aH9eNWbWM4a7",
        "outputId": "2597127d-c847-486b-fff5-f91a2173a1da",
        "colab": {
          "base_uri": "https://localhost:8080/",
          "height": 34
        }
      },
      "source": [
        "my_function()"
      ],
      "execution_count": 58,
      "outputs": [
        {
          "output_type": "stream",
          "text": [
            "Hello from a function\n"
          ],
          "name": "stdout"
        }
      ]
    },
    {
      "cell_type": "markdown",
      "metadata": {
        "id": "jfQ8qgSPNDAy"
      },
      "source": [
        "Information can be passed into functions as arguments. Arguments are specified after the function name, inside the parentheses. You can add as many arguments as you want, just separate them with a comma.\n",
        "\n",
        "The following example has a function with one argument (fname). When the function is called, we pass along a first name, which is used inside the function to print the full name."
      ]
    },
    {
      "cell_type": "code",
      "metadata": {
        "id": "cw-B6LEcMwy2",
        "outputId": "1816776f-3715-4fc7-d4be-bdcdd262d0a1",
        "colab": {
          "base_uri": "https://localhost:8080/",
          "height": 68
        }
      },
      "source": [
        "def my_function(fname):\n",
        "  print(fname + \" Refsnes\")\n",
        "\n",
        "my_function(\"Emil\")\n",
        "my_function(\"Tobias\")\n",
        "my_function(\"Linus\")"
      ],
      "execution_count": 59,
      "outputs": [
        {
          "output_type": "stream",
          "text": [
            "Emil Refsnes\n",
            "Tobias Refsnes\n",
            "Linus Refsnes\n"
          ],
          "name": "stdout"
        }
      ]
    },
    {
      "cell_type": "markdown",
      "metadata": {
        "id": "CcWmCy70Nbnx"
      },
      "source": [
        "A **default value** can be set for the function arguments. If we call the function without an argument, it uses the default value."
      ]
    },
    {
      "cell_type": "code",
      "metadata": {
        "id": "RpdxQqxZNqSJ",
        "outputId": "42a3aadf-89d5-4fe6-99b9-f1c08616c009",
        "colab": {
          "base_uri": "https://localhost:8080/",
          "height": 85
        }
      },
      "source": [
        "def my_function(country = \"Norway\"):\n",
        "  print(\"I am from \" + country)\n",
        "\n",
        "my_function(\"Sweden\")\n",
        "my_function(\"India\")\n",
        "my_function()\n",
        "my_function(\"Brazil\")"
      ],
      "execution_count": 60,
      "outputs": [
        {
          "output_type": "stream",
          "text": [
            "I am from Sweden\n",
            "I am from India\n",
            "I am from Norway\n",
            "I am from Brazil\n"
          ],
          "name": "stdout"
        }
      ]
    },
    {
      "cell_type": "markdown",
      "metadata": {
        "id": "EZAQO3boNzKw"
      },
      "source": [
        "To let a function **return a value**, use the return statement."
      ]
    },
    {
      "cell_type": "code",
      "metadata": {
        "id": "QGmYSF2VN-sh",
        "outputId": "7aa62071-118c-4d07-b707-8e4dcd58ec74",
        "colab": {
          "base_uri": "https://localhost:8080/",
          "height": 68
        }
      },
      "source": [
        "def my_function(x):\n",
        "  return 5 * x\n",
        "\n",
        "print(my_function(3))\n",
        "print(my_function(5))\n",
        "print(my_function(9))"
      ],
      "execution_count": 61,
      "outputs": [
        {
          "output_type": "stream",
          "text": [
            "15\n",
            "25\n",
            "45\n"
          ],
          "name": "stdout"
        }
      ]
    },
    {
      "cell_type": "markdown",
      "metadata": {
        "id": "JdD5ccdBHYtp"
      },
      "source": [
        "# References\n",
        "\n",
        "The text and exercises of this notebook are selected from the python tutorial at w3schools.com."
      ]
    }
  ]
}
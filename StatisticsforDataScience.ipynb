{
  "nbformat": 4,
  "nbformat_minor": 0,
  "metadata": {
    "colab": {
      "name": "StatisticsforDataScience.ipynb",
      "provenance": [],
      "collapsed_sections": [],
      "toc_visible": true,
      "authorship_tag": "ABX9TyPE+cKNW6sekjSgxn5PCGLW",
      "include_colab_link": true
    },
    "kernelspec": {
      "name": "python3",
      "display_name": "Python 3"
    }
  },
  "cells": [
    {
      "cell_type": "markdown",
      "metadata": {
        "id": "view-in-github",
        "colab_type": "text"
      },
      "source": [
        "<a href=\"https://colab.research.google.com/github/mkjubran/IntroToPython-NonIT/blob/main/StatisticsforDataScience.ipynb\" target=\"_parent\"><img src=\"https://colab.research.google.com/assets/colab-badge.svg\" alt=\"Open In Colab\"/></a>"
      ]
    },
    {
      "cell_type": "markdown",
      "metadata": {
        "id": "dV2V4JBJvSKS"
      },
      "source": [
        "# Statistics for Data Science\n",
        "By the end of this tutorial, you will be able to:\n",
        "\n",
        "-       Compute statistical parameters for specific data"
      ]
    },
    {
      "cell_type": "markdown",
      "metadata": {
        "id": "EL-byoYVKzD6"
      },
      "source": [
        "# Pandas DataFrames"
      ]
    },
    {
      "cell_type": "markdown",
      "metadata": {
        "id": "hCVxetA2H3UG"
      },
      "source": [
        "Pandas is a high-level data manipulation tool. Its key data structure is called the DataFrame. DataFrames allow you to store and manipulate tabular data in rows of observations and collumns of variables.\n",
        "\n",
        "Let us start this tutorial by importing the pandas library."
      ]
    },
    {
      "cell_type": "code",
      "metadata": {
        "id": "kJqie325uGXr"
      },
      "source": [
        "## importing the pandas library\n",
        "import pandas as pd"
      ],
      "execution_count": 4,
      "outputs": []
    },
    {
      "cell_type": "markdown",
      "metadata": {
        "id": "p_VKL3fOIGms"
      },
      "source": [
        "We also need to clone some files to be used in the tutorial."
      ]
    },
    {
      "cell_type": "code",
      "metadata": {
        "id": "f6nNum2ACbis",
        "colab": {
          "base_uri": "https://localhost:8080/"
        },
        "outputId": "87e13ec8-d0be-4ccb-c267-217e8e0bb6b4"
      },
      "source": [
        "!rm -rf ./MachineLearning\n",
        "!git clone https://github.com/mkjubran/MachineLearning.git"
      ],
      "execution_count": 223,
      "outputs": [
        {
          "output_type": "stream",
          "text": [
            "Cloning into 'MachineLearning'...\n",
            "remote: Enumerating objects: 15, done.\u001b[K\n",
            "remote: Counting objects:   6% (1/15)\u001b[K\rremote: Counting objects:  13% (2/15)\u001b[K\rremote: Counting objects:  20% (3/15)\u001b[K\rremote: Counting objects:  26% (4/15)\u001b[K\rremote: Counting objects:  33% (5/15)\u001b[K\rremote: Counting objects:  40% (6/15)\u001b[K\rremote: Counting objects:  46% (7/15)\u001b[K\rremote: Counting objects:  53% (8/15)\u001b[K\rremote: Counting objects:  60% (9/15)\u001b[K\rremote: Counting objects:  66% (10/15)\u001b[K\rremote: Counting objects:  73% (11/15)\u001b[K\rremote: Counting objects:  80% (12/15)\u001b[K\rremote: Counting objects:  86% (13/15)\u001b[K\rremote: Counting objects:  93% (14/15)\u001b[K\rremote: Counting objects: 100% (15/15)\u001b[K\rremote: Counting objects: 100% (15/15), done.\u001b[K\n",
            "remote: Compressing objects: 100% (13/13), done.\u001b[K\n",
            "remote: Total 265 (delta 5), reused 12 (delta 2), pack-reused 250\u001b[K\n",
            "Receiving objects: 100% (265/265), 72.83 MiB | 28.38 MiB/s, done.\n",
            "Resolving deltas: 100% (120/120), done.\n"
          ],
          "name": "stdout"
        }
      ]
    },
    {
      "cell_type": "markdown",
      "metadata": {
        "id": "TcHf5S9us6H-"
      },
      "source": [
        "# Descriptive Statistics"
      ]
    },
    {
      "cell_type": "markdown",
      "metadata": {
        "id": "YKDKY5d7rkGz"
      },
      "source": [
        "**Mean**: The mean value is the average value. Pandas dataframe.mean() function return the mean of the values for the requested axis."
      ]
    },
    {
      "cell_type": "markdown",
      "metadata": {
        "id": "HZqo2Id_ciFL"
      },
      "source": [
        "**Median**: Pandas dataframe.median() function return the median of the values for the requested axis"
      ]
    },
    {
      "cell_type": "markdown",
      "metadata": {
        "id": "aUDFDN_VboYP"
      },
      "source": [
        "**Mode**: The mode of a set of values is the value that appears most often. It can be multiple values. The Dataframe.mode() function is used to get the mode(s) of each element along the selected axis. It can be multiple values."
      ]
    },
    {
      "cell_type": "markdown",
      "metadata": {
        "id": "PLzd7MM1IZL8"
      },
      "source": [
        "In the previous tutorial we read the \"carprices.csv\" file that was cloned using the commands in section \"Pandas DataFrames\". This \"cars.csv\" file is stored and can be read using pd.read_csv."
      ]
    },
    {
      "cell_type": "code",
      "metadata": {
        "id": "-syLi9jMIaEQ",
        "colab": {
          "base_uri": "https://localhost:8080/",
          "height": 483
        },
        "outputId": "bc6b95d2-315a-4316-8689-f0525145f47e"
      },
      "source": [
        "# Import the cars.csv data: cars\n",
        "cars = pd.read_csv(\"./MachineLearning/1_Regression/carprices.csv\",index_col=0)\n",
        "\n",
        "# Print out cars\n",
        "cars"
      ],
      "execution_count": 179,
      "outputs": [
        {
          "output_type": "execute_result",
          "data": {
            "text/html": [
              "<div>\n",
              "<style scoped>\n",
              "    .dataframe tbody tr th:only-of-type {\n",
              "        vertical-align: middle;\n",
              "    }\n",
              "\n",
              "    .dataframe tbody tr th {\n",
              "        vertical-align: top;\n",
              "    }\n",
              "\n",
              "    .dataframe thead th {\n",
              "        text-align: right;\n",
              "    }\n",
              "</style>\n",
              "<table border=\"1\" class=\"dataframe\">\n",
              "  <thead>\n",
              "    <tr style=\"text-align: right;\">\n",
              "      <th></th>\n",
              "      <th>Mileage</th>\n",
              "      <th>Sell Price($)</th>\n",
              "      <th>Age(yrs)</th>\n",
              "    </tr>\n",
              "    <tr>\n",
              "      <th>Car Model</th>\n",
              "      <th></th>\n",
              "      <th></th>\n",
              "      <th></th>\n",
              "    </tr>\n",
              "  </thead>\n",
              "  <tbody>\n",
              "    <tr>\n",
              "      <th>BMW X5</th>\n",
              "      <td>69000</td>\n",
              "      <td>18000</td>\n",
              "      <td>6</td>\n",
              "    </tr>\n",
              "    <tr>\n",
              "      <th>BMW X5</th>\n",
              "      <td>35000</td>\n",
              "      <td>34000</td>\n",
              "      <td>3</td>\n",
              "    </tr>\n",
              "    <tr>\n",
              "      <th>BMW X5</th>\n",
              "      <td>57000</td>\n",
              "      <td>26100</td>\n",
              "      <td>5</td>\n",
              "    </tr>\n",
              "    <tr>\n",
              "      <th>BMW X5</th>\n",
              "      <td>22500</td>\n",
              "      <td>40000</td>\n",
              "      <td>2</td>\n",
              "    </tr>\n",
              "    <tr>\n",
              "      <th>BMW X5</th>\n",
              "      <td>46000</td>\n",
              "      <td>31500</td>\n",
              "      <td>4</td>\n",
              "    </tr>\n",
              "    <tr>\n",
              "      <th>Audi A5</th>\n",
              "      <td>59000</td>\n",
              "      <td>29400</td>\n",
              "      <td>5</td>\n",
              "    </tr>\n",
              "    <tr>\n",
              "      <th>Audi A5</th>\n",
              "      <td>52000</td>\n",
              "      <td>32000</td>\n",
              "      <td>5</td>\n",
              "    </tr>\n",
              "    <tr>\n",
              "      <th>Audi A5</th>\n",
              "      <td>72000</td>\n",
              "      <td>19300</td>\n",
              "      <td>6</td>\n",
              "    </tr>\n",
              "    <tr>\n",
              "      <th>Audi A5</th>\n",
              "      <td>91000</td>\n",
              "      <td>12000</td>\n",
              "      <td>8</td>\n",
              "    </tr>\n",
              "    <tr>\n",
              "      <th>Mercedez Benz C class</th>\n",
              "      <td>67000</td>\n",
              "      <td>22000</td>\n",
              "      <td>6</td>\n",
              "    </tr>\n",
              "    <tr>\n",
              "      <th>Mercedez Benz C class</th>\n",
              "      <td>83000</td>\n",
              "      <td>20000</td>\n",
              "      <td>7</td>\n",
              "    </tr>\n",
              "    <tr>\n",
              "      <th>Mercedez Benz C class</th>\n",
              "      <td>79000</td>\n",
              "      <td>21000</td>\n",
              "      <td>7</td>\n",
              "    </tr>\n",
              "    <tr>\n",
              "      <th>Mercedez Benz C class</th>\n",
              "      <td>59000</td>\n",
              "      <td>33000</td>\n",
              "      <td>5</td>\n",
              "    </tr>\n",
              "  </tbody>\n",
              "</table>\n",
              "</div>"
            ],
            "text/plain": [
              "                       Mileage  Sell Price($)  Age(yrs)\n",
              "Car Model                                              \n",
              "BMW X5                   69000          18000         6\n",
              "BMW X5                   35000          34000         3\n",
              "BMW X5                   57000          26100         5\n",
              "BMW X5                   22500          40000         2\n",
              "BMW X5                   46000          31500         4\n",
              "Audi A5                  59000          29400         5\n",
              "Audi A5                  52000          32000         5\n",
              "Audi A5                  72000          19300         6\n",
              "Audi A5                  91000          12000         8\n",
              "Mercedez Benz C class    67000          22000         6\n",
              "Mercedez Benz C class    83000          20000         7\n",
              "Mercedez Benz C class    79000          21000         7\n",
              "Mercedez Benz C class    59000          33000         5"
            ]
          },
          "metadata": {
            "tags": []
          },
          "execution_count": 179
        }
      ]
    },
    {
      "cell_type": "markdown",
      "metadata": {
        "id": "zkoMQ18h_RiH"
      },
      "source": [
        "Notice that the **Car Model** is the index collumn"
      ]
    },
    {
      "cell_type": "markdown",
      "metadata": {
        "id": "8OgpEAqLggEE"
      },
      "source": [
        "Let us try to get some statistics about the DataFrame. For this we will use the DataFrame.describe() function"
      ]
    },
    {
      "cell_type": "code",
      "metadata": {
        "colab": {
          "base_uri": "https://localhost:8080/",
          "height": 297
        },
        "id": "kdI98arpghh3",
        "outputId": "abc6dd2a-830b-4346-c694-a7d1e66fd100"
      },
      "source": [
        "cars.describe()"
      ],
      "execution_count": 290,
      "outputs": [
        {
          "output_type": "execute_result",
          "data": {
            "text/html": [
              "<div>\n",
              "<style scoped>\n",
              "    .dataframe tbody tr th:only-of-type {\n",
              "        vertical-align: middle;\n",
              "    }\n",
              "\n",
              "    .dataframe tbody tr th {\n",
              "        vertical-align: top;\n",
              "    }\n",
              "\n",
              "    .dataframe thead th {\n",
              "        text-align: right;\n",
              "    }\n",
              "</style>\n",
              "<table border=\"1\" class=\"dataframe\">\n",
              "  <thead>\n",
              "    <tr style=\"text-align: right;\">\n",
              "      <th></th>\n",
              "      <th>Mileage</th>\n",
              "      <th>Sell Price($)</th>\n",
              "      <th>Age(yrs)</th>\n",
              "    </tr>\n",
              "  </thead>\n",
              "  <tbody>\n",
              "    <tr>\n",
              "      <th>count</th>\n",
              "      <td>12.000000</td>\n",
              "      <td>11.000000</td>\n",
              "      <td>13.000000</td>\n",
              "    </tr>\n",
              "    <tr>\n",
              "      <th>mean</th>\n",
              "      <td>61625.000000</td>\n",
              "      <td>25118.181818</td>\n",
              "      <td>5.307692</td>\n",
              "    </tr>\n",
              "    <tr>\n",
              "      <th>std</th>\n",
              "      <td>19843.850662</td>\n",
              "      <td>7403.758259</td>\n",
              "      <td>1.652504</td>\n",
              "    </tr>\n",
              "    <tr>\n",
              "      <th>min</th>\n",
              "      <td>22500.000000</td>\n",
              "      <td>12000.000000</td>\n",
              "      <td>2.000000</td>\n",
              "    </tr>\n",
              "    <tr>\n",
              "      <th>25%</th>\n",
              "      <td>54250.000000</td>\n",
              "      <td>19650.000000</td>\n",
              "      <td>5.000000</td>\n",
              "    </tr>\n",
              "    <tr>\n",
              "      <th>50%</th>\n",
              "      <td>63000.000000</td>\n",
              "      <td>26100.000000</td>\n",
              "      <td>5.000000</td>\n",
              "    </tr>\n",
              "    <tr>\n",
              "      <th>75%</th>\n",
              "      <td>73750.000000</td>\n",
              "      <td>31750.000000</td>\n",
              "      <td>6.000000</td>\n",
              "    </tr>\n",
              "    <tr>\n",
              "      <th>max</th>\n",
              "      <td>91000.000000</td>\n",
              "      <td>34000.000000</td>\n",
              "      <td>8.000000</td>\n",
              "    </tr>\n",
              "  </tbody>\n",
              "</table>\n",
              "</div>"
            ],
            "text/plain": [
              "            Mileage  Sell Price($)   Age(yrs)\n",
              "count     12.000000      11.000000  13.000000\n",
              "mean   61625.000000   25118.181818   5.307692\n",
              "std    19843.850662    7403.758259   1.652504\n",
              "min    22500.000000   12000.000000   2.000000\n",
              "25%    54250.000000   19650.000000   5.000000\n",
              "50%    63000.000000   26100.000000   5.000000\n",
              "75%    73750.000000   31750.000000   6.000000\n",
              "max    91000.000000   34000.000000   8.000000"
            ]
          },
          "metadata": {
            "tags": []
          },
          "execution_count": 290
        }
      ]
    },
    {
      "cell_type": "markdown",
      "metadata": {
        "id": "sx_ay0x7cxP8"
      },
      "source": [
        "For the rest of this tutorial, we will do examples on the DataFrame.mean() function. However, the same can be applied to the median, mode, min, max, count, and standard deviation. At the end you will be asked to do excercises on the median and mode."
      ]
    },
    {
      "cell_type": "markdown",
      "metadata": {
        "id": "zbSaCXBbwR-8"
      },
      "source": [
        "Let us try to apply the dataframe.mean() to the entire cars DataFrame."
      ]
    },
    {
      "cell_type": "code",
      "metadata": {
        "colab": {
          "base_uri": "https://localhost:8080/"
        },
        "id": "xsWW1l36wQA4",
        "outputId": "371dedd3-2c8a-4350-cafa-7d676d4da65f"
      },
      "source": [
        "cars.mean()"
      ],
      "execution_count": 190,
      "outputs": [
        {
          "output_type": "execute_result",
          "data": {
            "text/plain": [
              "Mileage          60884.615385\n",
              "Sell Price($)    26023.076923\n",
              "Age(yrs)             5.307692\n",
              "dtype: float64"
            ]
          },
          "metadata": {
            "tags": []
          },
          "execution_count": 190
        }
      ]
    },
    {
      "cell_type": "markdown",
      "metadata": {
        "id": "pOWiWiSwuJbl"
      },
      "source": [
        "Use the dataframe.mean() to compute the average **Sell Price($)** of the cars. "
      ]
    },
    {
      "cell_type": "code",
      "metadata": {
        "colab": {
          "base_uri": "https://localhost:8080/"
        },
        "id": "3lILqrf-uKe9",
        "outputId": "1c53dfdd-804d-496a-f452-28a98799f47f"
      },
      "source": [
        "#print(cars['Sell Price($)'])\n",
        "cars['Sell Price($)'].mean()"
      ],
      "execution_count": 191,
      "outputs": [
        {
          "output_type": "execute_result",
          "data": {
            "text/plain": [
              "26023.076923076922"
            ]
          },
          "metadata": {
            "tags": []
          },
          "execution_count": 191
        }
      ]
    },
    {
      "cell_type": "markdown",
      "metadata": {
        "id": "7Dyc-aYzuhx6"
      },
      "source": [
        "Let us also try to compute the average of the **Age(yrs)** in the cars DataFrame"
      ]
    },
    {
      "cell_type": "code",
      "metadata": {
        "colab": {
          "base_uri": "https://localhost:8080/"
        },
        "id": "97-6QRYfuuK6",
        "outputId": "b316a55b-5cbb-45fa-bbc1-56afed02629b"
      },
      "source": [
        "#print(cars['Age(yrs)'])\n",
        "cars['Age(yrs)'].mean()"
      ],
      "execution_count": 192,
      "outputs": [
        {
          "output_type": "execute_result",
          "data": {
            "text/plain": [
              "5.3076923076923075"
            ]
          },
          "metadata": {
            "tags": []
          },
          "execution_count": 192
        }
      ]
    },
    {
      "cell_type": "markdown",
      "metadata": {
        "id": "i5tGfzoc_8Dq"
      },
      "source": [
        "##Filter Data while 'Car Model' is an Index Collumn"
      ]
    },
    {
      "cell_type": "markdown",
      "metadata": {
        "id": "3VYTe89uwtrD"
      },
      "source": [
        "Let us try to apply the DataFrame.mean to Audi A5 cars only."
      ]
    },
    {
      "cell_type": "code",
      "metadata": {
        "colab": {
          "base_uri": "https://localhost:8080/"
        },
        "id": "7dcszKZJw25l",
        "outputId": "c32d5763-3ab2-4812-fec3-a0640c42b0ea"
      },
      "source": [
        "#print(cars.loc[['Audi A5']])\n",
        "cars.loc[['Audi A5']].mean()"
      ],
      "execution_count": 193,
      "outputs": [
        {
          "output_type": "execute_result",
          "data": {
            "text/plain": [
              "Mileage          68500.0\n",
              "Sell Price($)    23175.0\n",
              "Age(yrs)             6.0\n",
              "dtype: float64"
            ]
          },
          "metadata": {
            "tags": []
          },
          "execution_count": 193
        }
      ]
    },
    {
      "cell_type": "markdown",
      "metadata": {
        "id": "Qn-U_0S_uz5W"
      },
      "source": [
        "Let us compute the mean of the **Sell Price($)** of the **Audi A5** cars."
      ]
    },
    {
      "cell_type": "code",
      "metadata": {
        "colab": {
          "base_uri": "https://localhost:8080/"
        },
        "id": "DEZ-6t5dvSP2",
        "outputId": "0ae2eb97-d86d-42b7-f3e8-070a7a5a89e6"
      },
      "source": [
        "#print(cars.loc[['Audi A5']]['Sell Price($)'])\n",
        "cars.loc[['Audi A5']]['Sell Price($)'].mean()"
      ],
      "execution_count": 194,
      "outputs": [
        {
          "output_type": "execute_result",
          "data": {
            "text/plain": [
              "23175.0"
            ]
          },
          "metadata": {
            "tags": []
          },
          "execution_count": 194
        }
      ]
    },
    {
      "cell_type": "markdown",
      "metadata": {
        "id": "_zhhbU6txXas"
      },
      "source": [
        "To determine the total price of **Audi A5** cars"
      ]
    },
    {
      "cell_type": "code",
      "metadata": {
        "colab": {
          "base_uri": "https://localhost:8080/"
        },
        "id": "BFLCmc84xdeQ",
        "outputId": "df84dd9f-cc94-4421-8319-ffb4cfe05596"
      },
      "source": [
        "#print(cars.loc[['Audi A5']]['Sell Price($)'])\n",
        "cars.loc[['Audi A5']]['Sell Price($)'].sum()"
      ],
      "execution_count": 195,
      "outputs": [
        {
          "output_type": "execute_result",
          "data": {
            "text/plain": [
              "92700"
            ]
          },
          "metadata": {
            "tags": []
          },
          "execution_count": 195
        }
      ]
    },
    {
      "cell_type": "markdown",
      "metadata": {
        "id": "RcVmLrLtxhkv"
      },
      "source": [
        "To Determine the number of **Audi A5** cars"
      ]
    },
    {
      "cell_type": "code",
      "metadata": {
        "colab": {
          "base_uri": "https://localhost:8080/"
        },
        "id": "u33A4GKDxt6V",
        "outputId": "4dd2cd7b-9c5a-43aa-d840-4bc082cd036e"
      },
      "source": [
        "#print(cars.loc[['Audi A5']]['Sell Price($)'])\n",
        "len(cars.loc[['Audi A5']]['Sell Price($)'])"
      ],
      "execution_count": 196,
      "outputs": [
        {
          "output_type": "execute_result",
          "data": {
            "text/plain": [
              "4"
            ]
          },
          "metadata": {
            "tags": []
          },
          "execution_count": 196
        }
      ]
    },
    {
      "cell_type": "markdown",
      "metadata": {
        "id": "QwbvciJ7x9ok"
      },
      "source": [
        "Try to compute the mean by dividing the total price by the number of **Audi A5** cars. Is this value equal to the mean computed above? "
      ]
    },
    {
      "cell_type": "code",
      "metadata": {
        "colab": {
          "base_uri": "https://localhost:8080/"
        },
        "id": "keKMUZKhyItj",
        "outputId": "c9ed359b-45f9-4049-fb4e-0aaba4ea9bbf"
      },
      "source": [
        "#print(cars.loc[['Audi A5']]['Sell Price($)'])\n",
        "cars.loc[['Audi A5']]['Sell Price($)'].sum()/len(cars.loc[['Audi A5']]['Sell Price($)'])"
      ],
      "execution_count": 197,
      "outputs": [
        {
          "output_type": "execute_result",
          "data": {
            "text/plain": [
              "23175.0"
            ]
          },
          "metadata": {
            "tags": []
          },
          "execution_count": 197
        }
      ]
    },
    {
      "cell_type": "markdown",
      "metadata": {
        "id": "zxXXbhkDw60Z"
      },
      "source": [
        "Let us compute the mean of the **Sell Price($)** of the **Audi A5** and **BMW X5** cars."
      ]
    },
    {
      "cell_type": "code",
      "metadata": {
        "colab": {
          "base_uri": "https://localhost:8080/"
        },
        "id": "fCRSSp9axK8N",
        "outputId": "2a54e0c6-b1d6-4732-fe07-7def711fcb82"
      },
      "source": [
        "#print(cars.loc[['Audi A5','BMW X5']]['Sell Price($)'])\n",
        "cars.loc[['Audi A5','BMW X5']]['Sell Price($)'].mean()"
      ],
      "execution_count": 198,
      "outputs": [
        {
          "output_type": "execute_result",
          "data": {
            "text/plain": [
              "26922.222222222223"
            ]
          },
          "metadata": {
            "tags": []
          },
          "execution_count": 198
        }
      ]
    },
    {
      "cell_type": "markdown",
      "metadata": {
        "id": "S_Xi-j1Bzb9R"
      },
      "source": [
        "Let us also try to use the DataFrame.groupby to get the Average **Sell Price($)** of **Audi A5** cars"
      ]
    },
    {
      "cell_type": "code",
      "metadata": {
        "colab": {
          "base_uri": "https://localhost:8080/"
        },
        "id": "jm5AQnDvy6ls",
        "outputId": "5c1fe325-29e4-45d3-97bf-ca1966799a48"
      },
      "source": [
        "cars_grouped = cars.groupby('Car Model')\n",
        "#print(cars_grouped.get_group('Audi A5'))\n",
        "#print(cars_grouped.get_group('Audi A5')['Sell Price($)'])\n",
        "cars_grouped.get_group('Audi A5')['Sell Price($)'].mean()"
      ],
      "execution_count": 199,
      "outputs": [
        {
          "output_type": "execute_result",
          "data": {
            "text/plain": [
              "23175.0"
            ]
          },
          "metadata": {
            "tags": []
          },
          "execution_count": 199
        }
      ]
    },
    {
      "cell_type": "markdown",
      "metadata": {
        "id": "Q06dAb1DzzF9"
      },
      "source": [
        "Let us try to get the Average **Sell Price($)** of all cars with **Age(yrs)** less than 6 years"
      ]
    },
    {
      "cell_type": "code",
      "metadata": {
        "colab": {
          "base_uri": "https://localhost:8080/"
        },
        "id": "hy-iZvZ10BNj",
        "outputId": "5ec35f74-0582-4ffc-8bbc-cd37c7be4efd"
      },
      "source": [
        "#print(cars.loc[cars['Age(yrs)']<6])\n",
        "cars.loc[cars['Age(yrs)']<6]['Sell Price($)'].mean()"
      ],
      "execution_count": 200,
      "outputs": [
        {
          "output_type": "execute_result",
          "data": {
            "text/plain": [
              "32285.714285714286"
            ]
          },
          "metadata": {
            "tags": []
          },
          "execution_count": 200
        }
      ]
    },
    {
      "cell_type": "markdown",
      "metadata": {
        "id": "zU2pKEZE1pVs"
      },
      "source": [
        "Now, let us try to get the Average **Sell Price($)** of all cars with **Age(yrs)** less than 6 years using the DataFrame.where() method"
      ]
    },
    {
      "cell_type": "code",
      "metadata": {
        "colab": {
          "base_uri": "https://localhost:8080/"
        },
        "id": "nX7GVTzl1x3W",
        "outputId": "2d50341d-f2c0-4d38-8ab0-050467b0168a"
      },
      "source": [
        "filter = cars['Age(yrs)']<6\n",
        "#print(cars.where(filter))\n",
        "cars.where(filter)['Sell Price($)'].mean()"
      ],
      "execution_count": 201,
      "outputs": [
        {
          "output_type": "execute_result",
          "data": {
            "text/plain": [
              "32285.714285714286"
            ]
          },
          "metadata": {
            "tags": []
          },
          "execution_count": 201
        }
      ]
    },
    {
      "cell_type": "markdown",
      "metadata": {
        "id": "bYJ-sLdk9Y8Z"
      },
      "source": [
        "Now, let us try to get the Average **Sell Price($)** of all cars with **Age(yrs)** less than 6 years and **Mileage** less than 55000"
      ]
    },
    {
      "cell_type": "code",
      "metadata": {
        "colab": {
          "base_uri": "https://localhost:8080/"
        },
        "id": "2XjKY8TJ9jjT",
        "outputId": "f1beb561-202f-4860-a52d-2fa4c073bd49"
      },
      "source": [
        "filter1 = cars['Age(yrs)']<6\n",
        "filter2 = cars['Mileage'] < 55000\n",
        "#print(cars.where(filter1))\n",
        "#print(cars.where(filter2))\n",
        "#print(cars.where(filter1 & filter2))\n",
        "cars.where(filter1 & filter2)['Sell Price($)'].mean()"
      ],
      "execution_count": 202,
      "outputs": [
        {
          "output_type": "execute_result",
          "data": {
            "text/plain": [
              "34375.0"
            ]
          },
          "metadata": {
            "tags": []
          },
          "execution_count": 202
        }
      ]
    },
    {
      "cell_type": "markdown",
      "metadata": {
        "id": "0CKjdUJN20Hm"
      },
      "source": [
        "Now, let us try to get the Average **Sell Price($)** of **Audi A5** cars with **Age(yrs)** less than 6 years"
      ]
    },
    {
      "cell_type": "code",
      "metadata": {
        "colab": {
          "base_uri": "https://localhost:8080/"
        },
        "id": "0_46pyPqA3qW",
        "outputId": "cccbbad3-208f-4796-9623-aa724d3e97f1"
      },
      "source": [
        "## This code will not work because the \"Car Model\" is an index collumn\n",
        "CarsAudiA5 = cars.loc[['Audi A5']]\n",
        "#print(CarsAudiA5)\n",
        "filter1 = CarsAudiA5['Age(yrs)']<6\n",
        "#print(CarsAudiA5.where(filter1))\n",
        "CarsAudiA5.where(filter1)['Sell Price($)'].mean()"
      ],
      "execution_count": 203,
      "outputs": [
        {
          "output_type": "execute_result",
          "data": {
            "text/plain": [
              "30700.0"
            ]
          },
          "metadata": {
            "tags": []
          },
          "execution_count": 203
        }
      ]
    },
    {
      "cell_type": "markdown",
      "metadata": {
        "id": "2YiZjB948W2a"
      },
      "source": [
        "**This code will not work because the \"Car Model\" is an index collumn**"
      ]
    },
    {
      "cell_type": "code",
      "metadata": {
        "colab": {
          "base_uri": "https://localhost:8080/",
          "height": 562
        },
        "id": "-7h5O3CX7zbD",
        "outputId": "03d328f9-98c7-4f83-92a6-dbf20671d761"
      },
      "source": [
        "## This code will not work because the \"Car Model\" is an index collumn\n",
        "filter1 = cars['Car Model'] == 'Audi A5'\n",
        "filter2 = cars['Age(yrs)']<6\n",
        "print(cars.where(filter1 & filter2))\n",
        "cars.where(filter1 & filter2)['Sell Price($)'].mean()"
      ],
      "execution_count": 204,
      "outputs": [
        {
          "output_type": "error",
          "ename": "KeyError",
          "evalue": "ignored",
          "traceback": [
            "\u001b[0;31m---------------------------------------------------------------------------\u001b[0m",
            "\u001b[0;31mKeyError\u001b[0m                                  Traceback (most recent call last)",
            "\u001b[0;32m/usr/local/lib/python3.6/dist-packages/pandas/core/indexes/base.py\u001b[0m in \u001b[0;36mget_loc\u001b[0;34m(self, key, method, tolerance)\u001b[0m\n\u001b[1;32m   2894\u001b[0m             \u001b[0;32mtry\u001b[0m\u001b[0;34m:\u001b[0m\u001b[0;34m\u001b[0m\u001b[0;34m\u001b[0m\u001b[0m\n\u001b[0;32m-> 2895\u001b[0;31m                 \u001b[0;32mreturn\u001b[0m \u001b[0mself\u001b[0m\u001b[0;34m.\u001b[0m\u001b[0m_engine\u001b[0m\u001b[0;34m.\u001b[0m\u001b[0mget_loc\u001b[0m\u001b[0;34m(\u001b[0m\u001b[0mcasted_key\u001b[0m\u001b[0;34m)\u001b[0m\u001b[0;34m\u001b[0m\u001b[0;34m\u001b[0m\u001b[0m\n\u001b[0m\u001b[1;32m   2896\u001b[0m             \u001b[0;32mexcept\u001b[0m \u001b[0mKeyError\u001b[0m \u001b[0;32mas\u001b[0m \u001b[0merr\u001b[0m\u001b[0;34m:\u001b[0m\u001b[0;34m\u001b[0m\u001b[0;34m\u001b[0m\u001b[0m\n",
            "\u001b[0;32mpandas/_libs/index.pyx\u001b[0m in \u001b[0;36mpandas._libs.index.IndexEngine.get_loc\u001b[0;34m()\u001b[0m\n",
            "\u001b[0;32mpandas/_libs/index.pyx\u001b[0m in \u001b[0;36mpandas._libs.index.IndexEngine.get_loc\u001b[0;34m()\u001b[0m\n",
            "\u001b[0;32mpandas/_libs/hashtable_class_helper.pxi\u001b[0m in \u001b[0;36mpandas._libs.hashtable.PyObjectHashTable.get_item\u001b[0;34m()\u001b[0m\n",
            "\u001b[0;32mpandas/_libs/hashtable_class_helper.pxi\u001b[0m in \u001b[0;36mpandas._libs.hashtable.PyObjectHashTable.get_item\u001b[0;34m()\u001b[0m\n",
            "\u001b[0;31mKeyError\u001b[0m: 'Car Model'",
            "\nThe above exception was the direct cause of the following exception:\n",
            "\u001b[0;31mKeyError\u001b[0m                                  Traceback (most recent call last)",
            "\u001b[0;32m<ipython-input-204-b84c5ff909af>\u001b[0m in \u001b[0;36m<module>\u001b[0;34m()\u001b[0m\n\u001b[1;32m      1\u001b[0m \u001b[0;31m## This code will not work because the \"Car Model\" is an index column\u001b[0m\u001b[0;34m\u001b[0m\u001b[0;34m\u001b[0m\u001b[0;34m\u001b[0m\u001b[0m\n\u001b[0;32m----> 2\u001b[0;31m \u001b[0mfilter1\u001b[0m \u001b[0;34m=\u001b[0m \u001b[0mcars\u001b[0m\u001b[0;34m[\u001b[0m\u001b[0;34m'Car Model'\u001b[0m\u001b[0;34m]\u001b[0m \u001b[0;34m==\u001b[0m \u001b[0;34m'Audi A5'\u001b[0m\u001b[0;34m\u001b[0m\u001b[0;34m\u001b[0m\u001b[0m\n\u001b[0m\u001b[1;32m      3\u001b[0m \u001b[0mfilter2\u001b[0m \u001b[0;34m=\u001b[0m \u001b[0mcars\u001b[0m\u001b[0;34m[\u001b[0m\u001b[0;34m'Age(yrs)'\u001b[0m\u001b[0;34m]\u001b[0m\u001b[0;34m<\u001b[0m\u001b[0;36m6\u001b[0m\u001b[0;34m\u001b[0m\u001b[0;34m\u001b[0m\u001b[0m\n\u001b[1;32m      4\u001b[0m \u001b[0mprint\u001b[0m\u001b[0;34m(\u001b[0m\u001b[0mcars\u001b[0m\u001b[0;34m.\u001b[0m\u001b[0mwhere\u001b[0m\u001b[0;34m(\u001b[0m\u001b[0mfilter1\u001b[0m \u001b[0;34m&\u001b[0m \u001b[0mfilter2\u001b[0m\u001b[0;34m)\u001b[0m\u001b[0;34m)\u001b[0m\u001b[0;34m\u001b[0m\u001b[0;34m\u001b[0m\u001b[0m\n\u001b[1;32m      5\u001b[0m \u001b[0mcars\u001b[0m\u001b[0;34m.\u001b[0m\u001b[0mwhere\u001b[0m\u001b[0;34m(\u001b[0m\u001b[0mfilter1\u001b[0m \u001b[0;34m&\u001b[0m \u001b[0mfilter2\u001b[0m\u001b[0;34m)\u001b[0m\u001b[0;34m[\u001b[0m\u001b[0;34m'Sell Price($)'\u001b[0m\u001b[0;34m]\u001b[0m\u001b[0;34m.\u001b[0m\u001b[0mmean\u001b[0m\u001b[0;34m(\u001b[0m\u001b[0;34m)\u001b[0m\u001b[0;34m\u001b[0m\u001b[0;34m\u001b[0m\u001b[0m\n",
            "\u001b[0;32m/usr/local/lib/python3.6/dist-packages/pandas/core/frame.py\u001b[0m in \u001b[0;36m__getitem__\u001b[0;34m(self, key)\u001b[0m\n\u001b[1;32m   2904\u001b[0m             \u001b[0;32mif\u001b[0m \u001b[0mself\u001b[0m\u001b[0;34m.\u001b[0m\u001b[0mcolumns\u001b[0m\u001b[0;34m.\u001b[0m\u001b[0mnlevels\u001b[0m \u001b[0;34m>\u001b[0m \u001b[0;36m1\u001b[0m\u001b[0;34m:\u001b[0m\u001b[0;34m\u001b[0m\u001b[0;34m\u001b[0m\u001b[0m\n\u001b[1;32m   2905\u001b[0m                 \u001b[0;32mreturn\u001b[0m \u001b[0mself\u001b[0m\u001b[0;34m.\u001b[0m\u001b[0m_getitem_multilevel\u001b[0m\u001b[0;34m(\u001b[0m\u001b[0mkey\u001b[0m\u001b[0;34m)\u001b[0m\u001b[0;34m\u001b[0m\u001b[0;34m\u001b[0m\u001b[0m\n\u001b[0;32m-> 2906\u001b[0;31m             \u001b[0mindexer\u001b[0m \u001b[0;34m=\u001b[0m \u001b[0mself\u001b[0m\u001b[0;34m.\u001b[0m\u001b[0mcolumns\u001b[0m\u001b[0;34m.\u001b[0m\u001b[0mget_loc\u001b[0m\u001b[0;34m(\u001b[0m\u001b[0mkey\u001b[0m\u001b[0;34m)\u001b[0m\u001b[0;34m\u001b[0m\u001b[0;34m\u001b[0m\u001b[0m\n\u001b[0m\u001b[1;32m   2907\u001b[0m             \u001b[0;32mif\u001b[0m \u001b[0mis_integer\u001b[0m\u001b[0;34m(\u001b[0m\u001b[0mindexer\u001b[0m\u001b[0;34m)\u001b[0m\u001b[0;34m:\u001b[0m\u001b[0;34m\u001b[0m\u001b[0;34m\u001b[0m\u001b[0m\n\u001b[1;32m   2908\u001b[0m                 \u001b[0mindexer\u001b[0m \u001b[0;34m=\u001b[0m \u001b[0;34m[\u001b[0m\u001b[0mindexer\u001b[0m\u001b[0;34m]\u001b[0m\u001b[0;34m\u001b[0m\u001b[0;34m\u001b[0m\u001b[0m\n",
            "\u001b[0;32m/usr/local/lib/python3.6/dist-packages/pandas/core/indexes/base.py\u001b[0m in \u001b[0;36mget_loc\u001b[0;34m(self, key, method, tolerance)\u001b[0m\n\u001b[1;32m   2895\u001b[0m                 \u001b[0;32mreturn\u001b[0m \u001b[0mself\u001b[0m\u001b[0;34m.\u001b[0m\u001b[0m_engine\u001b[0m\u001b[0;34m.\u001b[0m\u001b[0mget_loc\u001b[0m\u001b[0;34m(\u001b[0m\u001b[0mcasted_key\u001b[0m\u001b[0;34m)\u001b[0m\u001b[0;34m\u001b[0m\u001b[0;34m\u001b[0m\u001b[0m\n\u001b[1;32m   2896\u001b[0m             \u001b[0;32mexcept\u001b[0m \u001b[0mKeyError\u001b[0m \u001b[0;32mas\u001b[0m \u001b[0merr\u001b[0m\u001b[0;34m:\u001b[0m\u001b[0;34m\u001b[0m\u001b[0;34m\u001b[0m\u001b[0m\n\u001b[0;32m-> 2897\u001b[0;31m                 \u001b[0;32mraise\u001b[0m \u001b[0mKeyError\u001b[0m\u001b[0;34m(\u001b[0m\u001b[0mkey\u001b[0m\u001b[0;34m)\u001b[0m \u001b[0;32mfrom\u001b[0m \u001b[0merr\u001b[0m\u001b[0;34m\u001b[0m\u001b[0;34m\u001b[0m\u001b[0m\n\u001b[0m\u001b[1;32m   2898\u001b[0m \u001b[0;34m\u001b[0m\u001b[0m\n\u001b[1;32m   2899\u001b[0m         \u001b[0;32mif\u001b[0m \u001b[0mtolerance\u001b[0m \u001b[0;32mis\u001b[0m \u001b[0;32mnot\u001b[0m \u001b[0;32mNone\u001b[0m\u001b[0;34m:\u001b[0m\u001b[0;34m\u001b[0m\u001b[0;34m\u001b[0m\u001b[0m\n",
            "\u001b[0;31mKeyError\u001b[0m: 'Car Model'"
          ]
        }
      ]
    },
    {
      "cell_type": "markdown",
      "metadata": {
        "id": "fBaQ2IdQAqTI"
      },
      "source": [
        "##Filter Data without 'Car Model' as an Index Collumn"
      ]
    },
    {
      "cell_type": "markdown",
      "metadata": {
        "id": "qSM4LTMVDUHH"
      },
      "source": [
        "Let us read the **cars.csv** wihtout specifying the index collumn"
      ]
    },
    {
      "cell_type": "code",
      "metadata": {
        "colab": {
          "base_uri": "https://localhost:8080/",
          "height": 452
        },
        "id": "F0Hiuh9TDHSP",
        "outputId": "b635fb0d-c421-4720-e43b-e02529cce3b9"
      },
      "source": [
        "# Import the cars.csv data: cars\n",
        "cars = pd.read_csv(\"./MachineLearning/1_Regression/carprices.csv\")\n",
        "\n",
        "# Print out cars\n",
        "cars"
      ],
      "execution_count": 206,
      "outputs": [
        {
          "output_type": "execute_result",
          "data": {
            "text/html": [
              "<div>\n",
              "<style scoped>\n",
              "    .dataframe tbody tr th:only-of-type {\n",
              "        vertical-align: middle;\n",
              "    }\n",
              "\n",
              "    .dataframe tbody tr th {\n",
              "        vertical-align: top;\n",
              "    }\n",
              "\n",
              "    .dataframe thead th {\n",
              "        text-align: right;\n",
              "    }\n",
              "</style>\n",
              "<table border=\"1\" class=\"dataframe\">\n",
              "  <thead>\n",
              "    <tr style=\"text-align: right;\">\n",
              "      <th></th>\n",
              "      <th>Car Model</th>\n",
              "      <th>Mileage</th>\n",
              "      <th>Sell Price($)</th>\n",
              "      <th>Age(yrs)</th>\n",
              "    </tr>\n",
              "  </thead>\n",
              "  <tbody>\n",
              "    <tr>\n",
              "      <th>0</th>\n",
              "      <td>BMW X5</td>\n",
              "      <td>69000</td>\n",
              "      <td>18000</td>\n",
              "      <td>6</td>\n",
              "    </tr>\n",
              "    <tr>\n",
              "      <th>1</th>\n",
              "      <td>BMW X5</td>\n",
              "      <td>35000</td>\n",
              "      <td>34000</td>\n",
              "      <td>3</td>\n",
              "    </tr>\n",
              "    <tr>\n",
              "      <th>2</th>\n",
              "      <td>BMW X5</td>\n",
              "      <td>57000</td>\n",
              "      <td>26100</td>\n",
              "      <td>5</td>\n",
              "    </tr>\n",
              "    <tr>\n",
              "      <th>3</th>\n",
              "      <td>BMW X5</td>\n",
              "      <td>22500</td>\n",
              "      <td>40000</td>\n",
              "      <td>2</td>\n",
              "    </tr>\n",
              "    <tr>\n",
              "      <th>4</th>\n",
              "      <td>BMW X5</td>\n",
              "      <td>46000</td>\n",
              "      <td>31500</td>\n",
              "      <td>4</td>\n",
              "    </tr>\n",
              "    <tr>\n",
              "      <th>5</th>\n",
              "      <td>Audi A5</td>\n",
              "      <td>59000</td>\n",
              "      <td>29400</td>\n",
              "      <td>5</td>\n",
              "    </tr>\n",
              "    <tr>\n",
              "      <th>6</th>\n",
              "      <td>Audi A5</td>\n",
              "      <td>52000</td>\n",
              "      <td>32000</td>\n",
              "      <td>5</td>\n",
              "    </tr>\n",
              "    <tr>\n",
              "      <th>7</th>\n",
              "      <td>Audi A5</td>\n",
              "      <td>72000</td>\n",
              "      <td>19300</td>\n",
              "      <td>6</td>\n",
              "    </tr>\n",
              "    <tr>\n",
              "      <th>8</th>\n",
              "      <td>Audi A5</td>\n",
              "      <td>91000</td>\n",
              "      <td>12000</td>\n",
              "      <td>8</td>\n",
              "    </tr>\n",
              "    <tr>\n",
              "      <th>9</th>\n",
              "      <td>Mercedez Benz C class</td>\n",
              "      <td>67000</td>\n",
              "      <td>22000</td>\n",
              "      <td>6</td>\n",
              "    </tr>\n",
              "    <tr>\n",
              "      <th>10</th>\n",
              "      <td>Mercedez Benz C class</td>\n",
              "      <td>83000</td>\n",
              "      <td>20000</td>\n",
              "      <td>7</td>\n",
              "    </tr>\n",
              "    <tr>\n",
              "      <th>11</th>\n",
              "      <td>Mercedez Benz C class</td>\n",
              "      <td>79000</td>\n",
              "      <td>21000</td>\n",
              "      <td>7</td>\n",
              "    </tr>\n",
              "    <tr>\n",
              "      <th>12</th>\n",
              "      <td>Mercedez Benz C class</td>\n",
              "      <td>59000</td>\n",
              "      <td>33000</td>\n",
              "      <td>5</td>\n",
              "    </tr>\n",
              "  </tbody>\n",
              "</table>\n",
              "</div>"
            ],
            "text/plain": [
              "                Car Model  Mileage  Sell Price($)  Age(yrs)\n",
              "0                  BMW X5    69000          18000         6\n",
              "1                  BMW X5    35000          34000         3\n",
              "2                  BMW X5    57000          26100         5\n",
              "3                  BMW X5    22500          40000         2\n",
              "4                  BMW X5    46000          31500         4\n",
              "5                 Audi A5    59000          29400         5\n",
              "6                 Audi A5    52000          32000         5\n",
              "7                 Audi A5    72000          19300         6\n",
              "8                 Audi A5    91000          12000         8\n",
              "9   Mercedez Benz C class    67000          22000         6\n",
              "10  Mercedez Benz C class    83000          20000         7\n",
              "11  Mercedez Benz C class    79000          21000         7\n",
              "12  Mercedez Benz C class    59000          33000         5"
            ]
          },
          "metadata": {
            "tags": []
          },
          "execution_count": 206
        }
      ]
    },
    {
      "cell_type": "markdown",
      "metadata": {
        "id": "T1PjPvDPCu8M"
      },
      "source": [
        "Let us try to apply the DataFrame.mean to **Audi A5** cars only. In here, **Car Model** is an an index collumn"
      ]
    },
    {
      "cell_type": "code",
      "metadata": {
        "colab": {
          "base_uri": "https://localhost:8080/"
        },
        "id": "8VhRw5gCDpYN",
        "outputId": "83a5b7ea-c604-4c31-8386-c40086a50418"
      },
      "source": [
        "#print(cars[['Audi A5']]) ## will give an error because 'Car Model' is not an index collumn\n",
        "\n",
        "filter=cars['Car Model']=='Audi A5'\n",
        "#print(cars[filter]) ## will work similar to the filter data method in the previous examples \n",
        "cars[filter].mean()"
      ],
      "execution_count": 211,
      "outputs": [
        {
          "output_type": "execute_result",
          "data": {
            "text/plain": [
              "Mileage          68500.0\n",
              "Sell Price($)    23175.0\n",
              "Age(yrs)             6.0\n",
              "dtype: float64"
            ]
          },
          "metadata": {
            "tags": []
          },
          "execution_count": 211
        }
      ]
    },
    {
      "cell_type": "markdown",
      "metadata": {
        "id": "VnJBe3SvEhRp"
      },
      "source": [
        "We could get the mean of **Sell Price($)** of Cars"
      ]
    },
    {
      "cell_type": "code",
      "metadata": {
        "colab": {
          "base_uri": "https://localhost:8080/"
        },
        "id": "BSqy86gGEqxD",
        "outputId": "b39ffbac-9166-440a-9c51-988a3ee13527"
      },
      "source": [
        "filter=cars['Car Model']=='Audi A5'\n",
        "#print(cars[filter]['Sell Price($)']) ## will work similar to the filter data method in the previous examples \n",
        "cars[filter]['Sell Price($)'].mean()"
      ],
      "execution_count": 212,
      "outputs": [
        {
          "output_type": "execute_result",
          "data": {
            "text/plain": [
              "23175.0"
            ]
          },
          "metadata": {
            "tags": []
          },
          "execution_count": 212
        }
      ]
    },
    {
      "cell_type": "markdown",
      "metadata": {
        "id": "IEYDrsq48Tmp"
      },
      "source": [
        "Now, let us try to get the Average **Sell Price($)** of **Audi A5** cars with **Age(yrs)** less than 6 years. For the following code to work, the **Car Model** should not be an index collumn."
      ]
    },
    {
      "cell_type": "code",
      "metadata": {
        "colab": {
          "base_uri": "https://localhost:8080/"
        },
        "id": "g0B7VkUY3LZD",
        "outputId": "ad469d65-2362-4b36-c95f-f8870584d207"
      },
      "source": [
        "filter1 = cars['Car Model'] == 'Audi A5'\n",
        "filter2 = cars['Age(yrs)']<6\n",
        "#print(cars.where(filter1 & filter2))\n",
        "cars.where(filter1 & filter2)['Sell Price($)'].mean()\n"
      ],
      "execution_count": 213,
      "outputs": [
        {
          "output_type": "execute_result",
          "data": {
            "text/plain": [
              "30700.0"
            ]
          },
          "metadata": {
            "tags": []
          },
          "execution_count": 213
        }
      ]
    },
    {
      "cell_type": "markdown",
      "metadata": {
        "id": "m7JfDwPaNnLz"
      },
      "source": [
        "## Check for NaN in Pandas DataFrame and replace it with the mean"
      ]
    },
    {
      "cell_type": "markdown",
      "metadata": {
        "id": "OOJhtBAhO1N4"
      },
      "source": [
        "A car prices database is stored in a .csv file in \"./MachineLearning/1_Regression/carprices_missing.csv\" file. This file contains some missing information. Let us first read and display the data in the .csv file. \\\\"
      ]
    },
    {
      "cell_type": "code",
      "metadata": {
        "colab": {
          "base_uri": "https://localhost:8080/",
          "height": 452
        },
        "id": "FQ2Qc4QrPndO",
        "outputId": "34c34f73-bf41-4c9e-f010-952162ae5573"
      },
      "source": [
        "# Import the cars.csv data: cars\n",
        "carsM = pd.read_csv(\"./MachineLearning/1_Regression/carprices_missing.csv\")\n",
        "\n",
        "# Print out cars\n",
        "carsM"
      ],
      "execution_count": 246,
      "outputs": [
        {
          "output_type": "execute_result",
          "data": {
            "text/html": [
              "<div>\n",
              "<style scoped>\n",
              "    .dataframe tbody tr th:only-of-type {\n",
              "        vertical-align: middle;\n",
              "    }\n",
              "\n",
              "    .dataframe tbody tr th {\n",
              "        vertical-align: top;\n",
              "    }\n",
              "\n",
              "    .dataframe thead th {\n",
              "        text-align: right;\n",
              "    }\n",
              "</style>\n",
              "<table border=\"1\" class=\"dataframe\">\n",
              "  <thead>\n",
              "    <tr style=\"text-align: right;\">\n",
              "      <th></th>\n",
              "      <th>Car Model</th>\n",
              "      <th>Mileage</th>\n",
              "      <th>Sell Price($)</th>\n",
              "      <th>Age(yrs)</th>\n",
              "    </tr>\n",
              "  </thead>\n",
              "  <tbody>\n",
              "    <tr>\n",
              "      <th>0</th>\n",
              "      <td>BMW X5</td>\n",
              "      <td>69000.0</td>\n",
              "      <td>18000.0</td>\n",
              "      <td>6</td>\n",
              "    </tr>\n",
              "    <tr>\n",
              "      <th>1</th>\n",
              "      <td>BMW X5</td>\n",
              "      <td>35000.0</td>\n",
              "      <td>34000.0</td>\n",
              "      <td>3</td>\n",
              "    </tr>\n",
              "    <tr>\n",
              "      <th>2</th>\n",
              "      <td>BMW X5</td>\n",
              "      <td>57000.0</td>\n",
              "      <td>26100.0</td>\n",
              "      <td>5</td>\n",
              "    </tr>\n",
              "    <tr>\n",
              "      <th>3</th>\n",
              "      <td>BMW X5</td>\n",
              "      <td>22500.0</td>\n",
              "      <td>NaN</td>\n",
              "      <td>2</td>\n",
              "    </tr>\n",
              "    <tr>\n",
              "      <th>4</th>\n",
              "      <td>BMW X5</td>\n",
              "      <td>46000.0</td>\n",
              "      <td>31500.0</td>\n",
              "      <td>4</td>\n",
              "    </tr>\n",
              "    <tr>\n",
              "      <th>5</th>\n",
              "      <td>Audi A5</td>\n",
              "      <td>59000.0</td>\n",
              "      <td>29400.0</td>\n",
              "      <td>5</td>\n",
              "    </tr>\n",
              "    <tr>\n",
              "      <th>6</th>\n",
              "      <td>Audi A5</td>\n",
              "      <td>NaN</td>\n",
              "      <td>32000.0</td>\n",
              "      <td>5</td>\n",
              "    </tr>\n",
              "    <tr>\n",
              "      <th>7</th>\n",
              "      <td>Audi A5</td>\n",
              "      <td>72000.0</td>\n",
              "      <td>19300.0</td>\n",
              "      <td>6</td>\n",
              "    </tr>\n",
              "    <tr>\n",
              "      <th>8</th>\n",
              "      <td>Audi A5</td>\n",
              "      <td>91000.0</td>\n",
              "      <td>12000.0</td>\n",
              "      <td>8</td>\n",
              "    </tr>\n",
              "    <tr>\n",
              "      <th>9</th>\n",
              "      <td>Mercedez Benz C class</td>\n",
              "      <td>67000.0</td>\n",
              "      <td>NaN</td>\n",
              "      <td>6</td>\n",
              "    </tr>\n",
              "    <tr>\n",
              "      <th>10</th>\n",
              "      <td>Mercedez Benz C class</td>\n",
              "      <td>83000.0</td>\n",
              "      <td>20000.0</td>\n",
              "      <td>7</td>\n",
              "    </tr>\n",
              "    <tr>\n",
              "      <th>11</th>\n",
              "      <td>Mercedez Benz C class</td>\n",
              "      <td>79000.0</td>\n",
              "      <td>21000.0</td>\n",
              "      <td>7</td>\n",
              "    </tr>\n",
              "    <tr>\n",
              "      <th>12</th>\n",
              "      <td>Mercedez Benz C class</td>\n",
              "      <td>59000.0</td>\n",
              "      <td>33000.0</td>\n",
              "      <td>5</td>\n",
              "    </tr>\n",
              "  </tbody>\n",
              "</table>\n",
              "</div>"
            ],
            "text/plain": [
              "                Car Model  Mileage  Sell Price($)  Age(yrs)\n",
              "0                  BMW X5  69000.0        18000.0         6\n",
              "1                  BMW X5  35000.0        34000.0         3\n",
              "2                  BMW X5  57000.0        26100.0         5\n",
              "3                  BMW X5  22500.0            NaN         2\n",
              "4                  BMW X5  46000.0        31500.0         4\n",
              "5                 Audi A5  59000.0        29400.0         5\n",
              "6                 Audi A5      NaN        32000.0         5\n",
              "7                 Audi A5  72000.0        19300.0         6\n",
              "8                 Audi A5  91000.0        12000.0         8\n",
              "9   Mercedez Benz C class  67000.0            NaN         6\n",
              "10  Mercedez Benz C class  83000.0        20000.0         7\n",
              "11  Mercedez Benz C class  79000.0        21000.0         7\n",
              "12  Mercedez Benz C class  59000.0        33000.0         5"
            ]
          },
          "metadata": {
            "tags": []
          },
          "execution_count": 246
        }
      ]
    },
    {
      "cell_type": "markdown",
      "metadata": {
        "id": "Z4xJSOjzNxZQ"
      },
      "source": [
        "To check if the DataFrame contains any NaN"
      ]
    },
    {
      "cell_type": "code",
      "metadata": {
        "colab": {
          "base_uri": "https://localhost:8080/"
        },
        "id": "t505xDXPN6XJ",
        "outputId": "35eeb087-7567-4f95-c72e-14839bd7892b"
      },
      "source": [
        "carsM.isnull().values.any()"
      ],
      "execution_count": 247,
      "outputs": [
        {
          "output_type": "execute_result",
          "data": {
            "text/plain": [
              "True"
            ]
          },
          "metadata": {
            "tags": []
          },
          "execution_count": 247
        }
      ]
    },
    {
      "cell_type": "markdown",
      "metadata": {
        "id": "fUpoIGLGQizR"
      },
      "source": [
        "Now, to check if **Car Model** has any NaN"
      ]
    },
    {
      "cell_type": "code",
      "metadata": {
        "colab": {
          "base_uri": "https://localhost:8080/"
        },
        "id": "ydk9yZD8Qvfq",
        "outputId": "9245d5bb-ff30-422d-d537-f4014e8cd132"
      },
      "source": [
        "carsM['Car Model'].isnull().values.any()"
      ],
      "execution_count": 248,
      "outputs": [
        {
          "output_type": "execute_result",
          "data": {
            "text/plain": [
              "False"
            ]
          },
          "metadata": {
            "tags": []
          },
          "execution_count": 248
        }
      ]
    },
    {
      "cell_type": "markdown",
      "metadata": {
        "id": "VuTq21a5Rpfe"
      },
      "source": [
        "Let us check which of the other collumns has NaN values"
      ]
    },
    {
      "cell_type": "code",
      "metadata": {
        "colab": {
          "base_uri": "https://localhost:8080/"
        },
        "id": "OjUz4Cn_Rx4J",
        "outputId": "f56f1453-677a-4104-cd62-7b04f26b1b63"
      },
      "source": [
        "print(carsM['Mileage'].isnull().values.any())\n",
        "print(carsM['Sell Price($)'].isnull().values.any())\n",
        "print(carsM['Age(yrs)'].isnull().values.any())\n"
      ],
      "execution_count": 251,
      "outputs": [
        {
          "output_type": "stream",
          "text": [
            "True\n",
            "True\n",
            "False\n"
          ],
          "name": "stdout"
        }
      ]
    },
    {
      "cell_type": "markdown",
      "metadata": {
        "id": "N1gz7vj_SH3g"
      },
      "source": [
        "Instead of checking every collumn, we will use the isnull.sum() method to determine the number of 'NaN' in each collumn."
      ]
    },
    {
      "cell_type": "code",
      "metadata": {
        "colab": {
          "base_uri": "https://localhost:8080/"
        },
        "id": "m4W6NzNMSMqW",
        "outputId": "231ba71c-0898-4d70-ac5c-d404f9ada025"
      },
      "source": [
        "carsM.isnull().sum()"
      ],
      "execution_count": 253,
      "outputs": [
        {
          "output_type": "execute_result",
          "data": {
            "text/plain": [
              "Car Model        0\n",
              "Mileage          1\n",
              "Sell Price($)    2\n",
              "Age(yrs)         0\n",
              "dtype: int64"
            ]
          },
          "metadata": {
            "tags": []
          },
          "execution_count": 253
        }
      ]
    },
    {
      "cell_type": "markdown",
      "metadata": {
        "id": "ewz_tsS-S8OU"
      },
      "source": [
        "### Droping rows with 'NaN' values"
      ]
    },
    {
      "cell_type": "markdown",
      "metadata": {
        "id": "XDIMad1LTEPm"
      },
      "source": [
        "To remove the 'NaN', you could drop the corresponding rows"
      ]
    },
    {
      "cell_type": "code",
      "metadata": {
        "colab": {
          "base_uri": "https://localhost:8080/"
        },
        "id": "yoslttEhTOod",
        "outputId": "7f5273fb-2a8b-45fa-8333-3876633dae12"
      },
      "source": [
        "print(carsM) \n",
        "print('-------------------------------------------------------------------')\n",
        "carsC=carsM.dropna()\n",
        "print(carsC)\n",
        "print('-------------------------------------------------------------------')\n",
        "carsC=carsC.reset_index(drop=True)\n",
        "print(carsC)"
      ],
      "execution_count": 279,
      "outputs": [
        {
          "output_type": "stream",
          "text": [
            "                Car Model  Mileage  Sell Price($)  Age(yrs)\n",
            "0                  BMW X5  69000.0        18000.0         6\n",
            "1                  BMW X5  35000.0        34000.0         3\n",
            "2                  BMW X5  57000.0        26100.0         5\n",
            "3                  BMW X5  22500.0            NaN         2\n",
            "4                  BMW X5  46000.0        31500.0         4\n",
            "5                 Audi A5  59000.0        29400.0         5\n",
            "6                 Audi A5      NaN        32000.0         5\n",
            "7                 Audi A5  72000.0        19300.0         6\n",
            "8                 Audi A5  91000.0        12000.0         8\n",
            "9   Mercedez Benz C class  67000.0            NaN         6\n",
            "10  Mercedez Benz C class  83000.0        20000.0         7\n",
            "11  Mercedez Benz C class  79000.0        21000.0         7\n",
            "12  Mercedez Benz C class  59000.0        33000.0         5\n",
            "-------------------------------------------------------------------\n",
            "                Car Model  Mileage  Sell Price($)  Age(yrs)\n",
            "0                  BMW X5  69000.0        18000.0         6\n",
            "1                  BMW X5  35000.0        34000.0         3\n",
            "2                  BMW X5  57000.0        26100.0         5\n",
            "4                  BMW X5  46000.0        31500.0         4\n",
            "5                 Audi A5  59000.0        29400.0         5\n",
            "7                 Audi A5  72000.0        19300.0         6\n",
            "8                 Audi A5  91000.0        12000.0         8\n",
            "10  Mercedez Benz C class  83000.0        20000.0         7\n",
            "11  Mercedez Benz C class  79000.0        21000.0         7\n",
            "12  Mercedez Benz C class  59000.0        33000.0         5\n",
            "-------------------------------------------------------------------\n",
            "               Car Model  Mileage  Sell Price($)  Age(yrs)\n",
            "0                 BMW X5  69000.0        18000.0         6\n",
            "1                 BMW X5  35000.0        34000.0         3\n",
            "2                 BMW X5  57000.0        26100.0         5\n",
            "3                 BMW X5  46000.0        31500.0         4\n",
            "4                Audi A5  59000.0        29400.0         5\n",
            "5                Audi A5  72000.0        19300.0         6\n",
            "6                Audi A5  91000.0        12000.0         8\n",
            "7  Mercedez Benz C class  83000.0        20000.0         7\n",
            "8  Mercedez Benz C class  79000.0        21000.0         7\n",
            "9  Mercedez Benz C class  59000.0        33000.0         5\n"
          ],
          "name": "stdout"
        }
      ]
    },
    {
      "cell_type": "markdown",
      "metadata": {
        "id": "1PZDfaHhWDsw"
      },
      "source": [
        "### Filling NaN with Zeros"
      ]
    },
    {
      "cell_type": "code",
      "metadata": {
        "colab": {
          "base_uri": "https://localhost:8080/"
        },
        "id": "tfav_DnMWIn-",
        "outputId": "2995df73-4c91-48db-da46-db3e79bf781f"
      },
      "source": [
        "# Import the cars.csv data: cars\n",
        "carsM = pd.read_csv(\"./MachineLearning/1_Regression/carprices_missing.csv\")\n",
        "\n",
        "# Print out cars\n",
        "print(carsM)\n",
        "print('-------------------------------------------------------------------')\n",
        "\n",
        "\n",
        "carsM= carsM.fillna(0)\n",
        "print(carsM)"
      ],
      "execution_count": 285,
      "outputs": [
        {
          "output_type": "stream",
          "text": [
            "                Car Model  Mileage  Sell Price($)  Age(yrs)\n",
            "0                  BMW X5  69000.0        18000.0         6\n",
            "1                  BMW X5  35000.0        34000.0         3\n",
            "2                  BMW X5  57000.0        26100.0         5\n",
            "3                  BMW X5  22500.0            NaN         2\n",
            "4                  BMW X5  46000.0        31500.0         4\n",
            "5                 Audi A5  59000.0        29400.0         5\n",
            "6                 Audi A5      NaN        32000.0         5\n",
            "7                 Audi A5  72000.0        19300.0         6\n",
            "8                 Audi A5  91000.0        12000.0         8\n",
            "9   Mercedez Benz C class  67000.0            NaN         6\n",
            "10  Mercedez Benz C class  83000.0        20000.0         7\n",
            "11  Mercedez Benz C class  79000.0        21000.0         7\n",
            "12  Mercedez Benz C class  59000.0        33000.0         5\n",
            "-------------------------------------------------------------------\n",
            "                Car Model  Mileage  Sell Price($)  Age(yrs)\n",
            "0                  BMW X5  69000.0        18000.0         6\n",
            "1                  BMW X5  35000.0        34000.0         3\n",
            "2                  BMW X5  57000.0        26100.0         5\n",
            "3                  BMW X5  22500.0            0.0         2\n",
            "4                  BMW X5  46000.0        31500.0         4\n",
            "5                 Audi A5  59000.0        29400.0         5\n",
            "6                 Audi A5      0.0        32000.0         5\n",
            "7                 Audi A5  72000.0        19300.0         6\n",
            "8                 Audi A5  91000.0        12000.0         8\n",
            "9   Mercedez Benz C class  67000.0            0.0         6\n",
            "10  Mercedez Benz C class  83000.0        20000.0         7\n",
            "11  Mercedez Benz C class  79000.0        21000.0         7\n",
            "12  Mercedez Benz C class  59000.0        33000.0         5\n"
          ],
          "name": "stdout"
        }
      ]
    },
    {
      "cell_type": "markdown",
      "metadata": {
        "id": "eEqQ1JIHW51V"
      },
      "source": [
        ""
      ]
    },
    {
      "cell_type": "markdown",
      "metadata": {
        "id": "S_mgfsURW8fo"
      },
      "source": [
        "### Filling NaN with the Mean"
      ]
    },
    {
      "cell_type": "markdown",
      "metadata": {
        "id": "lK9VQ1BuXlBg"
      },
      "source": [
        "In the following code, we will fill the NaN in the **Sell Price(\\$)** with the mean of the **Sell Price($)** collumn."
      ]
    },
    {
      "cell_type": "code",
      "metadata": {
        "colab": {
          "base_uri": "https://localhost:8080/"
        },
        "id": "A8ws5KKXXe6D",
        "outputId": "ce0631b4-b069-4cfd-a731-2a5c380e7379"
      },
      "source": [
        "# Import the cars.csv data: cars\n",
        "carsM = pd.read_csv(\"./MachineLearning/1_Regression/carprices_missing.csv\")\n",
        "\n",
        "# Print out cars\n",
        "print(carsM)\n",
        "print('-------------------------------------------------------------------')\n",
        "\n",
        "m=cars['Mileage'].mean()\n",
        "carsM['Mileage'] = carsM['Mileage'].fillna(m)\n",
        "print(carsM)\n",
        "print(m)"
      ],
      "execution_count": 288,
      "outputs": [
        {
          "output_type": "stream",
          "text": [
            "                Car Model  Mileage  Sell Price($)  Age(yrs)\n",
            "0                  BMW X5  69000.0        18000.0         6\n",
            "1                  BMW X5  35000.0        34000.0         3\n",
            "2                  BMW X5  57000.0        26100.0         5\n",
            "3                  BMW X5  22500.0            NaN         2\n",
            "4                  BMW X5  46000.0        31500.0         4\n",
            "5                 Audi A5  59000.0        29400.0         5\n",
            "6                 Audi A5      NaN        32000.0         5\n",
            "7                 Audi A5  72000.0        19300.0         6\n",
            "8                 Audi A5  91000.0        12000.0         8\n",
            "9   Mercedez Benz C class  67000.0            NaN         6\n",
            "10  Mercedez Benz C class  83000.0        20000.0         7\n",
            "11  Mercedez Benz C class  79000.0        21000.0         7\n",
            "12  Mercedez Benz C class  59000.0        33000.0         5\n",
            "-------------------------------------------------------------------\n",
            "                Car Model  Mileage  Sell Price($)  Age(yrs)\n",
            "0                  BMW X5  69000.0        18000.0         6\n",
            "1                  BMW X5  35000.0        34000.0         3\n",
            "2                  BMW X5  57000.0        26100.0         5\n",
            "3                  BMW X5  22500.0            NaN         2\n",
            "4                  BMW X5  46000.0        31500.0         4\n",
            "5                 Audi A5  59000.0        29400.0         5\n",
            "6                 Audi A5  61625.0        32000.0         5\n",
            "7                 Audi A5  72000.0        19300.0         6\n",
            "8                 Audi A5  91000.0        12000.0         8\n",
            "9   Mercedez Benz C class  67000.0            NaN         6\n",
            "10  Mercedez Benz C class  83000.0        20000.0         7\n",
            "11  Mercedez Benz C class  79000.0        21000.0         7\n",
            "12  Mercedez Benz C class  59000.0        33000.0         5\n",
            "61625.0\n"
          ],
          "name": "stdout"
        }
      ]
    },
    {
      "cell_type": "markdown",
      "metadata": {
        "id": "bXyS6qoFXxQS"
      },
      "source": [
        "We will do the same for the **Age(yrs)** collumn"
      ]
    },
    {
      "cell_type": "code",
      "metadata": {
        "colab": {
          "base_uri": "https://localhost:8080/"
        },
        "id": "LCRKBA2BYAB7",
        "outputId": "a379302b-694e-43df-ae32-f7cc58847fae"
      },
      "source": [
        "# Print out cars\n",
        "print(carsM)\n",
        "print('-------------------------------------------------------------------')\n",
        "\n",
        "m=cars['Sell Price($)'].mean()\n",
        "carsM['Sell Price($)'] = carsM['Sell Price($)'].fillna(m)\n",
        "print(carsM)\n",
        "print(m)"
      ],
      "execution_count": 289,
      "outputs": [
        {
          "output_type": "stream",
          "text": [
            "                Car Model  Mileage  Sell Price($)  Age(yrs)\n",
            "0                  BMW X5  69000.0        18000.0         6\n",
            "1                  BMW X5  35000.0        34000.0         3\n",
            "2                  BMW X5  57000.0        26100.0         5\n",
            "3                  BMW X5  22500.0            NaN         2\n",
            "4                  BMW X5  46000.0        31500.0         4\n",
            "5                 Audi A5  59000.0        29400.0         5\n",
            "6                 Audi A5  61625.0        32000.0         5\n",
            "7                 Audi A5  72000.0        19300.0         6\n",
            "8                 Audi A5  91000.0        12000.0         8\n",
            "9   Mercedez Benz C class  67000.0            NaN         6\n",
            "10  Mercedez Benz C class  83000.0        20000.0         7\n",
            "11  Mercedez Benz C class  79000.0        21000.0         7\n",
            "12  Mercedez Benz C class  59000.0        33000.0         5\n",
            "-------------------------------------------------------------------\n",
            "                Car Model  Mileage  Sell Price($)  Age(yrs)\n",
            "0                  BMW X5  69000.0   18000.000000         6\n",
            "1                  BMW X5  35000.0   34000.000000         3\n",
            "2                  BMW X5  57000.0   26100.000000         5\n",
            "3                  BMW X5  22500.0   25118.181818         2\n",
            "4                  BMW X5  46000.0   31500.000000         4\n",
            "5                 Audi A5  59000.0   29400.000000         5\n",
            "6                 Audi A5  61625.0   32000.000000         5\n",
            "7                 Audi A5  72000.0   19300.000000         6\n",
            "8                 Audi A5  91000.0   12000.000000         8\n",
            "9   Mercedez Benz C class  67000.0   25118.181818         6\n",
            "10  Mercedez Benz C class  83000.0   20000.000000         7\n",
            "11  Mercedez Benz C class  79000.0   21000.000000         7\n",
            "12  Mercedez Benz C class  59000.0   33000.000000         5\n",
            "25118.18181818182\n"
          ],
          "name": "stdout"
        }
      ]
    },
    {
      "cell_type": "markdown",
      "metadata": {
        "id": "K9MiPt6IH_vc"
      },
      "source": [
        "##Exercise 3.1: \n",
        "A Retail Data Customer Summary database is downloaded from Kaglle.com (https://www.kaggle.com/funxexcel/retail-data-customer-summary-learn-pandas-basics). The database is stored in the \"./MachineLearning/1_Regression/1_Sales.csv\" file. Write a pythone code to read the .csv file. Then use the data in this file to determine the following \\\\\n",
        "\n",
        "\n"
      ]
    },
    {
      "cell_type": "code",
      "metadata": {
        "id": "olDEJIcXLpjx"
      },
      "source": [
        "##Read the .csv file here\n"
      ],
      "execution_count": 233,
      "outputs": []
    },
    {
      "cell_type": "markdown",
      "metadata": {
        "id": "zjhYEa0QLhMT"
      },
      "source": [
        "1- The average Sales of Amy \\\\"
      ]
    },
    {
      "cell_type": "code",
      "metadata": {
        "id": "Fv4ped2sLx5R"
      },
      "source": [
        "## Write your code here\n"
      ],
      "execution_count": 234,
      "outputs": []
    },
    {
      "cell_type": "markdown",
      "metadata": {
        "id": "tobZLAEtLCHM"
      },
      "source": [
        "2- The total Sales of Amy \\\\"
      ]
    },
    {
      "cell_type": "code",
      "metadata": {
        "id": "aDE3jgfvLy43"
      },
      "source": [
        "## Write your code here\n"
      ],
      "execution_count": 235,
      "outputs": []
    },
    {
      "cell_type": "markdown",
      "metadata": {
        "id": "zqUTnSJ5LEkp"
      },
      "source": [
        "3- The average units sold by Amy \\\\"
      ]
    },
    {
      "cell_type": "code",
      "metadata": {
        "id": "LL5nMPOVL0Xw"
      },
      "source": [
        "## Write your code here\n"
      ],
      "execution_count": 236,
      "outputs": []
    },
    {
      "cell_type": "markdown",
      "metadata": {
        "id": "zO8n7cIoLGsv"
      },
      "source": [
        "4- The total units sold by Amy \\\\"
      ]
    },
    {
      "cell_type": "code",
      "metadata": {
        "id": "Yzo0STirL1qR"
      },
      "source": [
        "## Write your code here\n"
      ],
      "execution_count": 237,
      "outputs": []
    },
    {
      "cell_type": "markdown",
      "metadata": {
        "id": "B2hom3AlLIn0"
      },
      "source": [
        "5- The average Sales of Amy and Bob \\\\"
      ]
    },
    {
      "cell_type": "code",
      "metadata": {
        "id": "dJM7TPJgL2mT"
      },
      "source": [
        "## Write your code here\n"
      ],
      "execution_count": 238,
      "outputs": []
    },
    {
      "cell_type": "markdown",
      "metadata": {
        "id": "yumphDzoLKhY"
      },
      "source": [
        "6- The total Sales of Amy and Bob \\\\"
      ]
    },
    {
      "cell_type": "code",
      "metadata": {
        "id": "9z6VqbSrL382"
      },
      "source": [
        "## Write your code here\n"
      ],
      "execution_count": 239,
      "outputs": []
    },
    {
      "cell_type": "markdown",
      "metadata": {
        "id": "RfuqbgXPLMeU"
      },
      "source": [
        "7- The average units sold by Amy and Bob \\\\"
      ]
    },
    {
      "cell_type": "code",
      "metadata": {
        "id": "HEYR9jfFL405"
      },
      "source": [
        "## Write your code here\n"
      ],
      "execution_count": 240,
      "outputs": []
    },
    {
      "cell_type": "markdown",
      "metadata": {
        "id": "fzmaM1z-LOYL"
      },
      "source": [
        "8- The total units sold by Amy and Bob \\\\"
      ]
    },
    {
      "cell_type": "code",
      "metadata": {
        "id": "CN7OBLtQL52y"
      },
      "source": [
        "## Write your code here\n"
      ],
      "execution_count": 241,
      "outputs": []
    },
    {
      "cell_type": "markdown",
      "metadata": {
        "id": "W3ssz5QLLQVN"
      },
      "source": [
        "9- The Total items sold by all sales representatives in Jan \\\\"
      ]
    },
    {
      "cell_type": "code",
      "metadata": {
        "id": "ZbzkB-M0L66W"
      },
      "source": [
        "## Write your code here\n"
      ],
      "execution_count": 242,
      "outputs": []
    },
    {
      "cell_type": "markdown",
      "metadata": {
        "id": "Qg6PYgdYLSZB"
      },
      "source": [
        "10- The Total items sold by all sales representatives in Jan and Feb"
      ]
    },
    {
      "cell_type": "code",
      "metadata": {
        "id": "qwxE48NyL7yI"
      },
      "source": [
        "## Write your code here\n"
      ],
      "execution_count": 243,
      "outputs": []
    },
    {
      "cell_type": "markdown",
      "metadata": {
        "id": "lRn8oWrtMBlK"
      },
      "source": [
        "11-Replace 'NaN' with the mean values of the corresponding collumn."
      ]
    },
    {
      "cell_type": "code",
      "metadata": {
        "id": "tYIFrudWFObl"
      },
      "source": [
        "## Write your code here"
      ],
      "execution_count": 244,
      "outputs": []
    },
    {
      "cell_type": "markdown",
      "metadata": {
        "id": "w96tLzrkYfkl"
      },
      "source": [
        "##Exercise 3.2:\n",
        "For the car prices database with missing information used in previous examples (stored in a .csv file in \"./MachineLearning/1_Regression/carprices_missing.csv\"). Try to replace the 'NAN' for each of the following cases:"
      ]
    },
    {
      "cell_type": "markdown",
      "metadata": {
        "id": "AF5BRKCWZaKJ"
      },
      "source": [
        "1- By using the mean of the same car models."
      ]
    },
    {
      "cell_type": "code",
      "metadata": {
        "id": "9VNNeivGaI5P"
      },
      "source": [
        "##Read the .csv file here\n"
      ],
      "execution_count": null,
      "outputs": []
    },
    {
      "cell_type": "markdown",
      "metadata": {
        "id": "9AM_m3Z_Zhs6"
      },
      "source": [
        "2- By using the mean of the cars that has the same Age(yrs) value"
      ]
    },
    {
      "cell_type": "code",
      "metadata": {
        "id": "yuxUETWgaJpg"
      },
      "source": [
        "##Read the .csv file here\n"
      ],
      "execution_count": null,
      "outputs": []
    },
    {
      "cell_type": "markdown",
      "metadata": {
        "id": "F_Ic0XsdZsd_"
      },
      "source": [
        "3- By using the mean of the cars that has Mileage value withing 10% of its mileage value. This is for NaN not in the 'Mileage' collumn."
      ]
    },
    {
      "cell_type": "code",
      "metadata": {
        "id": "31obZFkpaKxb"
      },
      "source": [
        "##Read the .csv file here\n"
      ],
      "execution_count": null,
      "outputs": []
    },
    {
      "cell_type": "markdown",
      "metadata": {
        "id": "oQEydiP2eOMs"
      },
      "source": [
        "##Exercise 3.3\n",
        "Repeat the examples in this tutorial using the Median."
      ]
    },
    {
      "cell_type": "markdown",
      "metadata": {
        "id": "VQufEoFWetXb"
      },
      "source": [
        "##Exercise 3.4\n",
        "Repeat the examples in this tutorial using the mode."
      ]
    },
    {
      "cell_type": "markdown",
      "metadata": {
        "id": "zRn__PNze46e"
      },
      "source": [
        "##Exercise 3.5\n",
        "Redo Excercise 3.1 using the median."
      ]
    },
    {
      "cell_type": "markdown",
      "metadata": {
        "id": "Pck5wUimfDEv"
      },
      "source": [
        "##Exercise 3.6\n",
        "Redo Excercise 3.1 using the mode."
      ]
    },
    {
      "cell_type": "markdown",
      "metadata": {
        "id": "DQ0IGTI-fN8y"
      },
      "source": [
        "##Exercise 3.7\n",
        "Redo Excercise 3.2 using the median."
      ]
    },
    {
      "cell_type": "markdown",
      "metadata": {
        "id": "sUnBv9TcfQVr"
      },
      "source": [
        "##Exercise 3.8\n",
        "Redo Excercise 3.2 using the mode."
      ]
    },
    {
      "cell_type": "markdown",
      "metadata": {
        "id": "JdD5ccdBHYtp"
      },
      "source": [
        "# References\n",
        "\n",
        "The material of this notebook excluding the exercises are selected from \\\\\n",
        "[1] w3schools : https://www.w3schools.com/python/python_ml_mean_median_mode.asp \\\\\n",
        "[2] DataFish : https://datatofish.com/replace-nan-values-with-zeros/\\\\\n",
        "[3] geeks for geeks : https://www.geeksforgeeks.org/python-pandas-dataframe-mean/#:~:text=mean()%20function%20return%20the,the%20observations%20in%20the%20dataframe."
      ]
    }
  ]
}